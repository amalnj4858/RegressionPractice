{
  "nbformat": 4,
  "nbformat_minor": 0,
  "metadata": {
    "colab": {
      "name": "RegPractice.ipynb",
      "provenance": [],
      "collapsed_sections": []
    },
    "kernelspec": {
      "name": "python3",
      "display_name": "Python 3"
    }
  },
  "cells": [
    {
      "cell_type": "code",
      "metadata": {
        "id": "94Kx8y19FEj3",
        "colab_type": "code",
        "colab": {
          "base_uri": "https://localhost:8080/",
          "height": 70
        },
        "outputId": "4cc42e50-1af2-4699-866e-2703e7f79c5b"
      },
      "source": [
        "import pandas as pd\n",
        "import numpy as np\n",
        "import seaborn as sns\n",
        "import matplotlib.pyplot as plt"
      ],
      "execution_count": null,
      "outputs": [
        {
          "output_type": "stream",
          "text": [
            "/usr/local/lib/python3.6/dist-packages/statsmodels/tools/_testing.py:19: FutureWarning: pandas.util.testing is deprecated. Use the functions in the public API at pandas.testing instead.\n",
            "  import pandas.util.testing as tm\n"
          ],
          "name": "stderr"
        }
      ]
    },
    {
      "cell_type": "code",
      "metadata": {
        "id": "HnvhWAGTFbyH",
        "colab_type": "code",
        "colab": {}
      },
      "source": [
        "data = pd.read_csv('/content/student-mat.csv', sep = ';')"
      ],
      "execution_count": null,
      "outputs": []
    },
    {
      "cell_type": "code",
      "metadata": {
        "id": "11ejehXBFzQr",
        "colab_type": "code",
        "colab": {
          "base_uri": "https://localhost:8080/",
          "height": 215
        },
        "outputId": "3014570d-4018-4633-d18a-26e86f899841"
      },
      "source": [
        "data.head()"
      ],
      "execution_count": null,
      "outputs": [
        {
          "output_type": "execute_result",
          "data": {
            "text/html": [
              "<div>\n",
              "<style scoped>\n",
              "    .dataframe tbody tr th:only-of-type {\n",
              "        vertical-align: middle;\n",
              "    }\n",
              "\n",
              "    .dataframe tbody tr th {\n",
              "        vertical-align: top;\n",
              "    }\n",
              "\n",
              "    .dataframe thead th {\n",
              "        text-align: right;\n",
              "    }\n",
              "</style>\n",
              "<table border=\"1\" class=\"dataframe\">\n",
              "  <thead>\n",
              "    <tr style=\"text-align: right;\">\n",
              "      <th></th>\n",
              "      <th>school</th>\n",
              "      <th>sex</th>\n",
              "      <th>age</th>\n",
              "      <th>address</th>\n",
              "      <th>famsize</th>\n",
              "      <th>Pstatus</th>\n",
              "      <th>Medu</th>\n",
              "      <th>Fedu</th>\n",
              "      <th>Mjob</th>\n",
              "      <th>Fjob</th>\n",
              "      <th>reason</th>\n",
              "      <th>guardian</th>\n",
              "      <th>traveltime</th>\n",
              "      <th>studytime</th>\n",
              "      <th>failures</th>\n",
              "      <th>schoolsup</th>\n",
              "      <th>famsup</th>\n",
              "      <th>paid</th>\n",
              "      <th>activities</th>\n",
              "      <th>nursery</th>\n",
              "      <th>higher</th>\n",
              "      <th>internet</th>\n",
              "      <th>romantic</th>\n",
              "      <th>famrel</th>\n",
              "      <th>freetime</th>\n",
              "      <th>goout</th>\n",
              "      <th>Dalc</th>\n",
              "      <th>Walc</th>\n",
              "      <th>health</th>\n",
              "      <th>absences</th>\n",
              "      <th>G1</th>\n",
              "      <th>G2</th>\n",
              "      <th>G3</th>\n",
              "    </tr>\n",
              "  </thead>\n",
              "  <tbody>\n",
              "    <tr>\n",
              "      <th>0</th>\n",
              "      <td>GP</td>\n",
              "      <td>F</td>\n",
              "      <td>18</td>\n",
              "      <td>U</td>\n",
              "      <td>GT3</td>\n",
              "      <td>A</td>\n",
              "      <td>4</td>\n",
              "      <td>4</td>\n",
              "      <td>at_home</td>\n",
              "      <td>teacher</td>\n",
              "      <td>course</td>\n",
              "      <td>mother</td>\n",
              "      <td>2</td>\n",
              "      <td>2</td>\n",
              "      <td>0</td>\n",
              "      <td>yes</td>\n",
              "      <td>no</td>\n",
              "      <td>no</td>\n",
              "      <td>no</td>\n",
              "      <td>yes</td>\n",
              "      <td>yes</td>\n",
              "      <td>no</td>\n",
              "      <td>no</td>\n",
              "      <td>4</td>\n",
              "      <td>3</td>\n",
              "      <td>4</td>\n",
              "      <td>1</td>\n",
              "      <td>1</td>\n",
              "      <td>3</td>\n",
              "      <td>6</td>\n",
              "      <td>5</td>\n",
              "      <td>6</td>\n",
              "      <td>6</td>\n",
              "    </tr>\n",
              "    <tr>\n",
              "      <th>1</th>\n",
              "      <td>GP</td>\n",
              "      <td>F</td>\n",
              "      <td>17</td>\n",
              "      <td>U</td>\n",
              "      <td>GT3</td>\n",
              "      <td>T</td>\n",
              "      <td>1</td>\n",
              "      <td>1</td>\n",
              "      <td>at_home</td>\n",
              "      <td>other</td>\n",
              "      <td>course</td>\n",
              "      <td>father</td>\n",
              "      <td>1</td>\n",
              "      <td>2</td>\n",
              "      <td>0</td>\n",
              "      <td>no</td>\n",
              "      <td>yes</td>\n",
              "      <td>no</td>\n",
              "      <td>no</td>\n",
              "      <td>no</td>\n",
              "      <td>yes</td>\n",
              "      <td>yes</td>\n",
              "      <td>no</td>\n",
              "      <td>5</td>\n",
              "      <td>3</td>\n",
              "      <td>3</td>\n",
              "      <td>1</td>\n",
              "      <td>1</td>\n",
              "      <td>3</td>\n",
              "      <td>4</td>\n",
              "      <td>5</td>\n",
              "      <td>5</td>\n",
              "      <td>6</td>\n",
              "    </tr>\n",
              "    <tr>\n",
              "      <th>2</th>\n",
              "      <td>GP</td>\n",
              "      <td>F</td>\n",
              "      <td>15</td>\n",
              "      <td>U</td>\n",
              "      <td>LE3</td>\n",
              "      <td>T</td>\n",
              "      <td>1</td>\n",
              "      <td>1</td>\n",
              "      <td>at_home</td>\n",
              "      <td>other</td>\n",
              "      <td>other</td>\n",
              "      <td>mother</td>\n",
              "      <td>1</td>\n",
              "      <td>2</td>\n",
              "      <td>3</td>\n",
              "      <td>yes</td>\n",
              "      <td>no</td>\n",
              "      <td>yes</td>\n",
              "      <td>no</td>\n",
              "      <td>yes</td>\n",
              "      <td>yes</td>\n",
              "      <td>yes</td>\n",
              "      <td>no</td>\n",
              "      <td>4</td>\n",
              "      <td>3</td>\n",
              "      <td>2</td>\n",
              "      <td>2</td>\n",
              "      <td>3</td>\n",
              "      <td>3</td>\n",
              "      <td>10</td>\n",
              "      <td>7</td>\n",
              "      <td>8</td>\n",
              "      <td>10</td>\n",
              "    </tr>\n",
              "    <tr>\n",
              "      <th>3</th>\n",
              "      <td>GP</td>\n",
              "      <td>F</td>\n",
              "      <td>15</td>\n",
              "      <td>U</td>\n",
              "      <td>GT3</td>\n",
              "      <td>T</td>\n",
              "      <td>4</td>\n",
              "      <td>2</td>\n",
              "      <td>health</td>\n",
              "      <td>services</td>\n",
              "      <td>home</td>\n",
              "      <td>mother</td>\n",
              "      <td>1</td>\n",
              "      <td>3</td>\n",
              "      <td>0</td>\n",
              "      <td>no</td>\n",
              "      <td>yes</td>\n",
              "      <td>yes</td>\n",
              "      <td>yes</td>\n",
              "      <td>yes</td>\n",
              "      <td>yes</td>\n",
              "      <td>yes</td>\n",
              "      <td>yes</td>\n",
              "      <td>3</td>\n",
              "      <td>2</td>\n",
              "      <td>2</td>\n",
              "      <td>1</td>\n",
              "      <td>1</td>\n",
              "      <td>5</td>\n",
              "      <td>2</td>\n",
              "      <td>15</td>\n",
              "      <td>14</td>\n",
              "      <td>15</td>\n",
              "    </tr>\n",
              "    <tr>\n",
              "      <th>4</th>\n",
              "      <td>GP</td>\n",
              "      <td>F</td>\n",
              "      <td>16</td>\n",
              "      <td>U</td>\n",
              "      <td>GT3</td>\n",
              "      <td>T</td>\n",
              "      <td>3</td>\n",
              "      <td>3</td>\n",
              "      <td>other</td>\n",
              "      <td>other</td>\n",
              "      <td>home</td>\n",
              "      <td>father</td>\n",
              "      <td>1</td>\n",
              "      <td>2</td>\n",
              "      <td>0</td>\n",
              "      <td>no</td>\n",
              "      <td>yes</td>\n",
              "      <td>yes</td>\n",
              "      <td>no</td>\n",
              "      <td>yes</td>\n",
              "      <td>yes</td>\n",
              "      <td>no</td>\n",
              "      <td>no</td>\n",
              "      <td>4</td>\n",
              "      <td>3</td>\n",
              "      <td>2</td>\n",
              "      <td>1</td>\n",
              "      <td>2</td>\n",
              "      <td>5</td>\n",
              "      <td>4</td>\n",
              "      <td>6</td>\n",
              "      <td>10</td>\n",
              "      <td>10</td>\n",
              "    </tr>\n",
              "  </tbody>\n",
              "</table>\n",
              "</div>"
            ],
            "text/plain": [
              "  school sex  age address famsize Pstatus  ...  Walc  health absences  G1  G2  G3\n",
              "0     GP   F   18       U     GT3       A  ...     1       3        6   5   6   6\n",
              "1     GP   F   17       U     GT3       T  ...     1       3        4   5   5   6\n",
              "2     GP   F   15       U     LE3       T  ...     3       3       10   7   8  10\n",
              "3     GP   F   15       U     GT3       T  ...     1       5        2  15  14  15\n",
              "4     GP   F   16       U     GT3       T  ...     2       5        4   6  10  10\n",
              "\n",
              "[5 rows x 33 columns]"
            ]
          },
          "metadata": {
            "tags": []
          },
          "execution_count": 3
        }
      ]
    },
    {
      "cell_type": "code",
      "metadata": {
        "id": "BO8NeXTzF1wW",
        "colab_type": "code",
        "colab": {
          "base_uri": "https://localhost:8080/",
          "height": 296
        },
        "outputId": "05be5eec-2261-4f11-ff1c-09fc4bb9e4d7"
      },
      "source": [
        "sns.boxplot(data['sex'],data['G3'])"
      ],
      "execution_count": null,
      "outputs": [
        {
          "output_type": "execute_result",
          "data": {
            "text/plain": [
              "<matplotlib.axes._subplots.AxesSubplot at 0x7f994696c5c0>"
            ]
          },
          "metadata": {
            "tags": []
          },
          "execution_count": 7
        },
        {
          "output_type": "display_data",
          "data": {
            "image/png": "[encoded data removed]",
            "text/plain": [
              "<Figure size 432x288 with 1 Axes>"
            ]
          },
          "metadata": {
            "tags": [],
            "needs_background": "light"
          }
        }
      ]
    },
    {
      "cell_type": "code",
      "metadata": {
        "id": "Z5UETn8nGxCL",
        "colab_type": "code",
        "colab": {
          "base_uri": "https://localhost:8080/",
          "height": 67
        },
        "outputId": "d5e75b16-6478-4061-96b3-bac23db6af4c"
      },
      "source": [
        "data['school'].value_counts()"
      ],
      "execution_count": null,
      "outputs": [
        {
          "output_type": "execute_result",
          "data": {
            "text/plain": [
              "GP    349\n",
              "MS     46\n",
              "Name: school, dtype: int64"
            ]
          },
          "metadata": {
            "tags": []
          },
          "execution_count": 9
        }
      ]
    },
    {
      "cell_type": "code",
      "metadata": {
        "id": "0ZqZ379JG6Yj",
        "colab_type": "code",
        "colab": {
          "base_uri": "https://localhost:8080/",
          "height": 296
        },
        "outputId": "9b886b52-00cc-479e-ce83-25a2cb940b6c"
      },
      "source": [
        "sns.boxplot(data['school'],data['G3'])"
      ],
      "execution_count": null,
      "outputs": [
        {
          "output_type": "execute_result",
          "data": {
            "text/plain": [
              "<matplotlib.axes._subplots.AxesSubplot at 0x7f99489d17b8>"
            ]
          },
          "metadata": {
            "tags": []
          },
          "execution_count": 10
        },
        {
          "output_type": "display_data",
          "data": {
            "image/png": "[encoded data removed]",
            "text/plain": [
              "<Figure size 432x288 with 1 Axes>"
            ]
          },
          "metadata": {
            "tags": [],
            "needs_background": "light"
          }
        }
      ]
    },
    {
      "cell_type": "code",
      "metadata": {
        "id": "5B5848whHF3o",
        "colab_type": "code",
        "colab": {
          "base_uri": "https://localhost:8080/",
          "height": 296
        },
        "outputId": "a1b7b89e-de7c-4016-ac45-d88750bda2f9"
      },
      "source": [
        "sns.boxplot(data['age'],data['G3'])"
      ],
      "execution_count": null,
      "outputs": [
        {
          "output_type": "execute_result",
          "data": {
            "text/plain": [
              "<matplotlib.axes._subplots.AxesSubplot at 0x7f994628ab00>"
            ]
          },
          "metadata": {
            "tags": []
          },
          "execution_count": 11
        },
        {
          "output_type": "display_data",
          "data": {
            "image/png": "[encoded data removed]",
            "text/plain": [
              "<Figure size 432x288 with 1 Axes>"
            ]
          },
          "metadata": {
            "tags": [],
            "needs_background": "light"
          }
        }
      ]
    },
    {
      "cell_type": "code",
      "metadata": {
        "id": "cvW5z1zsHSoD",
        "colab_type": "code",
        "colab": {
          "base_uri": "https://localhost:8080/",
          "height": 67
        },
        "outputId": "13977250-fd1d-4ca6-ab13-dfa843ea39c6"
      },
      "source": [
        "data['address'].value_counts()"
      ],
      "execution_count": null,
      "outputs": [
        {
          "output_type": "execute_result",
          "data": {
            "text/plain": [
              "U    307\n",
              "R     88\n",
              "Name: address, dtype: int64"
            ]
          },
          "metadata": {
            "tags": []
          },
          "execution_count": 12
        }
      ]
    },
    {
      "cell_type": "code",
      "metadata": {
        "id": "nduSdrtiHq-5",
        "colab_type": "code",
        "colab": {
          "base_uri": "https://localhost:8080/",
          "height": 296
        },
        "outputId": "320b8616-2f56-4b05-b6a9-8c10a89277a3"
      },
      "source": [
        "sns.boxplot(data['address'],data['G3'])"
      ],
      "execution_count": null,
      "outputs": [
        {
          "output_type": "execute_result",
          "data": {
            "text/plain": [
              "<matplotlib.axes._subplots.AxesSubplot at 0x7f9946174ba8>"
            ]
          },
          "metadata": {
            "tags": []
          },
          "execution_count": 15
        },
        {
          "output_type": "display_data",
          "data": {
            "image/png": "[encoded data removed]",
            "text/plain": [
              "<Figure size 432x288 with 1 Axes>"
            ]
          },
          "metadata": {
            "tags": [],
            "needs_background": "light"
          }
        }
      ]
    },
    {
      "cell_type": "code",
      "metadata": {
        "id": "aGo1Bp2wH7km",
        "colab_type": "code",
        "colab": {
          "base_uri": "https://localhost:8080/",
          "height": 296
        },
        "outputId": "bb009760-4588-4258-cf77-e6204097716e"
      },
      "source": [
        "sns.boxplot(data['famsize'],data['G3'])"
      ],
      "execution_count": null,
      "outputs": [
        {
          "output_type": "execute_result",
          "data": {
            "text/plain": [
              "<matplotlib.axes._subplots.AxesSubplot at 0x7f9946082a58>"
            ]
          },
          "metadata": {
            "tags": []
          },
          "execution_count": 16
        },
        {
          "output_type": "display_data",
          "data": {
            "image/png": "[encoded data removed]",
            "text/plain": [
              "<Figure size 432x288 with 1 Axes>"
            ]
          },
          "metadata": {
            "tags": [],
            "needs_background": "light"
          }
        }
      ]
    },
    {
      "cell_type": "code",
      "metadata": {
        "id": "k4byXAawIn4s",
        "colab_type": "code",
        "colab": {
          "base_uri": "https://localhost:8080/",
          "height": 296
        },
        "outputId": "01e02364-bc0d-4783-f81d-eb2480ab2db7"
      },
      "source": [
        "sns.boxplot(data['Pstatus'],data['G3'])"
      ],
      "execution_count": null,
      "outputs": [
        {
          "output_type": "execute_result",
          "data": {
            "text/plain": [
              "<matplotlib.axes._subplots.AxesSubplot at 0x7f9945fdbac8>"
            ]
          },
          "metadata": {
            "tags": []
          },
          "execution_count": 19
        },
        {
          "output_type": "display_data",
          "data": {
            "image/png": "[encoded data removed]",
            "text/plain": [
              "<Figure size 432x288 with 1 Axes>"
            ]
          },
          "metadata": {
            "tags": [],
            "needs_background": "light"
          }
        }
      ]
    },
    {
      "cell_type": "code",
      "metadata": {
        "id": "2LRghMVEJKpg",
        "colab_type": "code",
        "colab": {
          "base_uri": "https://localhost:8080/",
          "height": 422
        },
        "outputId": "ec2677a5-74e0-4d57-f466-b9f108f1c4a3"
      },
      "source": [
        "data.isnull()"
      ],
      "execution_count": null,
      "outputs": [
        {
          "output_type": "execute_result",
          "data": {
            "text/html": [
              "<div>\n",
              "<style scoped>\n",
              "    .dataframe tbody tr th:only-of-type {\n",
              "        vertical-align: middle;\n",
              "    }\n",
              "\n",
              "    .dataframe tbody tr th {\n",
              "        vertical-align: top;\n",
              "    }\n",
              "\n",
              "    .dataframe thead th {\n",
              "        text-align: right;\n",
              "    }\n",
              "</style>\n",
              "<table border=\"1\" class=\"dataframe\">\n",
              "  <thead>\n",
              "    <tr style=\"text-align: right;\">\n",
              "      <th></th>\n",
              "      <th>school</th>\n",
              "      <th>sex</th>\n",
              "      <th>age</th>\n",
              "      <th>address</th>\n",
              "      <th>famsize</th>\n",
              "      <th>Pstatus</th>\n",
              "      <th>Medu</th>\n",
              "      <th>Fedu</th>\n",
              "      <th>Mjob</th>\n",
              "      <th>Fjob</th>\n",
              "      <th>reason</th>\n",
              "      <th>guardian</th>\n",
              "      <th>traveltime</th>\n",
              "      <th>studytime</th>\n",
              "      <th>failures</th>\n",
              "      <th>schoolsup</th>\n",
              "      <th>famsup</th>\n",
              "      <th>paid</th>\n",
              "      <th>activities</th>\n",
              "      <th>nursery</th>\n",
              "      <th>higher</th>\n",
              "      <th>internet</th>\n",
              "      <th>romantic</th>\n",
              "      <th>famrel</th>\n",
              "      <th>freetime</th>\n",
              "      <th>goout</th>\n",
              "      <th>Dalc</th>\n",
              "      <th>Walc</th>\n",
              "      <th>health</th>\n",
              "      <th>absences</th>\n",
              "      <th>G1</th>\n",
              "      <th>G2</th>\n",
              "      <th>G3</th>\n",
              "    </tr>\n",
              "  </thead>\n",
              "  <tbody>\n",
              "    <tr>\n",
              "      <th>0</th>\n",
              "      <td>False</td>\n",
              "      <td>False</td>\n",
              "      <td>False</td>\n",
              "      <td>False</td>\n",
              "      <td>False</td>\n",
              "      <td>False</td>\n",
              "      <td>False</td>\n",
              "      <td>False</td>\n",
              "      <td>False</td>\n",
              "      <td>False</td>\n",
              "      <td>False</td>\n",
              "      <td>False</td>\n",
              "      <td>False</td>\n",
              "      <td>False</td>\n",
              "      <td>False</td>\n",
              "      <td>False</td>\n",
              "      <td>False</td>\n",
              "      <td>False</td>\n",
              "      <td>False</td>\n",
              "      <td>False</td>\n",
              "      <td>False</td>\n",
              "      <td>False</td>\n",
              "      <td>False</td>\n",
              "      <td>False</td>\n",
              "      <td>False</td>\n",
              "      <td>False</td>\n",
              "      <td>False</td>\n",
              "      <td>False</td>\n",
              "      <td>False</td>\n",
              "      <td>False</td>\n",
              "      <td>False</td>\n",
              "      <td>False</td>\n",
              "      <td>False</td>\n",
              "    </tr>\n",
              "    <tr>\n",
              "      <th>1</th>\n",
              "      <td>False</td>\n",
              "      <td>False</td>\n",
              "      <td>False</td>\n",
              "      <td>False</td>\n",
              "      <td>False</td>\n",
              "      <td>False</td>\n",
              "      <td>False</td>\n",
              "      <td>False</td>\n",
              "      <td>False</td>\n",
              "      <td>False</td>\n",
              "      <td>False</td>\n",
              "      <td>False</td>\n",
              "      <td>False</td>\n",
              "      <td>False</td>\n",
              "      <td>False</td>\n",
              "      <td>False</td>\n",
              "      <td>False</td>\n",
              "      <td>False</td>\n",
              "      <td>False</td>\n",
              "      <td>False</td>\n",
              "      <td>False</td>\n",
              "      <td>False</td>\n",
              "      <td>False</td>\n",
              "      <td>False</td>\n",
              "      <td>False</td>\n",
              "      <td>False</td>\n",
              "      <td>False</td>\n",
              "      <td>False</td>\n",
              "      <td>False</td>\n",
              "      <td>False</td>\n",
              "      <td>False</td>\n",
              "      <td>False</td>\n",
              "      <td>False</td>\n",
              "    </tr>\n",
              "    <tr>\n",
              "      <th>2</th>\n",
              "      <td>False</td>\n",
              "      <td>False</td>\n",
              "      <td>False</td>\n",
              "      <td>False</td>\n",
              "      <td>False</td>\n",
              "      <td>False</td>\n",
              "      <td>False</td>\n",
              "      <td>False</td>\n",
              "      <td>False</td>\n",
              "      <td>False</td>\n",
              "      <td>False</td>\n",
              "      <td>False</td>\n",
              "      <td>False</td>\n",
              "      <td>False</td>\n",
              "      <td>False</td>\n",
              "      <td>False</td>\n",
              "      <td>False</td>\n",
              "      <td>False</td>\n",
              "      <td>False</td>\n",
              "      <td>False</td>\n",
              "      <td>False</td>\n",
              "      <td>False</td>\n",
              "      <td>False</td>\n",
              "      <td>False</td>\n",
              "      <td>False</td>\n",
              "      <td>False</td>\n",
              "      <td>False</td>\n",
              "      <td>False</td>\n",
              "      <td>False</td>\n",
              "      <td>False</td>\n",
              "      <td>False</td>\n",
              "      <td>False</td>\n",
              "      <td>False</td>\n",
              "    </tr>\n",
              "    <tr>\n",
              "      <th>3</th>\n",
              "      <td>False</td>\n",
              "      <td>False</td>\n",
              "      <td>False</td>\n",
              "      <td>False</td>\n",
              "      <td>False</td>\n",
              "      <td>False</td>\n",
              "      <td>False</td>\n",
              "      <td>False</td>\n",
              "      <td>False</td>\n",
              "      <td>False</td>\n",
              "      <td>False</td>\n",
              "      <td>False</td>\n",
              "      <td>False</td>\n",
              "      <td>False</td>\n",
              "      <td>False</td>\n",
              "      <td>False</td>\n",
              "      <td>False</td>\n",
              "      <td>False</td>\n",
              "      <td>False</td>\n",
              "      <td>False</td>\n",
              "      <td>False</td>\n",
              "      <td>False</td>\n",
              "      <td>False</td>\n",
              "      <td>False</td>\n",
              "      <td>False</td>\n",
              "      <td>False</td>\n",
              "      <td>False</td>\n",
              "      <td>False</td>\n",
              "      <td>False</td>\n",
              "      <td>False</td>\n",
              "      <td>False</td>\n",
              "      <td>False</td>\n",
              "      <td>False</td>\n",
              "    </tr>\n",
              "    <tr>\n",
              "      <th>4</th>\n",
              "      <td>False</td>\n",
              "      <td>False</td>\n",
              "      <td>False</td>\n",
              "      <td>False</td>\n",
              "      <td>False</td>\n",
              "      <td>False</td>\n",
              "      <td>False</td>\n",
              "      <td>False</td>\n",
              "      <td>False</td>\n",
              "      <td>False</td>\n",
              "      <td>False</td>\n",
              "      <td>False</td>\n",
              "      <td>False</td>\n",
              "      <td>False</td>\n",
              "      <td>False</td>\n",
              "      <td>False</td>\n",
              "      <td>False</td>\n",
              "      <td>False</td>\n",
              "      <td>False</td>\n",
              "      <td>False</td>\n",
              "      <td>False</td>\n",
              "      <td>False</td>\n",
              "      <td>False</td>\n",
              "      <td>False</td>\n",
              "      <td>False</td>\n",
              "      <td>False</td>\n",
              "      <td>False</td>\n",
              "      <td>False</td>\n",
              "      <td>False</td>\n",
              "      <td>False</td>\n",
              "      <td>False</td>\n",
              "      <td>False</td>\n",
              "      <td>False</td>\n",
              "    </tr>\n",
              "    <tr>\n",
              "      <th>...</th>\n",
              "      <td>...</td>\n",
              "      <td>...</td>\n",
              "      <td>...</td>\n",
              "      <td>...</td>\n",
              "      <td>...</td>\n",
              "      <td>...</td>\n",
              "      <td>...</td>\n",
              "      <td>...</td>\n",
              "      <td>...</td>\n",
              "      <td>...</td>\n",
              "      <td>...</td>\n",
              "      <td>...</td>\n",
              "      <td>...</td>\n",
              "      <td>...</td>\n",
              "      <td>...</td>\n",
              "      <td>...</td>\n",
              "      <td>...</td>\n",
              "      <td>...</td>\n",
              "      <td>...</td>\n",
              "      <td>...</td>\n",
              "      <td>...</td>\n",
              "      <td>...</td>\n",
              "      <td>...</td>\n",
              "      <td>...</td>\n",
              "      <td>...</td>\n",
              "      <td>...</td>\n",
              "      <td>...</td>\n",
              "      <td>...</td>\n",
              "      <td>...</td>\n",
              "      <td>...</td>\n",
              "      <td>...</td>\n",
              "      <td>...</td>\n",
              "      <td>...</td>\n",
              "    </tr>\n",
              "    <tr>\n",
              "      <th>390</th>\n",
              "      <td>False</td>\n",
              "      <td>False</td>\n",
              "      <td>False</td>\n",
              "      <td>False</td>\n",
              "      <td>False</td>\n",
              "      <td>False</td>\n",
              "      <td>False</td>\n",
              "      <td>False</td>\n",
              "      <td>False</td>\n",
              "      <td>False</td>\n",
              "      <td>False</td>\n",
              "      <td>False</td>\n",
              "      <td>False</td>\n",
              "      <td>False</td>\n",
              "      <td>False</td>\n",
              "      <td>False</td>\n",
              "      <td>False</td>\n",
              "      <td>False</td>\n",
              "      <td>False</td>\n",
              "      <td>False</td>\n",
              "      <td>False</td>\n",
              "      <td>False</td>\n",
              "      <td>False</td>\n",
              "      <td>False</td>\n",
              "      <td>False</td>\n",
              "      <td>False</td>\n",
              "      <td>False</td>\n",
              "      <td>False</td>\n",
              "      <td>False</td>\n",
              "      <td>False</td>\n",
              "      <td>False</td>\n",
              "      <td>False</td>\n",
              "      <td>False</td>\n",
              "    </tr>\n",
              "    <tr>\n",
              "      <th>391</th>\n",
              "      <td>False</td>\n",
              "      <td>False</td>\n",
              "      <td>False</td>\n",
              "      <td>False</td>\n",
              "      <td>False</td>\n",
              "      <td>False</td>\n",
              "      <td>False</td>\n",
              "      <td>False</td>\n",
              "      <td>False</td>\n",
              "      <td>False</td>\n",
              "      <td>False</td>\n",
              "      <td>False</td>\n",
              "      <td>False</td>\n",
              "      <td>False</td>\n",
              "      <td>False</td>\n",
              "      <td>False</td>\n",
              "      <td>False</td>\n",
              "      <td>False</td>\n",
              "      <td>False</td>\n",
              "      <td>False</td>\n",
              "      <td>False</td>\n",
              "      <td>False</td>\n",
              "      <td>False</td>\n",
              "      <td>False</td>\n",
              "      <td>False</td>\n",
              "      <td>False</td>\n",
              "      <td>False</td>\n",
              "      <td>False</td>\n",
              "      <td>False</td>\n",
              "      <td>False</td>\n",
              "      <td>False</td>\n",
              "      <td>False</td>\n",
              "      <td>False</td>\n",
              "    </tr>\n",
              "    <tr>\n",
              "      <th>392</th>\n",
              "      <td>False</td>\n",
              "      <td>False</td>\n",
              "      <td>False</td>\n",
              "      <td>False</td>\n",
              "      <td>False</td>\n",
              "      <td>False</td>\n",
              "      <td>False</td>\n",
              "      <td>False</td>\n",
              "      <td>False</td>\n",
              "      <td>False</td>\n",
              "      <td>False</td>\n",
              "      <td>False</td>\n",
              "      <td>False</td>\n",
              "      <td>False</td>\n",
              "      <td>False</td>\n",
              "      <td>False</td>\n",
              "      <td>False</td>\n",
              "      <td>False</td>\n",
              "      <td>False</td>\n",
              "      <td>False</td>\n",
              "      <td>False</td>\n",
              "      <td>False</td>\n",
              "      <td>False</td>\n",
              "      <td>False</td>\n",
              "      <td>False</td>\n",
              "      <td>False</td>\n",
              "      <td>False</td>\n",
              "      <td>False</td>\n",
              "      <td>False</td>\n",
              "      <td>False</td>\n",
              "      <td>False</td>\n",
              "      <td>False</td>\n",
              "      <td>False</td>\n",
              "    </tr>\n",
              "    <tr>\n",
              "      <th>393</th>\n",
              "      <td>False</td>\n",
              "      <td>False</td>\n",
              "      <td>False</td>\n",
              "      <td>False</td>\n",
              "      <td>False</td>\n",
              "      <td>False</td>\n",
              "      <td>False</td>\n",
              "      <td>False</td>\n",
              "      <td>False</td>\n",
              "      <td>False</td>\n",
              "      <td>False</td>\n",
              "      <td>False</td>\n",
              "      <td>False</td>\n",
              "      <td>False</td>\n",
              "      <td>False</td>\n",
              "      <td>False</td>\n",
              "      <td>False</td>\n",
              "      <td>False</td>\n",
              "      <td>False</td>\n",
              "      <td>False</td>\n",
              "      <td>False</td>\n",
              "      <td>False</td>\n",
              "      <td>False</td>\n",
              "      <td>False</td>\n",
              "      <td>False</td>\n",
              "      <td>False</td>\n",
              "      <td>False</td>\n",
              "      <td>False</td>\n",
              "      <td>False</td>\n",
              "      <td>False</td>\n",
              "      <td>False</td>\n",
              "      <td>False</td>\n",
              "      <td>False</td>\n",
              "    </tr>\n",
              "    <tr>\n",
              "      <th>394</th>\n",
              "      <td>False</td>\n",
              "      <td>False</td>\n",
              "      <td>False</td>\n",
              "      <td>False</td>\n",
              "      <td>False</td>\n",
              "      <td>False</td>\n",
              "      <td>False</td>\n",
              "      <td>False</td>\n",
              "      <td>False</td>\n",
              "      <td>False</td>\n",
              "      <td>False</td>\n",
              "      <td>False</td>\n",
              "      <td>False</td>\n",
              "      <td>False</td>\n",
              "      <td>False</td>\n",
              "      <td>False</td>\n",
              "      <td>False</td>\n",
              "      <td>False</td>\n",
              "      <td>False</td>\n",
              "      <td>False</td>\n",
              "      <td>False</td>\n",
              "      <td>False</td>\n",
              "      <td>False</td>\n",
              "      <td>False</td>\n",
              "      <td>False</td>\n",
              "      <td>False</td>\n",
              "      <td>False</td>\n",
              "      <td>False</td>\n",
              "      <td>False</td>\n",
              "      <td>False</td>\n",
              "      <td>False</td>\n",
              "      <td>False</td>\n",
              "      <td>False</td>\n",
              "    </tr>\n",
              "  </tbody>\n",
              "</table>\n",
              "<p>395 rows × 33 columns</p>\n",
              "</div>"
            ],
            "text/plain": [
              "     school    sex    age  address  ...  absences     G1     G2     G3\n",
              "0     False  False  False    False  ...     False  False  False  False\n",
              "1     False  False  False    False  ...     False  False  False  False\n",
              "2     False  False  False    False  ...     False  False  False  False\n",
              "3     False  False  False    False  ...     False  False  False  False\n",
              "4     False  False  False    False  ...     False  False  False  False\n",
              "..      ...    ...    ...      ...  ...       ...    ...    ...    ...\n",
              "390   False  False  False    False  ...     False  False  False  False\n",
              "391   False  False  False    False  ...     False  False  False  False\n",
              "392   False  False  False    False  ...     False  False  False  False\n",
              "393   False  False  False    False  ...     False  False  False  False\n",
              "394   False  False  False    False  ...     False  False  False  False\n",
              "\n",
              "[395 rows x 33 columns]"
            ]
          },
          "metadata": {
            "tags": []
          },
          "execution_count": 23
        }
      ]
    },
    {
      "cell_type": "code",
      "metadata": {
        "id": "dpSqHLPiJbsj",
        "colab_type": "code",
        "colab": {
          "base_uri": "https://localhost:8080/",
          "height": 689
        },
        "outputId": "8727852a-578d-412a-c348-6f9166bd50eb"
      },
      "source": [
        "data.info()"
      ],
      "execution_count": null,
      "outputs": [
        {
          "output_type": "stream",
          "text": [
            "<class 'pandas.core.frame.DataFrame'>\n",
            "RangeIndex: 395 entries, 0 to 394\n",
            "Data columns (total 33 columns):\n",
            " #   Column      Non-Null Count  Dtype \n",
            "---  ------      --------------  ----- \n",
            " 0   school      395 non-null    object\n",
            " 1   sex         395 non-null    object\n",
            " 2   age         395 non-null    int64 \n",
            " 3   address     395 non-null    object\n",
            " 4   famsize     395 non-null    object\n",
            " 5   Pstatus     395 non-null    object\n",
            " 6   Medu        395 non-null    int64 \n",
            " 7   Fedu        395 non-null    int64 \n",
            " 8   Mjob        395 non-null    object\n",
            " 9   Fjob        395 non-null    object\n",
            " 10  reason      395 non-null    object\n",
            " 11  guardian    395 non-null    object\n",
            " 12  traveltime  395 non-null    int64 \n",
            " 13  studytime   395 non-null    int64 \n",
            " 14  failures    395 non-null    int64 \n",
            " 15  schoolsup   395 non-null    object\n",
            " 16  famsup      395 non-null    object\n",
            " 17  paid        395 non-null    object\n",
            " 18  activities  395 non-null    object\n",
            " 19  nursery     395 non-null    object\n",
            " 20  higher      395 non-null    object\n",
            " 21  internet    395 non-null    object\n",
            " 22  romantic    395 non-null    object\n",
            " 23  famrel      395 non-null    int64 \n",
            " 24  freetime    395 non-null    int64 \n",
            " 25  goout       395 non-null    int64 \n",
            " 26  Dalc        395 non-null    int64 \n",
            " 27  Walc        395 non-null    int64 \n",
            " 28  health      395 non-null    int64 \n",
            " 29  absences    395 non-null    int64 \n",
            " 30  G1          395 non-null    int64 \n",
            " 31  G2          395 non-null    int64 \n",
            " 32  G3          395 non-null    int64 \n",
            "dtypes: int64(16), object(17)\n",
            "memory usage: 102.0+ KB\n"
          ],
          "name": "stdout"
        }
      ]
    },
    {
      "cell_type": "code",
      "metadata": {
        "id": "nvpR4m3-JwpH",
        "colab_type": "code",
        "colab": {
          "base_uri": "https://localhost:8080/",
          "height": 296
        },
        "outputId": "9751d693-8ec1-4d09-9387-ebed6a740ad1"
      },
      "source": [
        "sns.boxplot(data['romantic'],data['G3'])"
      ],
      "execution_count": null,
      "outputs": [
        {
          "output_type": "execute_result",
          "data": {
            "text/plain": [
              "<matplotlib.axes._subplots.AxesSubplot at 0x7f9945f57f60>"
            ]
          },
          "metadata": {
            "tags": []
          },
          "execution_count": 25
        },
        {
          "output_type": "display_data",
          "data": {
            "image/png": "[encoded data removed]",
            "text/plain": [
              "<Figure size 432x288 with 1 Axes>"
            ]
          },
          "metadata": {
            "tags": [],
            "needs_background": "light"
          }
        }
      ]
    },
    {
      "cell_type": "code",
      "metadata": {
        "id": "gKRl-SuaKKDM",
        "colab_type": "code",
        "colab": {
          "base_uri": "https://localhost:8080/",
          "height": 296
        },
        "outputId": "4b380409-a619-46b1-cf3a-9176efeaa40e"
      },
      "source": [
        "sns.boxplot(data['famrel'],data['G3'])"
      ],
      "execution_count": null,
      "outputs": [
        {
          "output_type": "execute_result",
          "data": {
            "text/plain": [
              "<matplotlib.axes._subplots.AxesSubplot at 0x7f9945f200f0>"
            ]
          },
          "metadata": {
            "tags": []
          },
          "execution_count": 26
        },
        {
          "output_type": "display_data",
          "data": {
            "image/png": "[encoded data removed]",
            "text/plain": [
              "<Figure size 432x288 with 1 Axes>"
            ]
          },
          "metadata": {
            "tags": [],
            "needs_background": "light"
          }
        }
      ]
    },
    {
      "cell_type": "code",
      "metadata": {
        "id": "DGRk59JIK-VN",
        "colab_type": "code",
        "colab": {
          "base_uri": "https://localhost:8080/",
          "height": 34
        },
        "outputId": "aec31cb6-5a8d-4bbe-f90c-4914af0621c8"
      },
      "source": [
        "print(\"hello\")"
      ],
      "execution_count": null,
      "outputs": [
        {
          "output_type": "stream",
          "text": [
            "hello\n"
          ],
          "name": "stdout"
        }
      ]
    },
    {
      "cell_type": "code",
      "metadata": {
        "id": "LMg_jG6jLMid",
        "colab_type": "code",
        "colab": {}
      },
      "source": [
        "data.drop('famrel', inplace = True, axis =1)"
      ],
      "execution_count": null,
      "outputs": []
    },
    {
      "cell_type": "code",
      "metadata": {
        "id": "yLlblwrLLh9n",
        "colab_type": "code",
        "colab": {
          "base_uri": "https://localhost:8080/",
          "height": 118
        },
        "outputId": "6c2e5677-41af-45c1-d99e-8c730bbb4540"
      },
      "source": [
        "data['Fjob'].value_counts()"
      ],
      "execution_count": null,
      "outputs": [
        {
          "output_type": "execute_result",
          "data": {
            "text/plain": [
              "other       217\n",
              "services    111\n",
              "teacher      29\n",
              "at_home      20\n",
              "health       18\n",
              "Name: Fjob, dtype: int64"
            ]
          },
          "metadata": {
            "tags": []
          },
          "execution_count": 30
        }
      ]
    },
    {
      "cell_type": "code",
      "metadata": {
        "id": "dvKZWUkfLq3h",
        "colab_type": "code",
        "colab": {
          "base_uri": "https://localhost:8080/",
          "height": 297
        },
        "outputId": "8b5aa30a-0e82-4926-c13e-c1c81537b8cc"
      },
      "source": [
        "sns.boxplot(data['Fjob'],data['G3'])"
      ],
      "execution_count": null,
      "outputs": [
        {
          "output_type": "execute_result",
          "data": {
            "text/plain": [
              "<matplotlib.axes._subplots.AxesSubplot at 0x7f9945f02da0>"
            ]
          },
          "metadata": {
            "tags": []
          },
          "execution_count": 31
        },
        {
          "output_type": "display_data",
          "data": {
            "image/png": "[encoded data removed]",
            "text/plain": [
              "<Figure size 432x288 with 1 Axes>"
            ]
          },
          "metadata": {
            "tags": [],
            "needs_background": "light"
          }
        }
      ]
    },
    {
      "cell_type": "code",
      "metadata": {
        "id": "2x6CMxmrL1aB",
        "colab_type": "code",
        "colab": {}
      },
      "source": [
        "Fjob = data['Fjob'].map({'other' : 'otherfjob','services' : 'otherfjob','health' : 'otherfjob','at_home':'otherfjob','teacher':'teacher'})"
      ],
      "execution_count": null,
      "outputs": []
    },
    {
      "cell_type": "code",
      "metadata": {
        "id": "HqG6uAdDMeA5",
        "colab_type": "code",
        "colab": {
          "base_uri": "https://localhost:8080/",
          "height": 67
        },
        "outputId": "8d91fe69-d162-4ac0-cd24-cca41821c46e"
      },
      "source": [
        "Fjob.value_counts()"
      ],
      "execution_count": null,
      "outputs": [
        {
          "output_type": "execute_result",
          "data": {
            "text/plain": [
              "otherfjob    366\n",
              "teacher       29\n",
              "Name: Fjob, dtype: int64"
            ]
          },
          "metadata": {
            "tags": []
          },
          "execution_count": 6
        }
      ]
    },
    {
      "cell_type": "code",
      "metadata": {
        "id": "YHfNFw9kMhTV",
        "colab_type": "code",
        "colab": {}
      },
      "source": [
        "data['Fjob'] = Fjob"
      ],
      "execution_count": null,
      "outputs": []
    },
    {
      "cell_type": "code",
      "metadata": {
        "id": "Q2VbgRSxMpwr",
        "colab_type": "code",
        "colab": {
          "base_uri": "https://localhost:8080/",
          "height": 297
        },
        "outputId": "f2c13059-e0c6-477b-a10c-8d52e04a270a"
      },
      "source": [
        "sns.boxplot(data['Mjob'],data['G3'])"
      ],
      "execution_count": null,
      "outputs": [
        {
          "output_type": "execute_result",
          "data": {
            "text/plain": [
              "<matplotlib.axes._subplots.AxesSubplot at 0x7f9946827080>"
            ]
          },
          "metadata": {
            "tags": []
          },
          "execution_count": 36
        },
        {
          "output_type": "display_data",
          "data": {
            "image/png": "[encoded data removed]",
            "text/plain": [
              "<Figure size 432x288 with 1 Axes>"
            ]
          },
          "metadata": {
            "tags": [],
            "needs_background": "light"
          }
        }
      ]
    },
    {
      "cell_type": "code",
      "metadata": {
        "id": "34qdcPjMMvJw",
        "colab_type": "code",
        "colab": {}
      },
      "source": [
        "Mjob = data['Mjob'].map({'other' : 'othermjob','services' : 'othermjob','health' : 'healthmjob','at_home':'othermjob','teacher':'othermjob'})"
      ],
      "execution_count": null,
      "outputs": []
    },
    {
      "cell_type": "code",
      "metadata": {
        "id": "tfKNdBnUNG4r",
        "colab_type": "code",
        "colab": {
          "base_uri": "https://localhost:8080/",
          "height": 67
        },
        "outputId": "9c75f49e-2c7a-4551-9e91-64b80b6c7c30"
      },
      "source": [
        "Mjob.value_counts()"
      ],
      "execution_count": null,
      "outputs": [
        {
          "output_type": "execute_result",
          "data": {
            "text/plain": [
              "othermjob     361\n",
              "healthmjob     34\n",
              "Name: Mjob, dtype: int64"
            ]
          },
          "metadata": {
            "tags": []
          },
          "execution_count": 9
        }
      ]
    },
    {
      "cell_type": "code",
      "metadata": {
        "id": "x3Uzs4dvNNzi",
        "colab_type": "code",
        "colab": {}
      },
      "source": [
        "data['Mjob'] = Mjob"
      ],
      "execution_count": null,
      "outputs": []
    },
    {
      "cell_type": "code",
      "metadata": {
        "id": "N8zMKBy6NUeL",
        "colab_type": "code",
        "colab": {
          "base_uri": "https://localhost:8080/",
          "height": 101
        },
        "outputId": "0091cb84-c329-4e94-c671-d798bacef886"
      },
      "source": [
        "data['reason'].value_counts()"
      ],
      "execution_count": null,
      "outputs": [
        {
          "output_type": "execute_result",
          "data": {
            "text/plain": [
              "course        145\n",
              "home          109\n",
              "reputation    105\n",
              "other          36\n",
              "Name: reason, dtype: int64"
            ]
          },
          "metadata": {
            "tags": []
          },
          "execution_count": 40
        }
      ]
    },
    {
      "cell_type": "code",
      "metadata": {
        "id": "90hUIiCHOChU",
        "colab_type": "code",
        "colab": {
          "base_uri": "https://localhost:8080/",
          "height": 296
        },
        "outputId": "a214220b-393e-4022-986d-efcc2f732be9"
      },
      "source": [
        "sns.boxplot(data['reason'],data['G3'])"
      ],
      "execution_count": null,
      "outputs": [
        {
          "output_type": "execute_result",
          "data": {
            "text/plain": [
              "<matplotlib.axes._subplots.AxesSubplot at 0x7f9946aa6898>"
            ]
          },
          "metadata": {
            "tags": []
          },
          "execution_count": 41
        },
        {
          "output_type": "display_data",
          "data": {
            "image/png": "[encoded data removed]",
            "text/plain": [
              "<Figure size 432x288 with 1 Axes>"
            ]
          },
          "metadata": {
            "tags": [],
            "needs_background": "light"
          }
        }
      ]
    },
    {
      "cell_type": "code",
      "metadata": {
        "id": "jVYQQHIeOVcL",
        "colab_type": "code",
        "colab": {}
      },
      "source": [
        "data.drop('reason',axis =1,inplace=True)"
      ],
      "execution_count": null,
      "outputs": []
    },
    {
      "cell_type": "code",
      "metadata": {
        "id": "Ravj0S0TOh9P",
        "colab_type": "code",
        "colab": {}
      },
      "source": [
        "data.drop('famsize',axis =1,inplace=True)"
      ],
      "execution_count": null,
      "outputs": []
    },
    {
      "cell_type": "code",
      "metadata": {
        "id": "TmqxJskvOyk_",
        "colab_type": "code",
        "colab": {
          "base_uri": "https://localhost:8080/",
          "height": 638
        },
        "outputId": "984e7967-85bc-4a2d-e6cc-ccea1f6f231c"
      },
      "source": [
        "data.info()"
      ],
      "execution_count": null,
      "outputs": [
        {
          "output_type": "stream",
          "text": [
            "<class 'pandas.core.frame.DataFrame'>\n",
            "RangeIndex: 395 entries, 0 to 394\n",
            "Data columns (total 30 columns):\n",
            " #   Column      Non-Null Count  Dtype \n",
            "---  ------      --------------  ----- \n",
            " 0   school      395 non-null    object\n",
            " 1   sex         395 non-null    object\n",
            " 2   age         395 non-null    int64 \n",
            " 3   address     395 non-null    object\n",
            " 4   Pstatus     395 non-null    object\n",
            " 5   Medu        395 non-null    int64 \n",
            " 6   Fedu        395 non-null    int64 \n",
            " 7   Mjob        395 non-null    object\n",
            " 8   Fjob        395 non-null    object\n",
            " 9   guardian    395 non-null    object\n",
            " 10  traveltime  395 non-null    int64 \n",
            " 11  studytime   395 non-null    int64 \n",
            " 12  failures    395 non-null    int64 \n",
            " 13  schoolsup   395 non-null    object\n",
            " 14  famsup      395 non-null    object\n",
            " 15  paid        395 non-null    object\n",
            " 16  activities  395 non-null    object\n",
            " 17  nursery     395 non-null    object\n",
            " 18  higher      395 non-null    object\n",
            " 19  internet    395 non-null    object\n",
            " 20  romantic    395 non-null    object\n",
            " 21  freetime    395 non-null    int64 \n",
            " 22  goout       395 non-null    int64 \n",
            " 23  Dalc        395 non-null    int64 \n",
            " 24  Walc        395 non-null    int64 \n",
            " 25  health      395 non-null    int64 \n",
            " 26  absences    395 non-null    int64 \n",
            " 27  G1          395 non-null    int64 \n",
            " 28  G2          395 non-null    int64 \n",
            " 29  G3          395 non-null    int64 \n",
            "dtypes: int64(15), object(15)\n",
            "memory usage: 92.7+ KB\n"
          ],
          "name": "stdout"
        }
      ]
    },
    {
      "cell_type": "code",
      "metadata": {
        "id": "dR4Yqh4cO0nO",
        "colab_type": "code",
        "colab": {
          "base_uri": "https://localhost:8080/",
          "height": 296
        },
        "outputId": "fb9f07a0-5090-4ff0-b33d-c72212f0df9c"
      },
      "source": [
        "sns.boxplot(data['Fedu'],data['G3'])"
      ],
      "execution_count": null,
      "outputs": [
        {
          "output_type": "execute_result",
          "data": {
            "text/plain": [
              "<matplotlib.axes._subplots.AxesSubplot at 0x7f9945b1cd68>"
            ]
          },
          "metadata": {
            "tags": []
          },
          "execution_count": 46
        },
        {
          "output_type": "display_data",
          "data": {
            "image/png": "[encoded data removed]",
            "text/plain": [
              "<Figure size 432x288 with 1 Axes>"
            ]
          },
          "metadata": {
            "tags": [],
            "needs_background": "light"
          }
        }
      ]
    },
    {
      "cell_type": "code",
      "metadata": {
        "id": "jT-DhILNPCLG",
        "colab_type": "code",
        "colab": {
          "base_uri": "https://localhost:8080/",
          "height": 296
        },
        "outputId": "6218e3ab-e402-440d-bf06-dc7a23923ded"
      },
      "source": [
        "sns.boxplot(data['guardian'],data['G3'])"
      ],
      "execution_count": null,
      "outputs": [
        {
          "output_type": "execute_result",
          "data": {
            "text/plain": [
              "<matplotlib.axes._subplots.AxesSubplot at 0x7f9945bc67b8>"
            ]
          },
          "metadata": {
            "tags": []
          },
          "execution_count": 48
        },
        {
          "output_type": "display_data",
          "data": {
            "image/png": "[encoded data removed]",
            "text/plain": [
              "<Figure size 432x288 with 1 Axes>"
            ]
          },
          "metadata": {
            "tags": [],
            "needs_background": "light"
          }
        }
      ]
    },
    {
      "cell_type": "code",
      "metadata": {
        "id": "E5XZb5MNPODR",
        "colab_type": "code",
        "colab": {
          "base_uri": "https://localhost:8080/",
          "height": 84
        },
        "outputId": "f3cfe99d-5693-4f29-91e0-264c668f81b2"
      },
      "source": [
        "data['guardian'].value_counts()"
      ],
      "execution_count": null,
      "outputs": [
        {
          "output_type": "execute_result",
          "data": {
            "text/plain": [
              "mother    273\n",
              "father     90\n",
              "other      32\n",
              "Name: guardian, dtype: int64"
            ]
          },
          "metadata": {
            "tags": []
          },
          "execution_count": 51
        }
      ]
    },
    {
      "cell_type": "code",
      "metadata": {
        "id": "rOBXKNh3PatA",
        "colab_type": "code",
        "colab": {}
      },
      "source": [
        "data.drop('guardian',axis =1,inplace=True)"
      ],
      "execution_count": null,
      "outputs": []
    },
    {
      "cell_type": "code",
      "metadata": {
        "id": "tvCHAhG3PzAW",
        "colab_type": "code",
        "colab": {
          "base_uri": "https://localhost:8080/",
          "height": 296
        },
        "outputId": "b2e61f11-4d7e-420f-d646-f8c4eeeca722"
      },
      "source": [
        "sns.boxplot(data['traveltime'],data['G3'])"
      ],
      "execution_count": null,
      "outputs": [
        {
          "output_type": "execute_result",
          "data": {
            "text/plain": [
              "<matplotlib.axes._subplots.AxesSubplot at 0x7f9946320ac8>"
            ]
          },
          "metadata": {
            "tags": []
          },
          "execution_count": 53
        },
        {
          "output_type": "display_data",
          "data": {
            "image/png": "[encoded data removed]",
            "text/plain": [
              "<Figure size 432x288 with 1 Axes>"
            ]
          },
          "metadata": {
            "tags": [],
            "needs_background": "light"
          }
        }
      ]
    },
    {
      "cell_type": "code",
      "metadata": {
        "id": "dSpXSh1yQALO",
        "colab_type": "code",
        "colab": {
          "base_uri": "https://localhost:8080/",
          "height": 296
        },
        "outputId": "806f5f59-d22f-4fdd-f631-6e2ae44451aa"
      },
      "source": [
        "sns.boxplot(data['failures'],data['G3'])"
      ],
      "execution_count": null,
      "outputs": [
        {
          "output_type": "execute_result",
          "data": {
            "text/plain": [
              "<matplotlib.axes._subplots.AxesSubplot at 0x7f9945bd02e8>"
            ]
          },
          "metadata": {
            "tags": []
          },
          "execution_count": 54
        },
        {
          "output_type": "display_data",
          "data": {
            "image/png": "[encoded data removed]",
            "text/plain": [
              "<Figure size 432x288 with 1 Axes>"
            ]
          },
          "metadata": {
            "tags": [],
            "needs_background": "light"
          }
        }
      ]
    },
    {
      "cell_type": "code",
      "metadata": {
        "id": "8Fp_F3aoQJkN",
        "colab_type": "code",
        "colab": {
          "base_uri": "https://localhost:8080/",
          "height": 296
        },
        "outputId": "27097bd5-9432-485c-96e3-4ed33d5caeac"
      },
      "source": [
        "sns.boxplot(data['schoolsup'],data['G3'])"
      ],
      "execution_count": null,
      "outputs": [
        {
          "output_type": "execute_result",
          "data": {
            "text/plain": [
              "<matplotlib.axes._subplots.AxesSubplot at 0x7f99458adf28>"
            ]
          },
          "metadata": {
            "tags": []
          },
          "execution_count": 55
        },
        {
          "output_type": "display_data",
          "data": {
            "image/png": "[encoded data removed]",
            "text/plain": [
              "<Figure size 432x288 with 1 Axes>"
            ]
          },
          "metadata": {
            "tags": [],
            "needs_background": "light"
          }
        }
      ]
    },
    {
      "cell_type": "code",
      "metadata": {
        "id": "PGHZOKKxQajJ",
        "colab_type": "code",
        "colab": {
          "base_uri": "https://localhost:8080/",
          "height": 296
        },
        "outputId": "7be28226-8c88-438f-f855-d4123c5eb55f"
      },
      "source": [
        "sns.boxplot(data['paid'],data['G3'])"
      ],
      "execution_count": null,
      "outputs": [
        {
          "output_type": "execute_result",
          "data": {
            "text/plain": [
              "<matplotlib.axes._subplots.AxesSubplot at 0x7f99458c30b8>"
            ]
          },
          "metadata": {
            "tags": []
          },
          "execution_count": 56
        },
        {
          "output_type": "display_data",
          "data": {
            "image/png": "[encoded data removed]",
            "text/plain": [
              "<Figure size 432x288 with 1 Axes>"
            ]
          },
          "metadata": {
            "tags": [],
            "needs_background": "light"
          }
        }
      ]
    },
    {
      "cell_type": "code",
      "metadata": {
        "id": "5_CjHPXOQtQQ",
        "colab_type": "code",
        "colab": {}
      },
      "source": [
        "data.drop('paid',axis =1,inplace=True)"
      ],
      "execution_count": null,
      "outputs": []
    },
    {
      "cell_type": "code",
      "metadata": {
        "id": "PU04nHZFQ5Pl",
        "colab_type": "code",
        "colab": {
          "base_uri": "https://localhost:8080/",
          "height": 296
        },
        "outputId": "c03cb407-a078-4a89-e1c8-42db0d0937d7"
      },
      "source": [
        "sns.boxplot(data['schoolsup'],data['G3'])"
      ],
      "execution_count": null,
      "outputs": [
        {
          "output_type": "execute_result",
          "data": {
            "text/plain": [
              "<matplotlib.axes._subplots.AxesSubplot at 0x7f9945750898>"
            ]
          },
          "metadata": {
            "tags": []
          },
          "execution_count": 59
        },
        {
          "output_type": "display_data",
          "data": {
            "image/png": "[encoded data removed]",
            "text/plain": [
              "<Figure size 432x288 with 1 Axes>"
            ]
          },
          "metadata": {
            "tags": [],
            "needs_background": "light"
          }
        }
      ]
    },
    {
      "cell_type": "code",
      "metadata": {
        "id": "M8uDThHKRBzm",
        "colab_type": "code",
        "colab": {
          "base_uri": "https://localhost:8080/",
          "height": 296
        },
        "outputId": "677349e9-3eae-4a7e-9070-0d59715d05b0"
      },
      "source": [
        "sns.boxplot(data['activities'],data['G3'])"
      ],
      "execution_count": null,
      "outputs": [
        {
          "output_type": "execute_result",
          "data": {
            "text/plain": [
              "<matplotlib.axes._subplots.AxesSubplot at 0x7f994569d828>"
            ]
          },
          "metadata": {
            "tags": []
          },
          "execution_count": 60
        },
        {
          "output_type": "display_data",
          "data": {
            "image/png": "[encoded data removed]",
            "text/plain": [
              "<Figure size 432x288 with 1 Axes>"
            ]
          },
          "metadata": {
            "tags": [],
            "needs_background": "light"
          }
        }
      ]
    },
    {
      "cell_type": "code",
      "metadata": {
        "id": "VLij7A2BRdW3",
        "colab_type": "code",
        "colab": {}
      },
      "source": [
        "data.drop('activities',axis =1,inplace=True)"
      ],
      "execution_count": null,
      "outputs": []
    },
    {
      "cell_type": "code",
      "metadata": {
        "id": "iQCl2jnBRvDM",
        "colab_type": "code",
        "colab": {
          "base_uri": "https://localhost:8080/",
          "height": 296
        },
        "outputId": "08820095-b16e-4316-ed26-df3dec652822"
      },
      "source": [
        "sns.boxplot(data['nursery'],data['G3'])"
      ],
      "execution_count": null,
      "outputs": [
        {
          "output_type": "execute_result",
          "data": {
            "text/plain": [
              "<matplotlib.axes._subplots.AxesSubplot at 0x7f994569dc18>"
            ]
          },
          "metadata": {
            "tags": []
          },
          "execution_count": 62
        },
        {
          "output_type": "display_data",
          "data": {
            "image/png": "[encoded data removed]",
            "text/plain": [
              "<Figure size 432x288 with 1 Axes>"
            ]
          },
          "metadata": {
            "tags": [],
            "needs_background": "light"
          }
        }
      ]
    },
    {
      "cell_type": "code",
      "metadata": {
        "id": "XZOxAa6XR3Lg",
        "colab_type": "code",
        "colab": {}
      },
      "source": [
        "data.drop('nursery',axis =1,inplace=True)"
      ],
      "execution_count": null,
      "outputs": []
    },
    {
      "cell_type": "code",
      "metadata": {
        "id": "309UdNAtR79K",
        "colab_type": "code",
        "colab": {
          "base_uri": "https://localhost:8080/",
          "height": 296
        },
        "outputId": "7577e3cf-e7ee-4ce7-827e-a977009b71ae"
      },
      "source": [
        "sns.boxplot(data['higher'],data['G3'])"
      ],
      "execution_count": null,
      "outputs": [
        {
          "output_type": "execute_result",
          "data": {
            "text/plain": [
              "<matplotlib.axes._subplots.AxesSubplot at 0x7f9945a66b70>"
            ]
          },
          "metadata": {
            "tags": []
          },
          "execution_count": 64
        },
        {
          "output_type": "display_data",
          "data": {
            "image/png": "[encoded data removed]",
            "text/plain": [
              "<Figure size 432x288 with 1 Axes>"
            ]
          },
          "metadata": {
            "tags": [],
            "needs_background": "light"
          }
        }
      ]
    },
    {
      "cell_type": "code",
      "metadata": {
        "id": "6EuFJ5BHSEdz",
        "colab_type": "code",
        "colab": {
          "base_uri": "https://localhost:8080/",
          "height": 296
        },
        "outputId": "d4b539b3-bddc-48f8-c95f-3d9733b128df"
      },
      "source": [
        "sns.boxplot(data['internet'],data['G3'])"
      ],
      "execution_count": null,
      "outputs": [
        {
          "output_type": "execute_result",
          "data": {
            "text/plain": [
              "<matplotlib.axes._subplots.AxesSubplot at 0x7f9945f60978>"
            ]
          },
          "metadata": {
            "tags": []
          },
          "execution_count": 65
        },
        {
          "output_type": "display_data",
          "data": {
            "image/png": "[encoded data removed]",
            "text/plain": [
              "<Figure size 432x288 with 1 Axes>"
            ]
          },
          "metadata": {
            "tags": [],
            "needs_background": "light"
          }
        }
      ]
    },
    {
      "cell_type": "code",
      "metadata": {
        "id": "w4ABOK4tSLLW",
        "colab_type": "code",
        "colab": {
          "base_uri": "https://localhost:8080/",
          "height": 296
        },
        "outputId": "dfe4da89-110b-4433-8a26-8d669494376d"
      },
      "source": [
        "sns.boxplot(data['romantic'],data['G3'])"
      ],
      "execution_count": null,
      "outputs": [
        {
          "output_type": "execute_result",
          "data": {
            "text/plain": [
              "<matplotlib.axes._subplots.AxesSubplot at 0x7f99454f1cf8>"
            ]
          },
          "metadata": {
            "tags": []
          },
          "execution_count": 66
        },
        {
          "output_type": "display_data",
          "data": {
            "image/png": "[encoded data removed]",
            "text/plain": [
              "<Figure size 432x288 with 1 Axes>"
            ]
          },
          "metadata": {
            "tags": [],
            "needs_background": "light"
          }
        }
      ]
    },
    {
      "cell_type": "code",
      "metadata": {
        "id": "Z0ODPFWYSVsj",
        "colab_type": "code",
        "colab": {}
      },
      "source": [
        "data.drop('romantic',axis =1,inplace=True)"
      ],
      "execution_count": null,
      "outputs": []
    },
    {
      "cell_type": "code",
      "metadata": {
        "id": "A-S-qxknSbvA",
        "colab_type": "code",
        "colab": {
          "base_uri": "https://localhost:8080/",
          "height": 296
        },
        "outputId": "da0ce209-13ca-4ef8-a489-fd49d7350572"
      },
      "source": [
        "sns.boxplot(data['freetime'],data['G3'])"
      ],
      "execution_count": null,
      "outputs": [
        {
          "output_type": "execute_result",
          "data": {
            "text/plain": [
              "<matplotlib.axes._subplots.AxesSubplot at 0x7f994545de80>"
            ]
          },
          "metadata": {
            "tags": []
          },
          "execution_count": 68
        },
        {
          "output_type": "display_data",
          "data": {
            "image/png": "[encoded data removed]",
            "text/plain": [
              "<Figure size 432x288 with 1 Axes>"
            ]
          },
          "metadata": {
            "tags": [],
            "needs_background": "light"
          }
        }
      ]
    },
    {
      "cell_type": "code",
      "metadata": {
        "id": "Sphi5pVISoqM",
        "colab_type": "code",
        "colab": {}
      },
      "source": [
        "data.drop('freetime',axis =1,inplace=True)"
      ],
      "execution_count": null,
      "outputs": []
    },
    {
      "cell_type": "code",
      "metadata": {
        "id": "_NndG5N4SzZs",
        "colab_type": "code",
        "colab": {
          "base_uri": "https://localhost:8080/",
          "height": 538
        },
        "outputId": "b11280ae-611a-45a3-dcc5-96211b0fed61"
      },
      "source": [
        "data.info()"
      ],
      "execution_count": null,
      "outputs": [
        {
          "output_type": "stream",
          "text": [
            "<class 'pandas.core.frame.DataFrame'>\n",
            "RangeIndex: 395 entries, 0 to 394\n",
            "Data columns (total 24 columns):\n",
            " #   Column      Non-Null Count  Dtype \n",
            "---  ------      --------------  ----- \n",
            " 0   school      395 non-null    object\n",
            " 1   sex         395 non-null    object\n",
            " 2   age         395 non-null    int64 \n",
            " 3   address     395 non-null    object\n",
            " 4   Pstatus     395 non-null    object\n",
            " 5   Medu        395 non-null    int64 \n",
            " 6   Fedu        395 non-null    int64 \n",
            " 7   Mjob        395 non-null    object\n",
            " 8   Fjob        395 non-null    object\n",
            " 9   traveltime  395 non-null    int64 \n",
            " 10  studytime   395 non-null    int64 \n",
            " 11  failures    395 non-null    int64 \n",
            " 12  schoolsup   395 non-null    object\n",
            " 13  famsup      395 non-null    object\n",
            " 14  higher      395 non-null    object\n",
            " 15  internet    395 non-null    object\n",
            " 16  goout       395 non-null    int64 \n",
            " 17  Dalc        395 non-null    int64 \n",
            " 18  Walc        395 non-null    int64 \n",
            " 19  health      395 non-null    int64 \n",
            " 20  absences    395 non-null    int64 \n",
            " 21  G1          395 non-null    int64 \n",
            " 22  G2          395 non-null    int64 \n",
            " 23  G3          395 non-null    int64 \n",
            "dtypes: int64(14), object(10)\n",
            "memory usage: 74.2+ KB\n"
          ],
          "name": "stdout"
        }
      ]
    },
    {
      "cell_type": "code",
      "metadata": {
        "id": "OjXmKuneS5-j",
        "colab_type": "code",
        "colab": {
          "base_uri": "https://localhost:8080/",
          "height": 296
        },
        "outputId": "0521e4a3-d673-4a04-eb2f-10efe0c72b45"
      },
      "source": [
        "sns.boxplot(data['goout'],data['G3'])"
      ],
      "execution_count": null,
      "outputs": [
        {
          "output_type": "execute_result",
          "data": {
            "text/plain": [
              "<matplotlib.axes._subplots.AxesSubplot at 0x7f99457a6208>"
            ]
          },
          "metadata": {
            "tags": []
          },
          "execution_count": 71
        },
        {
          "output_type": "display_data",
          "data": {
            "image/png": "[encoded data removed]",
            "text/plain": [
              "<Figure size 432x288 with 1 Axes>"
            ]
          },
          "metadata": {
            "tags": [],
            "needs_background": "light"
          }
        }
      ]
    },
    {
      "cell_type": "code",
      "metadata": {
        "id": "zkZ4suJjTLLX",
        "colab_type": "code",
        "colab": {
          "base_uri": "https://localhost:8080/",
          "height": 296
        },
        "outputId": "ab5a73ff-a1c6-46b4-807f-2e924979e6e0"
      },
      "source": [
        "sns.boxplot(data['Dalc'],data['G3'])"
      ],
      "execution_count": null,
      "outputs": [
        {
          "output_type": "execute_result",
          "data": {
            "text/plain": [
              "<matplotlib.axes._subplots.AxesSubplot at 0x7f99452d5eb8>"
            ]
          },
          "metadata": {
            "tags": []
          },
          "execution_count": 72
        },
        {
          "output_type": "display_data",
          "data": {
            "image/png": "[encoded data removed]",
            "text/plain": [
              "<Figure size 432x288 with 1 Axes>"
            ]
          },
          "metadata": {
            "tags": [],
            "needs_background": "light"
          }
        }
      ]
    },
    {
      "cell_type": "code",
      "metadata": {
        "id": "RkM37W7RTQ3r",
        "colab_type": "code",
        "colab": {
          "base_uri": "https://localhost:8080/",
          "height": 296
        },
        "outputId": "d7684cf7-539a-44d0-bba8-89ff68f71188"
      },
      "source": [
        "sns.boxplot(data['Walc'],data['G3'])"
      ],
      "execution_count": null,
      "outputs": [
        {
          "output_type": "execute_result",
          "data": {
            "text/plain": [
              "<matplotlib.axes._subplots.AxesSubplot at 0x7f99452391d0>"
            ]
          },
          "metadata": {
            "tags": []
          },
          "execution_count": 73
        },
        {
          "output_type": "display_data",
          "data": {
            "image/png": "[encoded data removed]",
            "text/plain": [
              "<Figure size 432x288 with 1 Axes>"
            ]
          },
          "metadata": {
            "tags": [],
            "needs_background": "light"
          }
        }
      ]
    },
    {
      "cell_type": "code",
      "metadata": {
        "id": "WUuWJX3YTbRe",
        "colab_type": "code",
        "colab": {
          "base_uri": "https://localhost:8080/",
          "height": 296
        },
        "outputId": "957643d3-1887-4096-dac9-c0a5faf17fa3"
      },
      "source": [
        "sns.boxplot(data['health'],data['G3'])"
      ],
      "execution_count": null,
      "outputs": [
        {
          "output_type": "execute_result",
          "data": {
            "text/plain": [
              "<matplotlib.axes._subplots.AxesSubplot at 0x7f9945498c88>"
            ]
          },
          "metadata": {
            "tags": []
          },
          "execution_count": 74
        },
        {
          "output_type": "display_data",
          "data": {
            "image/png": "[encoded data removed]",
            "text/plain": [
              "<Figure size 432x288 with 1 Axes>"
            ]
          },
          "metadata": {
            "tags": [],
            "needs_background": "light"
          }
        }
      ]
    },
    {
      "cell_type": "code",
      "metadata": {
        "id": "iK4Hq7lETsmE",
        "colab_type": "code",
        "colab": {
          "base_uri": "https://localhost:8080/",
          "height": 296
        },
        "outputId": "ca5a1793-bdc6-4541-cb2a-398118f9debc"
      },
      "source": [
        "sns.scatterplot(data['G2'],data['G3'])"
      ],
      "execution_count": null,
      "outputs": [
        {
          "output_type": "execute_result",
          "data": {
            "text/plain": [
              "<matplotlib.axes._subplots.AxesSubplot at 0x7f9944904be0>"
            ]
          },
          "metadata": {
            "tags": []
          },
          "execution_count": 80
        },
        {
          "output_type": "display_data",
          "data": {
            "image/png": "[encoded data removed]",
            "text/plain": [
              "<Figure size 432x288 with 1 Axes>"
            ]
          },
          "metadata": {
            "tags": [],
            "needs_background": "light"
          }
        }
      ]
    },
    {
      "cell_type": "code",
      "metadata": {
        "id": "8dB7G5cHUA7c",
        "colab_type": "code",
        "colab": {
          "base_uri": "https://localhost:8080/",
          "height": 538
        },
        "outputId": "f2228429-3fe7-434a-9754-99ace7da8f27"
      },
      "source": [
        "data.info()"
      ],
      "execution_count": null,
      "outputs": [
        {
          "output_type": "stream",
          "text": [
            "<class 'pandas.core.frame.DataFrame'>\n",
            "RangeIndex: 395 entries, 0 to 394\n",
            "Data columns (total 24 columns):\n",
            " #   Column      Non-Null Count  Dtype \n",
            "---  ------      --------------  ----- \n",
            " 0   school      395 non-null    object\n",
            " 1   sex         395 non-null    object\n",
            " 2   age         395 non-null    int64 \n",
            " 3   address     395 non-null    object\n",
            " 4   Pstatus     395 non-null    object\n",
            " 5   Medu        395 non-null    int64 \n",
            " 6   Fedu        395 non-null    int64 \n",
            " 7   Mjob        395 non-null    object\n",
            " 8   Fjob        395 non-null    object\n",
            " 9   traveltime  395 non-null    int64 \n",
            " 10  studytime   395 non-null    int64 \n",
            " 11  failures    395 non-null    int64 \n",
            " 12  schoolsup   395 non-null    object\n",
            " 13  famsup      395 non-null    object\n",
            " 14  higher      395 non-null    object\n",
            " 15  internet    395 non-null    object\n",
            " 16  goout       395 non-null    int64 \n",
            " 17  Dalc        395 non-null    int64 \n",
            " 18  Walc        395 non-null    int64 \n",
            " 19  health      395 non-null    int64 \n",
            " 20  absences    395 non-null    int64 \n",
            " 21  G1          395 non-null    int64 \n",
            " 22  G2          395 non-null    int64 \n",
            " 23  G3          395 non-null    int64 \n",
            "dtypes: int64(14), object(10)\n",
            "memory usage: 74.2+ KB\n"
          ],
          "name": "stdout"
        }
      ]
    },
    {
      "cell_type": "code",
      "metadata": {
        "id": "A_vCjQZxVVDr",
        "colab_type": "code",
        "colab": {}
      },
      "source": [
        "data['sex'] = data['sex'].map({'M':0,'F':1})"
      ],
      "execution_count": null,
      "outputs": []
    },
    {
      "cell_type": "code",
      "metadata": {
        "id": "PNQz8O5TVaeU",
        "colab_type": "code",
        "colab": {
          "base_uri": "https://localhost:8080/",
          "height": 168
        },
        "outputId": "711e2833-41da-4874-95f8-2af7ffbba600"
      },
      "source": [
        "data['age'].value_counts()"
      ],
      "execution_count": null,
      "outputs": [
        {
          "output_type": "execute_result",
          "data": {
            "text/plain": [
              "16    104\n",
              "17     98\n",
              "18     82\n",
              "15     82\n",
              "19     24\n",
              "20      3\n",
              "22      1\n",
              "21      1\n",
              "Name: age, dtype: int64"
            ]
          },
          "metadata": {
            "tags": []
          },
          "execution_count": 85
        }
      ]
    },
    {
      "cell_type": "code",
      "metadata": {
        "id": "i-hAghWjVt8u",
        "colab_type": "code",
        "colab": {}
      },
      "source": [
        "age = pd.get_dummies(data['age'],drop_first=True)"
      ],
      "execution_count": null,
      "outputs": []
    },
    {
      "cell_type": "code",
      "metadata": {
        "id": "VGoo9dPMV4H7",
        "colab_type": "code",
        "colab": {}
      },
      "source": [
        "data=data.join(age)"
      ],
      "execution_count": null,
      "outputs": []
    },
    {
      "cell_type": "code",
      "metadata": {
        "id": "v1foqHsXV6dw",
        "colab_type": "code",
        "colab": {}
      },
      "source": [
        "data['school'] = data['school'].map({'GP':0,'MS':1})"
      ],
      "execution_count": null,
      "outputs": []
    },
    {
      "cell_type": "code",
      "metadata": {
        "id": "NQeCnmDAWj2c",
        "colab_type": "code",
        "colab": {
          "base_uri": "https://localhost:8080/",
          "height": 67
        },
        "outputId": "6990b248-672d-4ee4-e0b5-7f649d98749b"
      },
      "source": [
        "data['address'].value_counts()"
      ],
      "execution_count": null,
      "outputs": [
        {
          "output_type": "execute_result",
          "data": {
            "text/plain": [
              "U    307\n",
              "R     88\n",
              "Name: address, dtype: int64"
            ]
          },
          "metadata": {
            "tags": []
          },
          "execution_count": 90
        }
      ]
    },
    {
      "cell_type": "code",
      "metadata": {
        "id": "hlHhe3iRWwmq",
        "colab_type": "code",
        "colab": {}
      },
      "source": [
        "data['address'] = data['address'].map({'U':0,'R':1})"
      ],
      "execution_count": null,
      "outputs": []
    },
    {
      "cell_type": "code",
      "metadata": {
        "id": "18Pbc2t7W48Q",
        "colab_type": "code",
        "colab": {
          "base_uri": "https://localhost:8080/",
          "height": 67
        },
        "outputId": "5d36a8de-734c-47b3-dfef-64c434ec4785"
      },
      "source": [
        "data['Pstatus'].value_counts()"
      ],
      "execution_count": null,
      "outputs": [
        {
          "output_type": "execute_result",
          "data": {
            "text/plain": [
              "T    354\n",
              "A     41\n",
              "Name: Pstatus, dtype: int64"
            ]
          },
          "metadata": {
            "tags": []
          },
          "execution_count": 93
        }
      ]
    },
    {
      "cell_type": "code",
      "metadata": {
        "id": "RWtBQHCaW8zA",
        "colab_type": "code",
        "colab": {}
      },
      "source": [
        "data['Pstatus'] = data['Pstatus'].map({'T':0,'A':1})"
      ],
      "execution_count": null,
      "outputs": []
    },
    {
      "cell_type": "code",
      "metadata": {
        "id": "4sm7K0DOXIB1",
        "colab_type": "code",
        "colab": {
          "base_uri": "https://localhost:8080/",
          "height": 655
        },
        "outputId": "6b0623e7-60e5-477d-886b-77a124c4874b"
      },
      "source": [
        "data.info()"
      ],
      "execution_count": null,
      "outputs": [
        {
          "output_type": "stream",
          "text": [
            "<class 'pandas.core.frame.DataFrame'>\n",
            "RangeIndex: 395 entries, 0 to 394\n",
            "Data columns (total 31 columns):\n",
            " #   Column      Non-Null Count  Dtype \n",
            "---  ------      --------------  ----- \n",
            " 0   school      395 non-null    int64 \n",
            " 1   sex         395 non-null    int64 \n",
            " 2   age         395 non-null    int64 \n",
            " 3   address     395 non-null    int64 \n",
            " 4   Pstatus     395 non-null    int64 \n",
            " 5   Medu        395 non-null    int64 \n",
            " 6   Fedu        395 non-null    int64 \n",
            " 7   Mjob        395 non-null    object\n",
            " 8   Fjob        395 non-null    object\n",
            " 9   traveltime  395 non-null    int64 \n",
            " 10  studytime   395 non-null    int64 \n",
            " 11  failures    395 non-null    int64 \n",
            " 12  schoolsup   395 non-null    object\n",
            " 13  famsup      395 non-null    object\n",
            " 14  higher      395 non-null    object\n",
            " 15  internet    395 non-null    object\n",
            " 16  goout       395 non-null    int64 \n",
            " 17  Dalc        395 non-null    int64 \n",
            " 18  Walc        395 non-null    int64 \n",
            " 19  health      395 non-null    int64 \n",
            " 20  absences    395 non-null    int64 \n",
            " 21  G1          395 non-null    int64 \n",
            " 22  G2          395 non-null    int64 \n",
            " 23  G3          395 non-null    int64 \n",
            " 24  16          395 non-null    uint8 \n",
            " 25  17          395 non-null    uint8 \n",
            " 26  18          395 non-null    uint8 \n",
            " 27  19          395 non-null    uint8 \n",
            " 28  20          395 non-null    uint8 \n",
            " 29  21          395 non-null    uint8 \n",
            " 30  22          395 non-null    uint8 \n",
            "dtypes: int64(18), object(6), uint8(7)\n",
            "memory usage: 76.9+ KB\n"
          ],
          "name": "stdout"
        }
      ]
    },
    {
      "cell_type": "code",
      "metadata": {
        "id": "CNvyR0HZXLQk",
        "colab_type": "code",
        "colab": {}
      },
      "source": [
        "mjob = pd.get_dummies(data['Mjob'],drop_first=True)"
      ],
      "execution_count": null,
      "outputs": []
    },
    {
      "cell_type": "code",
      "metadata": {
        "id": "cg8BLTH5XZu2",
        "colab_type": "code",
        "colab": {}
      },
      "source": [
        "data=data.join(mjob)"
      ],
      "execution_count": null,
      "outputs": []
    },
    {
      "cell_type": "code",
      "metadata": {
        "id": "3_1faOvVXcYh",
        "colab_type": "code",
        "colab": {}
      },
      "source": [
        "fjob = pd.get_dummies(data['Fjob'],drop_first=True)"
      ],
      "execution_count": null,
      "outputs": []
    },
    {
      "cell_type": "code",
      "metadata": {
        "id": "_BAsUhLNXi79",
        "colab_type": "code",
        "colab": {}
      },
      "source": [
        "data=data.join(fjob)"
      ],
      "execution_count": null,
      "outputs": []
    },
    {
      "cell_type": "code",
      "metadata": {
        "id": "v4cMcHV2XmXt",
        "colab_type": "code",
        "colab": {
          "base_uri": "https://localhost:8080/",
          "height": 689
        },
        "outputId": "c138f6fe-c8b2-4899-ddfb-ce73ef22ff57"
      },
      "source": [
        "data.info()"
      ],
      "execution_count": null,
      "outputs": [
        {
          "output_type": "stream",
          "text": [
            "<class 'pandas.core.frame.DataFrame'>\n",
            "RangeIndex: 395 entries, 0 to 394\n",
            "Data columns (total 33 columns):\n",
            " #   Column      Non-Null Count  Dtype \n",
            "---  ------      --------------  ----- \n",
            " 0   school      395 non-null    int64 \n",
            " 1   sex         395 non-null    int64 \n",
            " 2   age         395 non-null    int64 \n",
            " 3   address     395 non-null    int64 \n",
            " 4   Pstatus     395 non-null    int64 \n",
            " 5   Medu        395 non-null    int64 \n",
            " 6   Fedu        395 non-null    int64 \n",
            " 7   Mjob        395 non-null    object\n",
            " 8   Fjob        395 non-null    object\n",
            " 9   traveltime  395 non-null    int64 \n",
            " 10  studytime   395 non-null    int64 \n",
            " 11  failures    395 non-null    int64 \n",
            " 12  schoolsup   395 non-null    object\n",
            " 13  famsup      395 non-null    object\n",
            " 14  higher      395 non-null    object\n",
            " 15  internet    395 non-null    object\n",
            " 16  goout       395 non-null    int64 \n",
            " 17  Dalc        395 non-null    int64 \n",
            " 18  Walc        395 non-null    int64 \n",
            " 19  health      395 non-null    int64 \n",
            " 20  absences    395 non-null    int64 \n",
            " 21  G1          395 non-null    int64 \n",
            " 22  G2          395 non-null    int64 \n",
            " 23  G3          395 non-null    int64 \n",
            " 24  16          395 non-null    uint8 \n",
            " 25  17          395 non-null    uint8 \n",
            " 26  18          395 non-null    uint8 \n",
            " 27  19          395 non-null    uint8 \n",
            " 28  20          395 non-null    uint8 \n",
            " 29  21          395 non-null    uint8 \n",
            " 30  22          395 non-null    uint8 \n",
            " 31  othermjob   395 non-null    uint8 \n",
            " 32  teacher     395 non-null    uint8 \n",
            "dtypes: int64(18), object(6), uint8(9)\n",
            "memory usage: 77.7+ KB\n"
          ],
          "name": "stdout"
        }
      ]
    },
    {
      "cell_type": "code",
      "metadata": {
        "id": "pu94S1LWXpoD",
        "colab_type": "code",
        "colab": {
          "base_uri": "https://localhost:8080/",
          "height": 402
        },
        "outputId": "a1d95676-5020-4aaf-bd7c-929d45c235a3"
      },
      "source": [
        "fjob"
      ],
      "execution_count": null,
      "outputs": [
        {
          "output_type": "execute_result",
          "data": {
            "text/html": [
              "<div>\n",
              "<style scoped>\n",
              "    .dataframe tbody tr th:only-of-type {\n",
              "        vertical-align: middle;\n",
              "    }\n",
              "\n",
              "    .dataframe tbody tr th {\n",
              "        vertical-align: top;\n",
              "    }\n",
              "\n",
              "    .dataframe thead th {\n",
              "        text-align: right;\n",
              "    }\n",
              "</style>\n",
              "<table border=\"1\" class=\"dataframe\">\n",
              "  <thead>\n",
              "    <tr style=\"text-align: right;\">\n",
              "      <th></th>\n",
              "      <th>teacher</th>\n",
              "    </tr>\n",
              "  </thead>\n",
              "  <tbody>\n",
              "    <tr>\n",
              "      <th>0</th>\n",
              "      <td>1</td>\n",
              "    </tr>\n",
              "    <tr>\n",
              "      <th>1</th>\n",
              "      <td>0</td>\n",
              "    </tr>\n",
              "    <tr>\n",
              "      <th>2</th>\n",
              "      <td>0</td>\n",
              "    </tr>\n",
              "    <tr>\n",
              "      <th>3</th>\n",
              "      <td>0</td>\n",
              "    </tr>\n",
              "    <tr>\n",
              "      <th>4</th>\n",
              "      <td>0</td>\n",
              "    </tr>\n",
              "    <tr>\n",
              "      <th>...</th>\n",
              "      <td>...</td>\n",
              "    </tr>\n",
              "    <tr>\n",
              "      <th>390</th>\n",
              "      <td>0</td>\n",
              "    </tr>\n",
              "    <tr>\n",
              "      <th>391</th>\n",
              "      <td>0</td>\n",
              "    </tr>\n",
              "    <tr>\n",
              "      <th>392</th>\n",
              "      <td>0</td>\n",
              "    </tr>\n",
              "    <tr>\n",
              "      <th>393</th>\n",
              "      <td>0</td>\n",
              "    </tr>\n",
              "    <tr>\n",
              "      <th>394</th>\n",
              "      <td>0</td>\n",
              "    </tr>\n",
              "  </tbody>\n",
              "</table>\n",
              "<p>395 rows × 1 columns</p>\n",
              "</div>"
            ],
            "text/plain": [
              "     teacher\n",
              "0          1\n",
              "1          0\n",
              "2          0\n",
              "3          0\n",
              "4          0\n",
              "..       ...\n",
              "390        0\n",
              "391        0\n",
              "392        0\n",
              "393        0\n",
              "394        0\n",
              "\n",
              "[395 rows x 1 columns]"
            ]
          },
          "metadata": {
            "tags": []
          },
          "execution_count": 32
        }
      ]
    },
    {
      "cell_type": "code",
      "metadata": {
        "id": "k-EdNkcXJoMY",
        "colab_type": "code",
        "colab": {}
      },
      "source": [
        "data.drop('age',axis =1, inplace=True)"
      ],
      "execution_count": null,
      "outputs": []
    },
    {
      "cell_type": "code",
      "metadata": {
        "id": "wSD0yC1-J_Aq",
        "colab_type": "code",
        "colab": {}
      },
      "source": [
        "data.drop('Mjob',axis =1, inplace=True)"
      ],
      "execution_count": null,
      "outputs": []
    },
    {
      "cell_type": "code",
      "metadata": {
        "id": "4ywa_U3MKH69",
        "colab_type": "code",
        "colab": {}
      },
      "source": [
        "data.drop('Fjob',axis =1, inplace=True)"
      ],
      "execution_count": null,
      "outputs": []
    },
    {
      "cell_type": "code",
      "metadata": {
        "id": "vpxvfM5KKKa-",
        "colab_type": "code",
        "colab": {
          "base_uri": "https://localhost:8080/",
          "height": 118
        },
        "outputId": "10896616-211b-40dc-82fe-b0522a26c4c6"
      },
      "source": [
        "data['Medu'].value_counts()"
      ],
      "execution_count": null,
      "outputs": [
        {
          "output_type": "execute_result",
          "data": {
            "text/plain": [
              "4    131\n",
              "2    103\n",
              "3     99\n",
              "1     59\n",
              "0      3\n",
              "Name: Medu, dtype: int64"
            ]
          },
          "metadata": {
            "tags": []
          },
          "execution_count": 37
        }
      ]
    },
    {
      "cell_type": "code",
      "metadata": {
        "id": "HeJ43UBzKSkE",
        "colab_type": "code",
        "colab": {}
      },
      "source": [
        "data['Medu'] = data['Medu'].map({4:'medu4',3:'medu3',2:'medu2',1:'medu1',0:'medu0'})"
      ],
      "execution_count": null,
      "outputs": []
    },
    {
      "cell_type": "code",
      "metadata": {
        "id": "Gu535wtiK4tm",
        "colab_type": "code",
        "colab": {
          "base_uri": "https://localhost:8080/",
          "height": 118
        },
        "outputId": "d572f362-c705-463b-bad3-1618a148b1c3"
      },
      "source": [
        "data['Medu'].value_counts()"
      ],
      "execution_count": null,
      "outputs": [
        {
          "output_type": "execute_result",
          "data": {
            "text/plain": [
              "medu4    131\n",
              "medu2    103\n",
              "medu3     99\n",
              "medu1     59\n",
              "medu0      3\n",
              "Name: Medu, dtype: int64"
            ]
          },
          "metadata": {
            "tags": []
          },
          "execution_count": 39
        }
      ]
    },
    {
      "cell_type": "code",
      "metadata": {
        "id": "WQwdP84BK60R",
        "colab_type": "code",
        "colab": {}
      },
      "source": [
        "medu = pd.get_dummies(data['Medu'],drop_first=True)"
      ],
      "execution_count": null,
      "outputs": []
    },
    {
      "cell_type": "code",
      "metadata": {
        "id": "JdWodO4HLGWp",
        "colab_type": "code",
        "colab": {}
      },
      "source": [
        "data = data.join(medu)"
      ],
      "execution_count": null,
      "outputs": []
    },
    {
      "cell_type": "code",
      "metadata": {
        "id": "fis3ptvILJrC",
        "colab_type": "code",
        "colab": {}
      },
      "source": [
        "data['Fedu'] = data['Fedu'].map({4:'fedu4',3:'fedu3',2:'fedu2',1:'fedu1',0:'fedu0'})"
      ],
      "execution_count": null,
      "outputs": []
    },
    {
      "cell_type": "code",
      "metadata": {
        "id": "IvOVZaLwLikv",
        "colab_type": "code",
        "colab": {}
      },
      "source": [
        "fedu = pd.get_dummies(data['Fedu'],drop_first=True)"
      ],
      "execution_count": null,
      "outputs": []
    },
    {
      "cell_type": "code",
      "metadata": {
        "id": "SVB-3sY_Lplf",
        "colab_type": "code",
        "colab": {}
      },
      "source": [
        "data = data.join(fedu)"
      ],
      "execution_count": null,
      "outputs": []
    },
    {
      "cell_type": "code",
      "metadata": {
        "id": "-5FKvTbmLuBr",
        "colab_type": "code",
        "colab": {
          "base_uri": "https://localhost:8080/",
          "height": 773
        },
        "outputId": "438c7cba-c686-466e-f794-8d01387f27a9"
      },
      "source": [
        "data.info()"
      ],
      "execution_count": null,
      "outputs": [
        {
          "output_type": "stream",
          "text": [
            "<class 'pandas.core.frame.DataFrame'>\n",
            "RangeIndex: 395 entries, 0 to 394\n",
            "Data columns (total 38 columns):\n",
            " #   Column      Non-Null Count  Dtype \n",
            "---  ------      --------------  ----- \n",
            " 0   school      395 non-null    int64 \n",
            " 1   sex         395 non-null    int64 \n",
            " 2   address     395 non-null    int64 \n",
            " 3   Pstatus     395 non-null    int64 \n",
            " 4   Medu        395 non-null    object\n",
            " 5   Fedu        395 non-null    object\n",
            " 6   traveltime  395 non-null    int64 \n",
            " 7   studytime   395 non-null    int64 \n",
            " 8   failures    395 non-null    int64 \n",
            " 9   schoolsup   395 non-null    object\n",
            " 10  famsup      395 non-null    object\n",
            " 11  higher      395 non-null    object\n",
            " 12  internet    395 non-null    object\n",
            " 13  goout       395 non-null    int64 \n",
            " 14  Dalc        395 non-null    int64 \n",
            " 15  Walc        395 non-null    int64 \n",
            " 16  health      395 non-null    int64 \n",
            " 17  absences    395 non-null    int64 \n",
            " 18  G1          395 non-null    int64 \n",
            " 19  G2          395 non-null    int64 \n",
            " 20  G3          395 non-null    int64 \n",
            " 21  16          395 non-null    uint8 \n",
            " 22  17          395 non-null    uint8 \n",
            " 23  18          395 non-null    uint8 \n",
            " 24  19          395 non-null    uint8 \n",
            " 25  20          395 non-null    uint8 \n",
            " 26  21          395 non-null    uint8 \n",
            " 27  22          395 non-null    uint8 \n",
            " 28  othermjob   395 non-null    uint8 \n",
            " 29  teacher     395 non-null    uint8 \n",
            " 30  medu1       395 non-null    uint8 \n",
            " 31  medu2       395 non-null    uint8 \n",
            " 32  medu3       395 non-null    uint8 \n",
            " 33  medu4       395 non-null    uint8 \n",
            " 34  fedu1       395 non-null    uint8 \n",
            " 35  fedu2       395 non-null    uint8 \n",
            " 36  fedu3       395 non-null    uint8 \n",
            " 37  fedu4       395 non-null    uint8 \n",
            "dtypes: int64(15), object(6), uint8(17)\n",
            "memory usage: 71.5+ KB\n"
          ],
          "name": "stdout"
        }
      ]
    },
    {
      "cell_type": "code",
      "metadata": {
        "id": "jnW6r4sML5IF",
        "colab_type": "code",
        "colab": {}
      },
      "source": [
        "data.drop('Medu',axis =1, inplace=True)"
      ],
      "execution_count": null,
      "outputs": []
    },
    {
      "cell_type": "code",
      "metadata": {
        "id": "Vez7uB3FMCkQ",
        "colab_type": "code",
        "colab": {}
      },
      "source": [
        "data.drop('Fedu',axis =1, inplace=True)"
      ],
      "execution_count": null,
      "outputs": []
    },
    {
      "cell_type": "code",
      "metadata": {
        "id": "9QhVeOm5MElK",
        "colab_type": "code",
        "colab": {
          "base_uri": "https://localhost:8080/",
          "height": 739
        },
        "outputId": "0e4280f8-c272-4df1-e19c-d443902d62ed"
      },
      "source": [
        "data.info()"
      ],
      "execution_count": null,
      "outputs": [
        {
          "output_type": "stream",
          "text": [
            "<class 'pandas.core.frame.DataFrame'>\n",
            "RangeIndex: 395 entries, 0 to 394\n",
            "Data columns (total 36 columns):\n",
            " #   Column      Non-Null Count  Dtype \n",
            "---  ------      --------------  ----- \n",
            " 0   school      395 non-null    int64 \n",
            " 1   sex         395 non-null    int64 \n",
            " 2   address     395 non-null    int64 \n",
            " 3   Pstatus     395 non-null    int64 \n",
            " 4   traveltime  395 non-null    int64 \n",
            " 5   studytime   395 non-null    int64 \n",
            " 6   failures    395 non-null    int64 \n",
            " 7   schoolsup   395 non-null    object\n",
            " 8   famsup      395 non-null    object\n",
            " 9   higher      395 non-null    object\n",
            " 10  internet    395 non-null    object\n",
            " 11  goout       395 non-null    int64 \n",
            " 12  Dalc        395 non-null    int64 \n",
            " 13  Walc        395 non-null    int64 \n",
            " 14  health      395 non-null    int64 \n",
            " 15  absences    395 non-null    int64 \n",
            " 16  G1          395 non-null    int64 \n",
            " 17  G2          395 non-null    int64 \n",
            " 18  G3          395 non-null    int64 \n",
            " 19  16          395 non-null    uint8 \n",
            " 20  17          395 non-null    uint8 \n",
            " 21  18          395 non-null    uint8 \n",
            " 22  19          395 non-null    uint8 \n",
            " 23  20          395 non-null    uint8 \n",
            " 24  21          395 non-null    uint8 \n",
            " 25  22          395 non-null    uint8 \n",
            " 26  othermjob   395 non-null    uint8 \n",
            " 27  teacher     395 non-null    uint8 \n",
            " 28  medu1       395 non-null    uint8 \n",
            " 29  medu2       395 non-null    uint8 \n",
            " 30  medu3       395 non-null    uint8 \n",
            " 31  medu4       395 non-null    uint8 \n",
            " 32  fedu1       395 non-null    uint8 \n",
            " 33  fedu2       395 non-null    uint8 \n",
            " 34  fedu3       395 non-null    uint8 \n",
            " 35  fedu4       395 non-null    uint8 \n",
            "dtypes: int64(15), object(4), uint8(17)\n",
            "memory usage: 65.3+ KB\n"
          ],
          "name": "stdout"
        }
      ]
    },
    {
      "cell_type": "code",
      "metadata": {
        "id": "Bfka1-_dMS3V",
        "colab_type": "code",
        "colab": {
          "base_uri": "https://localhost:8080/",
          "height": 101
        },
        "outputId": "ee1bd462-6c15-4a08-e9cd-f0bae3e737d5"
      },
      "source": [
        "data['traveltime'].value_counts()"
      ],
      "execution_count": null,
      "outputs": [
        {
          "output_type": "execute_result",
          "data": {
            "text/plain": [
              "1    257\n",
              "2    107\n",
              "3     23\n",
              "4      8\n",
              "Name: traveltime, dtype: int64"
            ]
          },
          "metadata": {
            "tags": []
          },
          "execution_count": 51
        }
      ]
    },
    {
      "cell_type": "code",
      "metadata": {
        "id": "vN80gWBbMq-A",
        "colab_type": "code",
        "colab": {}
      },
      "source": [
        "data['traveltime'] = data['traveltime'].map({4:'travel4',3:'travel3',2:'travel2',1:'travel1'})"
      ],
      "execution_count": null,
      "outputs": []
    },
    {
      "cell_type": "code",
      "metadata": {
        "id": "_ao8KdmtM_Vn",
        "colab_type": "code",
        "colab": {}
      },
      "source": [
        "travel = pd.get_dummies(data['traveltime'],drop_first=True)"
      ],
      "execution_count": null,
      "outputs": []
    },
    {
      "cell_type": "code",
      "metadata": {
        "id": "KwsCRvhTNJo3",
        "colab_type": "code",
        "colab": {
          "base_uri": "https://localhost:8080/",
          "height": 402
        },
        "outputId": "5a047ba4-483c-4906-889c-c5868a18945c"
      },
      "source": [
        "travel"
      ],
      "execution_count": null,
      "outputs": [
        {
          "output_type": "execute_result",
          "data": {
            "text/html": [
              "<div>\n",
              "<style scoped>\n",
              "    .dataframe tbody tr th:only-of-type {\n",
              "        vertical-align: middle;\n",
              "    }\n",
              "\n",
              "    .dataframe tbody tr th {\n",
              "        vertical-align: top;\n",
              "    }\n",
              "\n",
              "    .dataframe thead th {\n",
              "        text-align: right;\n",
              "    }\n",
              "</style>\n",
              "<table border=\"1\" class=\"dataframe\">\n",
              "  <thead>\n",
              "    <tr style=\"text-align: right;\">\n",
              "      <th></th>\n",
              "      <th>travel2</th>\n",
              "      <th>travel3</th>\n",
              "      <th>travel4</th>\n",
              "    </tr>\n",
              "  </thead>\n",
              "  <tbody>\n",
              "    <tr>\n",
              "      <th>0</th>\n",
              "      <td>1</td>\n",
              "      <td>0</td>\n",
              "      <td>0</td>\n",
              "    </tr>\n",
              "    <tr>\n",
              "      <th>1</th>\n",
              "      <td>0</td>\n",
              "      <td>0</td>\n",
              "      <td>0</td>\n",
              "    </tr>\n",
              "    <tr>\n",
              "      <th>2</th>\n",
              "      <td>0</td>\n",
              "      <td>0</td>\n",
              "      <td>0</td>\n",
              "    </tr>\n",
              "    <tr>\n",
              "      <th>3</th>\n",
              "      <td>0</td>\n",
              "      <td>0</td>\n",
              "      <td>0</td>\n",
              "    </tr>\n",
              "    <tr>\n",
              "      <th>4</th>\n",
              "      <td>0</td>\n",
              "      <td>0</td>\n",
              "      <td>0</td>\n",
              "    </tr>\n",
              "    <tr>\n",
              "      <th>...</th>\n",
              "      <td>...</td>\n",
              "      <td>...</td>\n",
              "      <td>...</td>\n",
              "    </tr>\n",
              "    <tr>\n",
              "      <th>390</th>\n",
              "      <td>0</td>\n",
              "      <td>0</td>\n",
              "      <td>0</td>\n",
              "    </tr>\n",
              "    <tr>\n",
              "      <th>391</th>\n",
              "      <td>1</td>\n",
              "      <td>0</td>\n",
              "      <td>0</td>\n",
              "    </tr>\n",
              "    <tr>\n",
              "      <th>392</th>\n",
              "      <td>0</td>\n",
              "      <td>0</td>\n",
              "      <td>0</td>\n",
              "    </tr>\n",
              "    <tr>\n",
              "      <th>393</th>\n",
              "      <td>0</td>\n",
              "      <td>1</td>\n",
              "      <td>0</td>\n",
              "    </tr>\n",
              "    <tr>\n",
              "      <th>394</th>\n",
              "      <td>0</td>\n",
              "      <td>0</td>\n",
              "      <td>0</td>\n",
              "    </tr>\n",
              "  </tbody>\n",
              "</table>\n",
              "<p>395 rows × 3 columns</p>\n",
              "</div>"
            ],
            "text/plain": [
              "     travel2  travel3  travel4\n",
              "0          1        0        0\n",
              "1          0        0        0\n",
              "2          0        0        0\n",
              "3          0        0        0\n",
              "4          0        0        0\n",
              "..       ...      ...      ...\n",
              "390        0        0        0\n",
              "391        1        0        0\n",
              "392        0        0        0\n",
              "393        0        1        0\n",
              "394        0        0        0\n",
              "\n",
              "[395 rows x 3 columns]"
            ]
          },
          "metadata": {
            "tags": []
          },
          "execution_count": 54
        }
      ]
    },
    {
      "cell_type": "code",
      "metadata": {
        "id": "zgod3ODpNMqg",
        "colab_type": "code",
        "colab": {}
      },
      "source": [
        "data = data.join(travel)"
      ],
      "execution_count": null,
      "outputs": []
    },
    {
      "cell_type": "code",
      "metadata": {
        "id": "8rpcYfe1NTIg",
        "colab_type": "code",
        "colab": {
          "base_uri": "https://localhost:8080/",
          "height": 101
        },
        "outputId": "5b3a3ae7-537a-4915-a99d-e841e26a7db8"
      },
      "source": [
        "data['studytime'].value_counts()"
      ],
      "execution_count": null,
      "outputs": [
        {
          "output_type": "execute_result",
          "data": {
            "text/plain": [
              "2    198\n",
              "1    105\n",
              "3     65\n",
              "4     27\n",
              "Name: studytime, dtype: int64"
            ]
          },
          "metadata": {
            "tags": []
          },
          "execution_count": 57
        }
      ]
    },
    {
      "cell_type": "code",
      "metadata": {
        "id": "ESGryD9iNXAk",
        "colab_type": "code",
        "colab": {}
      },
      "source": [
        "data['studytime'] = data['studytime'].map({4:'study4',3:'study3',2:'study2',1:'study1'})"
      ],
      "execution_count": null,
      "outputs": []
    },
    {
      "cell_type": "code",
      "metadata": {
        "id": "6535Mt3gNpyZ",
        "colab_type": "code",
        "colab": {}
      },
      "source": [
        "study = pd.get_dummies(data['studytime'],drop_first=True)"
      ],
      "execution_count": null,
      "outputs": []
    },
    {
      "cell_type": "code",
      "metadata": {
        "id": "ARtwdI4vNxW_",
        "colab_type": "code",
        "colab": {}
      },
      "source": [
        "data = data.join(study)"
      ],
      "execution_count": null,
      "outputs": []
    },
    {
      "cell_type": "code",
      "metadata": {
        "id": "FSn0qavuN00w",
        "colab_type": "code",
        "colab": {
          "base_uri": "https://localhost:8080/",
          "height": 101
        },
        "outputId": "3dd7171b-0dfa-4387-8e46-c282b52f9207"
      },
      "source": [
        "data['failures'].value_counts()"
      ],
      "execution_count": null,
      "outputs": [
        {
          "output_type": "execute_result",
          "data": {
            "text/plain": [
              "0    312\n",
              "1     50\n",
              "2     17\n",
              "3     16\n",
              "Name: failures, dtype: int64"
            ]
          },
          "metadata": {
            "tags": []
          },
          "execution_count": 61
        }
      ]
    },
    {
      "cell_type": "code",
      "metadata": {
        "id": "F6Eh9CUoN8An",
        "colab_type": "code",
        "colab": {}
      },
      "source": [
        "data['failures'] = data['failures'].map({0:'failure0',3:'failure3',2:'failure2',1:'failure1'})"
      ],
      "execution_count": null,
      "outputs": []
    },
    {
      "cell_type": "code",
      "metadata": {
        "id": "PcNLtpG2OP1y",
        "colab_type": "code",
        "colab": {}
      },
      "source": [
        "failures = pd.get_dummies(data['failures'],drop_first=True)"
      ],
      "execution_count": null,
      "outputs": []
    },
    {
      "cell_type": "code",
      "metadata": {
        "id": "pj4LXZNyOShf",
        "colab_type": "code",
        "colab": {
          "base_uri": "https://localhost:8080/",
          "height": 218
        },
        "outputId": "eab5caab-8767-4f99-d750-aa4849785279"
      },
      "source": [
        "data['failures']"
      ],
      "execution_count": null,
      "outputs": [
        {
          "output_type": "execute_result",
          "data": {
            "text/plain": [
              "0      NaN\n",
              "1      NaN\n",
              "2      NaN\n",
              "3      NaN\n",
              "4      NaN\n",
              "      ... \n",
              "390    NaN\n",
              "391    NaN\n",
              "392    NaN\n",
              "393    NaN\n",
              "394    NaN\n",
              "Name: failures, Length: 395, dtype: object"
            ]
          },
          "metadata": {
            "tags": []
          },
          "execution_count": 68
        }
      ]
    },
    {
      "cell_type": "code",
      "metadata": {
        "id": "JZTlcx8XPGxz",
        "colab_type": "code",
        "colab": {}
      },
      "source": [
        "test = pd.read_csv('/content/student-mat.csv', sep = ';')"
      ],
      "execution_count": null,
      "outputs": []
    },
    {
      "cell_type": "code",
      "metadata": {
        "id": "XFHiEU1OPn2b",
        "colab_type": "code",
        "colab": {}
      },
      "source": [
        "data['failures'] = test['failures']"
      ],
      "execution_count": null,
      "outputs": []
    },
    {
      "cell_type": "code",
      "metadata": {
        "id": "8FzfOIWZPsJs",
        "colab_type": "code",
        "colab": {
          "base_uri": "https://localhost:8080/",
          "height": 101
        },
        "outputId": "3a558ce9-a432-49ce-8945-acaf61751b63"
      },
      "source": [
        "data['failures'].value_counts()"
      ],
      "execution_count": null,
      "outputs": [
        {
          "output_type": "execute_result",
          "data": {
            "text/plain": [
              "0    312\n",
              "1     50\n",
              "2     17\n",
              "3     16\n",
              "Name: failures, dtype: int64"
            ]
          },
          "metadata": {
            "tags": []
          },
          "execution_count": 71
        }
      ]
    },
    {
      "cell_type": "code",
      "metadata": {
        "id": "7uBZjmx8PzEj",
        "colab_type": "code",
        "colab": {}
      },
      "source": [
        "data['failures'] = data['failures'].map({0:'failure0',3:'failure3',2:'failure2',1:'failure1'})"
      ],
      "execution_count": null,
      "outputs": []
    },
    {
      "cell_type": "code",
      "metadata": {
        "id": "_D8DUQv1P8Lp",
        "colab_type": "code",
        "colab": {}
      },
      "source": [
        "failures = pd.get_dummies(data['failures'],drop_first=True)"
      ],
      "execution_count": null,
      "outputs": []
    },
    {
      "cell_type": "code",
      "metadata": {
        "id": "FX8ZsXD_QETo",
        "colab_type": "code",
        "colab": {}
      },
      "source": [
        "data = data.join(failures)"
      ],
      "execution_count": null,
      "outputs": []
    },
    {
      "cell_type": "code",
      "metadata": {
        "id": "CHUU_hnYQQKV",
        "colab_type": "code",
        "colab": {
          "base_uri": "https://localhost:8080/",
          "height": 890
        },
        "outputId": "58a940c7-52bd-467a-8462-e03b9283b915"
      },
      "source": [
        "data.info()"
      ],
      "execution_count": null,
      "outputs": [
        {
          "output_type": "stream",
          "text": [
            "<class 'pandas.core.frame.DataFrame'>\n",
            "RangeIndex: 395 entries, 0 to 394\n",
            "Data columns (total 45 columns):\n",
            " #   Column      Non-Null Count  Dtype \n",
            "---  ------      --------------  ----- \n",
            " 0   school      395 non-null    int64 \n",
            " 1   sex         395 non-null    int64 \n",
            " 2   address     395 non-null    int64 \n",
            " 3   Pstatus     395 non-null    int64 \n",
            " 4   traveltime  395 non-null    object\n",
            " 5   studytime   395 non-null    object\n",
            " 6   failures    395 non-null    object\n",
            " 7   schoolsup   395 non-null    object\n",
            " 8   famsup      395 non-null    object\n",
            " 9   higher      395 non-null    object\n",
            " 10  internet    395 non-null    object\n",
            " 11  goout       395 non-null    int64 \n",
            " 12  Dalc        395 non-null    int64 \n",
            " 13  Walc        395 non-null    int64 \n",
            " 14  health      395 non-null    int64 \n",
            " 15  absences    395 non-null    int64 \n",
            " 16  G1          395 non-null    int64 \n",
            " 17  G2          395 non-null    int64 \n",
            " 18  G3          395 non-null    int64 \n",
            " 19  16          395 non-null    uint8 \n",
            " 20  17          395 non-null    uint8 \n",
            " 21  18          395 non-null    uint8 \n",
            " 22  19          395 non-null    uint8 \n",
            " 23  20          395 non-null    uint8 \n",
            " 24  21          395 non-null    uint8 \n",
            " 25  22          395 non-null    uint8 \n",
            " 26  othermjob   395 non-null    uint8 \n",
            " 27  teacher     395 non-null    uint8 \n",
            " 28  medu1       395 non-null    uint8 \n",
            " 29  medu2       395 non-null    uint8 \n",
            " 30  medu3       395 non-null    uint8 \n",
            " 31  medu4       395 non-null    uint8 \n",
            " 32  fedu1       395 non-null    uint8 \n",
            " 33  fedu2       395 non-null    uint8 \n",
            " 34  fedu3       395 non-null    uint8 \n",
            " 35  fedu4       395 non-null    uint8 \n",
            " 36  travel2     395 non-null    uint8 \n",
            " 37  travel3     395 non-null    uint8 \n",
            " 38  travel4     395 non-null    uint8 \n",
            " 39  study2      395 non-null    uint8 \n",
            " 40  study3      395 non-null    uint8 \n",
            " 41  study4      395 non-null    uint8 \n",
            " 42  failure1    395 non-null    uint8 \n",
            " 43  failure2    395 non-null    uint8 \n",
            " 44  failure3    395 non-null    uint8 \n",
            "dtypes: int64(12), object(7), uint8(26)\n",
            "memory usage: 68.8+ KB\n"
          ],
          "name": "stdout"
        }
      ]
    },
    {
      "cell_type": "code",
      "metadata": {
        "id": "h1LEhx1gQSmu",
        "colab_type": "code",
        "colab": {}
      },
      "source": [
        "data.drop('studytime',axis=1,inplace=True)"
      ],
      "execution_count": null,
      "outputs": []
    },
    {
      "cell_type": "code",
      "metadata": {
        "id": "XjtRJHRwRF_T",
        "colab_type": "code",
        "colab": {}
      },
      "source": [
        "data.drop('traveltime',axis=1,inplace=True)"
      ],
      "execution_count": null,
      "outputs": []
    },
    {
      "cell_type": "code",
      "metadata": {
        "id": "McFtU64QRJTg",
        "colab_type": "code",
        "colab": {}
      },
      "source": [
        "data.drop('failures',axis=1,inplace=True)"
      ],
      "execution_count": null,
      "outputs": []
    },
    {
      "cell_type": "code",
      "metadata": {
        "id": "SXX0yhrkRMEY",
        "colab_type": "code",
        "colab": {
          "base_uri": "https://localhost:8080/",
          "height": 840
        },
        "outputId": "24c1dd30-0e8c-4ba1-eb9d-08ddc0ce985f"
      },
      "source": [
        "data.info()"
      ],
      "execution_count": null,
      "outputs": [
        {
          "output_type": "stream",
          "text": [
            "<class 'pandas.core.frame.DataFrame'>\n",
            "RangeIndex: 395 entries, 0 to 394\n",
            "Data columns (total 42 columns):\n",
            " #   Column     Non-Null Count  Dtype \n",
            "---  ------     --------------  ----- \n",
            " 0   school     395 non-null    int64 \n",
            " 1   sex        395 non-null    int64 \n",
            " 2   address    395 non-null    int64 \n",
            " 3   Pstatus    395 non-null    int64 \n",
            " 4   schoolsup  395 non-null    object\n",
            " 5   famsup     395 non-null    object\n",
            " 6   higher     395 non-null    object\n",
            " 7   internet   395 non-null    object\n",
            " 8   goout      395 non-null    int64 \n",
            " 9   Dalc       395 non-null    int64 \n",
            " 10  Walc       395 non-null    int64 \n",
            " 11  health     395 non-null    int64 \n",
            " 12  absences   395 non-null    int64 \n",
            " 13  G1         395 non-null    int64 \n",
            " 14  G2         395 non-null    int64 \n",
            " 15  G3         395 non-null    int64 \n",
            " 16  16         395 non-null    uint8 \n",
            " 17  17         395 non-null    uint8 \n",
            " 18  18         395 non-null    uint8 \n",
            " 19  19         395 non-null    uint8 \n",
            " 20  20         395 non-null    uint8 \n",
            " 21  21         395 non-null    uint8 \n",
            " 22  22         395 non-null    uint8 \n",
            " 23  othermjob  395 non-null    uint8 \n",
            " 24  teacher    395 non-null    uint8 \n",
            " 25  medu1      395 non-null    uint8 \n",
            " 26  medu2      395 non-null    uint8 \n",
            " 27  medu3      395 non-null    uint8 \n",
            " 28  medu4      395 non-null    uint8 \n",
            " 29  fedu1      395 non-null    uint8 \n",
            " 30  fedu2      395 non-null    uint8 \n",
            " 31  fedu3      395 non-null    uint8 \n",
            " 32  fedu4      395 non-null    uint8 \n",
            " 33  travel2    395 non-null    uint8 \n",
            " 34  travel3    395 non-null    uint8 \n",
            " 35  travel4    395 non-null    uint8 \n",
            " 36  study2     395 non-null    uint8 \n",
            " 37  study3     395 non-null    uint8 \n",
            " 38  study4     395 non-null    uint8 \n",
            " 39  failure1   395 non-null    uint8 \n",
            " 40  failure2   395 non-null    uint8 \n",
            " 41  failure3   395 non-null    uint8 \n",
            "dtypes: int64(12), object(4), uint8(26)\n",
            "memory usage: 59.5+ KB\n"
          ],
          "name": "stdout"
        }
      ]
    },
    {
      "cell_type": "code",
      "metadata": {
        "id": "8kQdEmiuRTvp",
        "colab_type": "code",
        "colab": {
          "base_uri": "https://localhost:8080/",
          "height": 67
        },
        "outputId": "d20708a3-d052-42b4-c617-ae39da40ec59"
      },
      "source": [
        "data['schoolsup'].value_counts()"
      ],
      "execution_count": null,
      "outputs": [
        {
          "output_type": "execute_result",
          "data": {
            "text/plain": [
              "no     344\n",
              "yes     51\n",
              "Name: schoolsup, dtype: int64"
            ]
          },
          "metadata": {
            "tags": []
          },
          "execution_count": 80
        }
      ]
    },
    {
      "cell_type": "code",
      "metadata": {
        "id": "GNqnL09tRcQ7",
        "colab_type": "code",
        "colab": {}
      },
      "source": [
        "data['schoolsup'] = data['schoolsup'].map({'no':0,'yes':1})"
      ],
      "execution_count": null,
      "outputs": []
    },
    {
      "cell_type": "code",
      "metadata": {
        "id": "KHPO7cLWRuiQ",
        "colab_type": "code",
        "colab": {
          "base_uri": "https://localhost:8080/",
          "height": 218
        },
        "outputId": "facc2eac-91dd-4e5c-b5f2-4d0cbc0975eb"
      },
      "source": [
        "data['schoolsup']"
      ],
      "execution_count": null,
      "outputs": [
        {
          "output_type": "execute_result",
          "data": {
            "text/plain": [
              "0      1\n",
              "1      0\n",
              "2      1\n",
              "3      0\n",
              "4      0\n",
              "      ..\n",
              "390    0\n",
              "391    0\n",
              "392    0\n",
              "393    0\n",
              "394    0\n",
              "Name: schoolsup, Length: 395, dtype: int64"
            ]
          },
          "metadata": {
            "tags": []
          },
          "execution_count": 82
        }
      ]
    },
    {
      "cell_type": "code",
      "metadata": {
        "id": "ByjzBnetRxJw",
        "colab_type": "code",
        "colab": {
          "base_uri": "https://localhost:8080/",
          "height": 67
        },
        "outputId": "f2f0de04-28cd-43b1-e13d-5aa0926ccf07"
      },
      "source": [
        "data['famsup'].value_counts()"
      ],
      "execution_count": null,
      "outputs": [
        {
          "output_type": "execute_result",
          "data": {
            "text/plain": [
              "yes    242\n",
              "no     153\n",
              "Name: famsup, dtype: int64"
            ]
          },
          "metadata": {
            "tags": []
          },
          "execution_count": 83
        }
      ]
    },
    {
      "cell_type": "code",
      "metadata": {
        "id": "_4QpYfACR7AU",
        "colab_type": "code",
        "colab": {}
      },
      "source": [
        "data['famsup'] = data['famsup'].map({'no':0,'yes':1})"
      ],
      "execution_count": null,
      "outputs": []
    },
    {
      "cell_type": "code",
      "metadata": {
        "id": "pyTjLvBASDPq",
        "colab_type": "code",
        "colab": {
          "base_uri": "https://localhost:8080/",
          "height": 67
        },
        "outputId": "cf5fca53-d7d5-4d5f-bf1b-8c6eea1c15d3"
      },
      "source": [
        "data['famsup'].value_counts()"
      ],
      "execution_count": null,
      "outputs": [
        {
          "output_type": "execute_result",
          "data": {
            "text/plain": [
              "1    242\n",
              "0    153\n",
              "Name: famsup, dtype: int64"
            ]
          },
          "metadata": {
            "tags": []
          },
          "execution_count": 85
        }
      ]
    },
    {
      "cell_type": "code",
      "metadata": {
        "id": "2J94PwP2SGsy",
        "colab_type": "code",
        "colab": {
          "base_uri": "https://localhost:8080/",
          "height": 67
        },
        "outputId": "437e2d59-7aa3-4f4d-dde4-1feb7e9471fd"
      },
      "source": [
        "data['higher'].value_counts()"
      ],
      "execution_count": null,
      "outputs": [
        {
          "output_type": "execute_result",
          "data": {
            "text/plain": [
              "yes    375\n",
              "no      20\n",
              "Name: higher, dtype: int64"
            ]
          },
          "metadata": {
            "tags": []
          },
          "execution_count": 86
        }
      ]
    },
    {
      "cell_type": "code",
      "metadata": {
        "id": "WorgYrtpSXye",
        "colab_type": "code",
        "colab": {}
      },
      "source": [
        "data['higher'] = data['higher'].map({'no':0,'yes':1})"
      ],
      "execution_count": null,
      "outputs": []
    },
    {
      "cell_type": "code",
      "metadata": {
        "id": "6SOwNxFmSiMb",
        "colab_type": "code",
        "colab": {
          "base_uri": "https://localhost:8080/",
          "height": 67
        },
        "outputId": "cee9a1bc-2b0b-46cf-ba91-6a9d6bed19c0"
      },
      "source": [
        "data['internet'].value_counts()"
      ],
      "execution_count": null,
      "outputs": [
        {
          "output_type": "execute_result",
          "data": {
            "text/plain": [
              "yes    329\n",
              "no      66\n",
              "Name: internet, dtype: int64"
            ]
          },
          "metadata": {
            "tags": []
          },
          "execution_count": 88
        }
      ]
    },
    {
      "cell_type": "code",
      "metadata": {
        "id": "-T_IGlEMS_PM",
        "colab_type": "code",
        "colab": {}
      },
      "source": [
        "data['internet'] = data['internet'].map({'no':0,'yes':1})"
      ],
      "execution_count": null,
      "outputs": []
    },
    {
      "cell_type": "code",
      "metadata": {
        "id": "i14SdHPNTK2t",
        "colab_type": "code",
        "colab": {
          "base_uri": "https://localhost:8080/",
          "height": 840
        },
        "outputId": "c0344ea0-7bc8-4f17-8ddc-eaa97b7af475"
      },
      "source": [
        "data.info()"
      ],
      "execution_count": null,
      "outputs": [
        {
          "output_type": "stream",
          "text": [
            "<class 'pandas.core.frame.DataFrame'>\n",
            "RangeIndex: 395 entries, 0 to 394\n",
            "Data columns (total 42 columns):\n",
            " #   Column     Non-Null Count  Dtype\n",
            "---  ------     --------------  -----\n",
            " 0   school     395 non-null    int64\n",
            " 1   sex        395 non-null    int64\n",
            " 2   address    395 non-null    int64\n",
            " 3   Pstatus    395 non-null    int64\n",
            " 4   schoolsup  395 non-null    int64\n",
            " 5   famsup     395 non-null    int64\n",
            " 6   higher     395 non-null    int64\n",
            " 7   internet   395 non-null    int64\n",
            " 8   goout      395 non-null    int64\n",
            " 9   Dalc       395 non-null    int64\n",
            " 10  Walc       395 non-null    int64\n",
            " 11  health     395 non-null    int64\n",
            " 12  absences   395 non-null    int64\n",
            " 13  G1         395 non-null    int64\n",
            " 14  G2         395 non-null    int64\n",
            " 15  G3         395 non-null    int64\n",
            " 16  16         395 non-null    uint8\n",
            " 17  17         395 non-null    uint8\n",
            " 18  18         395 non-null    uint8\n",
            " 19  19         395 non-null    uint8\n",
            " 20  20         395 non-null    uint8\n",
            " 21  21         395 non-null    uint8\n",
            " 22  22         395 non-null    uint8\n",
            " 23  othermjob  395 non-null    uint8\n",
            " 24  teacher    395 non-null    uint8\n",
            " 25  medu1      395 non-null    uint8\n",
            " 26  medu2      395 non-null    uint8\n",
            " 27  medu3      395 non-null    uint8\n",
            " 28  medu4      395 non-null    uint8\n",
            " 29  fedu1      395 non-null    uint8\n",
            " 30  fedu2      395 non-null    uint8\n",
            " 31  fedu3      395 non-null    uint8\n",
            " 32  fedu4      395 non-null    uint8\n",
            " 33  travel2    395 non-null    uint8\n",
            " 34  travel3    395 non-null    uint8\n",
            " 35  travel4    395 non-null    uint8\n",
            " 36  study2     395 non-null    uint8\n",
            " 37  study3     395 non-null    uint8\n",
            " 38  study4     395 non-null    uint8\n",
            " 39  failure1   395 non-null    uint8\n",
            " 40  failure2   395 non-null    uint8\n",
            " 41  failure3   395 non-null    uint8\n",
            "dtypes: int64(16), uint8(26)\n",
            "memory usage: 59.5 KB\n"
          ],
          "name": "stdout"
        }
      ]
    },
    {
      "cell_type": "code",
      "metadata": {
        "id": "u8Nyox80TNND",
        "colab_type": "code",
        "colab": {
          "base_uri": "https://localhost:8080/",
          "height": 118
        },
        "outputId": "44ce4ae9-9ad1-4a72-df20-f101af5f1cf1"
      },
      "source": [
        "data['goout'].value_counts()"
      ],
      "execution_count": null,
      "outputs": [
        {
          "output_type": "execute_result",
          "data": {
            "text/plain": [
              "3    130\n",
              "2    103\n",
              "4     86\n",
              "5     53\n",
              "1     23\n",
              "Name: goout, dtype: int64"
            ]
          },
          "metadata": {
            "tags": []
          },
          "execution_count": 92
        }
      ]
    },
    {
      "cell_type": "code",
      "metadata": {
        "id": "36bk9gv3TeAG",
        "colab_type": "code",
        "colab": {}
      },
      "source": [
        "data['goout'] = data['goout'].map({1:'go1',3:'go3',2:'go2',4:'go4',5:'go5'})"
      ],
      "execution_count": null,
      "outputs": []
    },
    {
      "cell_type": "code",
      "metadata": {
        "id": "H_IXqM3JT4wE",
        "colab_type": "code",
        "colab": {
          "base_uri": "https://localhost:8080/",
          "height": 118
        },
        "outputId": "9f6982c2-d12f-4534-8de3-6475fadbb743"
      },
      "source": [
        "data['goout'].value_counts()"
      ],
      "execution_count": null,
      "outputs": [
        {
          "output_type": "execute_result",
          "data": {
            "text/plain": [
              "go3    130\n",
              "go2    103\n",
              "go4     86\n",
              "go5     53\n",
              "go1     23\n",
              "Name: goout, dtype: int64"
            ]
          },
          "metadata": {
            "tags": []
          },
          "execution_count": 94
        }
      ]
    },
    {
      "cell_type": "code",
      "metadata": {
        "id": "L0c8Una3T7Vs",
        "colab_type": "code",
        "colab": {}
      },
      "source": [
        "goout = pd.get_dummies(data['goout'],drop_first=True)"
      ],
      "execution_count": null,
      "outputs": []
    },
    {
      "cell_type": "code",
      "metadata": {
        "id": "wzihmqaFUExo",
        "colab_type": "code",
        "colab": {
          "base_uri": "https://localhost:8080/",
          "height": 840
        },
        "outputId": "d3402a45-e671-4d39-c4d2-5e4a4c0aeb40"
      },
      "source": [
        "data.info()"
      ],
      "execution_count": null,
      "outputs": [
        {
          "output_type": "stream",
          "text": [
            "<class 'pandas.core.frame.DataFrame'>\n",
            "RangeIndex: 395 entries, 0 to 394\n",
            "Data columns (total 42 columns):\n",
            " #   Column     Non-Null Count  Dtype \n",
            "---  ------     --------------  ----- \n",
            " 0   school     395 non-null    int64 \n",
            " 1   sex        395 non-null    int64 \n",
            " 2   address    395 non-null    int64 \n",
            " 3   Pstatus    395 non-null    int64 \n",
            " 4   schoolsup  395 non-null    int64 \n",
            " 5   famsup     395 non-null    int64 \n",
            " 6   higher     395 non-null    int64 \n",
            " 7   internet   395 non-null    int64 \n",
            " 8   goout      395 non-null    object\n",
            " 9   Dalc       395 non-null    int64 \n",
            " 10  Walc       395 non-null    int64 \n",
            " 11  health     395 non-null    int64 \n",
            " 12  absences   395 non-null    int64 \n",
            " 13  G1         395 non-null    int64 \n",
            " 14  G2         395 non-null    int64 \n",
            " 15  G3         395 non-null    int64 \n",
            " 16  16         395 non-null    uint8 \n",
            " 17  17         395 non-null    uint8 \n",
            " 18  18         395 non-null    uint8 \n",
            " 19  19         395 non-null    uint8 \n",
            " 20  20         395 non-null    uint8 \n",
            " 21  21         395 non-null    uint8 \n",
            " 22  22         395 non-null    uint8 \n",
            " 23  othermjob  395 non-null    uint8 \n",
            " 24  teacher    395 non-null    uint8 \n",
            " 25  medu1      395 non-null    uint8 \n",
            " 26  medu2      395 non-null    uint8 \n",
            " 27  medu3      395 non-null    uint8 \n",
            " 28  medu4      395 non-null    uint8 \n",
            " 29  fedu1      395 non-null    uint8 \n",
            " 30  fedu2      395 non-null    uint8 \n",
            " 31  fedu3      395 non-null    uint8 \n",
            " 32  fedu4      395 non-null    uint8 \n",
            " 33  travel2    395 non-null    uint8 \n",
            " 34  travel3    395 non-null    uint8 \n",
            " 35  travel4    395 non-null    uint8 \n",
            " 36  study2     395 non-null    uint8 \n",
            " 37  study3     395 non-null    uint8 \n",
            " 38  study4     395 non-null    uint8 \n",
            " 39  failure1   395 non-null    uint8 \n",
            " 40  failure2   395 non-null    uint8 \n",
            " 41  failure3   395 non-null    uint8 \n",
            "dtypes: int64(15), object(1), uint8(26)\n",
            "memory usage: 59.5+ KB\n"
          ],
          "name": "stdout"
        }
      ]
    },
    {
      "cell_type": "code",
      "metadata": {
        "id": "6Mu_NsJWUG3Z",
        "colab_type": "code",
        "colab": {}
      },
      "source": [
        "data = data.join(goout)"
      ],
      "execution_count": null,
      "outputs": []
    },
    {
      "cell_type": "code",
      "metadata": {
        "id": "6JvYIbW-UM9Z",
        "colab_type": "code",
        "colab": {
          "base_uri": "https://localhost:8080/",
          "height": 907
        },
        "outputId": "6c59beb5-1365-4d5a-bf0d-d437d1b2f463"
      },
      "source": [
        "data.info()"
      ],
      "execution_count": null,
      "outputs": [
        {
          "output_type": "stream",
          "text": [
            "<class 'pandas.core.frame.DataFrame'>\n",
            "RangeIndex: 395 entries, 0 to 394\n",
            "Data columns (total 46 columns):\n",
            " #   Column     Non-Null Count  Dtype \n",
            "---  ------     --------------  ----- \n",
            " 0   school     395 non-null    int64 \n",
            " 1   sex        395 non-null    int64 \n",
            " 2   address    395 non-null    int64 \n",
            " 3   Pstatus    395 non-null    int64 \n",
            " 4   schoolsup  395 non-null    int64 \n",
            " 5   famsup     395 non-null    int64 \n",
            " 6   higher     395 non-null    int64 \n",
            " 7   internet   395 non-null    int64 \n",
            " 8   goout      395 non-null    object\n",
            " 9   Dalc       395 non-null    int64 \n",
            " 10  Walc       395 non-null    int64 \n",
            " 11  health     395 non-null    int64 \n",
            " 12  absences   395 non-null    int64 \n",
            " 13  G1         395 non-null    int64 \n",
            " 14  G2         395 non-null    int64 \n",
            " 15  G3         395 non-null    int64 \n",
            " 16  16         395 non-null    uint8 \n",
            " 17  17         395 non-null    uint8 \n",
            " 18  18         395 non-null    uint8 \n",
            " 19  19         395 non-null    uint8 \n",
            " 20  20         395 non-null    uint8 \n",
            " 21  21         395 non-null    uint8 \n",
            " 22  22         395 non-null    uint8 \n",
            " 23  othermjob  395 non-null    uint8 \n",
            " 24  teacher    395 non-null    uint8 \n",
            " 25  medu1      395 non-null    uint8 \n",
            " 26  medu2      395 non-null    uint8 \n",
            " 27  medu3      395 non-null    uint8 \n",
            " 28  medu4      395 non-null    uint8 \n",
            " 29  fedu1      395 non-null    uint8 \n",
            " 30  fedu2      395 non-null    uint8 \n",
            " 31  fedu3      395 non-null    uint8 \n",
            " 32  fedu4      395 non-null    uint8 \n",
            " 33  travel2    395 non-null    uint8 \n",
            " 34  travel3    395 non-null    uint8 \n",
            " 35  travel4    395 non-null    uint8 \n",
            " 36  study2     395 non-null    uint8 \n",
            " 37  study3     395 non-null    uint8 \n",
            " 38  study4     395 non-null    uint8 \n",
            " 39  failure1   395 non-null    uint8 \n",
            " 40  failure2   395 non-null    uint8 \n",
            " 41  failure3   395 non-null    uint8 \n",
            " 42  go2        395 non-null    uint8 \n",
            " 43  go3        395 non-null    uint8 \n",
            " 44  go4        395 non-null    uint8 \n",
            " 45  go5        395 non-null    uint8 \n",
            "dtypes: int64(15), object(1), uint8(30)\n",
            "memory usage: 61.1+ KB\n"
          ],
          "name": "stdout"
        }
      ]
    },
    {
      "cell_type": "code",
      "metadata": {
        "id": "cLtYPy4YUPHb",
        "colab_type": "code",
        "colab": {}
      },
      "source": [
        "data.drop('goout',axis=1,inplace=True)"
      ],
      "execution_count": null,
      "outputs": []
    },
    {
      "cell_type": "code",
      "metadata": {
        "id": "XlPNjhymUjzm",
        "colab_type": "code",
        "colab": {
          "base_uri": "https://localhost:8080/",
          "height": 118
        },
        "outputId": "2b944b96-e508-4286-c045-8b6c5ad285c9"
      },
      "source": [
        "data['Dalc'].value_counts()"
      ],
      "execution_count": null,
      "outputs": [
        {
          "output_type": "execute_result",
          "data": {
            "text/plain": [
              "1    276\n",
              "2     75\n",
              "3     26\n",
              "5      9\n",
              "4      9\n",
              "Name: Dalc, dtype: int64"
            ]
          },
          "metadata": {
            "tags": []
          },
          "execution_count": 101
        }
      ]
    },
    {
      "cell_type": "code",
      "metadata": {
        "id": "aY4Ya-j1UrzF",
        "colab_type": "code",
        "colab": {}
      },
      "source": [
        "data['Dalc'] = data['Dalc'].map({1:'dalc1',3:'dalc3',2:'dalc2',4:'dalc4',5:'dalc5'})"
      ],
      "execution_count": null,
      "outputs": []
    },
    {
      "cell_type": "code",
      "metadata": {
        "id": "LqzDjFZ_VfyL",
        "colab_type": "code",
        "colab": {}
      },
      "source": [
        "data['Walc'] = data['Walc'].map({1:'walc1',3:'walc3',2:'walc2',4:'walc4',5:'walc5'})"
      ],
      "execution_count": null,
      "outputs": []
    },
    {
      "cell_type": "code",
      "metadata": {
        "id": "ydoHDwevVzVP",
        "colab_type": "code",
        "colab": {
          "base_uri": "https://localhost:8080/",
          "height": 118
        },
        "outputId": "f4192504-fe9e-45cb-e6b3-a16c36acecfd"
      },
      "source": [
        "data['Walc'].value_counts()"
      ],
      "execution_count": null,
      "outputs": [
        {
          "output_type": "execute_result",
          "data": {
            "text/plain": [
              "walc1    151\n",
              "walc2     85\n",
              "walc3     80\n",
              "walc4     51\n",
              "walc5     28\n",
              "Name: Walc, dtype: int64"
            ]
          },
          "metadata": {
            "tags": []
          },
          "execution_count": 105
        }
      ]
    },
    {
      "cell_type": "code",
      "metadata": {
        "id": "i-14VQu_V-oa",
        "colab_type": "code",
        "colab": {}
      },
      "source": [
        "walc = pd.get_dummies(data['Walc'],drop_first=True)"
      ],
      "execution_count": null,
      "outputs": []
    },
    {
      "cell_type": "code",
      "metadata": {
        "id": "59uzWXSjWGyv",
        "colab_type": "code",
        "colab": {}
      },
      "source": [
        "dalc = pd.get_dummies(data['Dalc'],drop_first=True)"
      ],
      "execution_count": null,
      "outputs": []
    },
    {
      "cell_type": "code",
      "metadata": {
        "id": "BqCh6sxGWKhk",
        "colab_type": "code",
        "colab": {}
      },
      "source": [
        "data=data.join([walc,dalc])"
      ],
      "execution_count": null,
      "outputs": []
    },
    {
      "cell_type": "code",
      "metadata": {
        "id": "vNff4unKWORa",
        "colab_type": "code",
        "colab": {}
      },
      "source": [
        "data.drop('Dalc',axis=1,inplace=True)"
      ],
      "execution_count": null,
      "outputs": []
    },
    {
      "cell_type": "code",
      "metadata": {
        "id": "tVRDb7VXWdo6",
        "colab_type": "code",
        "colab": {}
      },
      "source": [
        "data.drop('Walc',axis=1,inplace=True)"
      ],
      "execution_count": null,
      "outputs": []
    },
    {
      "cell_type": "code",
      "metadata": {
        "id": "2wh5JD95Wg0i",
        "colab_type": "code",
        "colab": {
          "base_uri": "https://localhost:8080/",
          "height": 991
        },
        "outputId": "c23defa7-393c-4824-a768-e4dfcefaf1eb"
      },
      "source": [
        "data.info()"
      ],
      "execution_count": null,
      "outputs": [
        {
          "output_type": "stream",
          "text": [
            "<class 'pandas.core.frame.DataFrame'>\n",
            "RangeIndex: 395 entries, 0 to 394\n",
            "Data columns (total 51 columns):\n",
            " #   Column     Non-Null Count  Dtype\n",
            "---  ------     --------------  -----\n",
            " 0   school     395 non-null    int64\n",
            " 1   sex        395 non-null    int64\n",
            " 2   address    395 non-null    int64\n",
            " 3   Pstatus    395 non-null    int64\n",
            " 4   schoolsup  395 non-null    int64\n",
            " 5   famsup     395 non-null    int64\n",
            " 6   higher     395 non-null    int64\n",
            " 7   internet   395 non-null    int64\n",
            " 8   health     395 non-null    int64\n",
            " 9   absences   395 non-null    int64\n",
            " 10  G1         395 non-null    int64\n",
            " 11  G2         395 non-null    int64\n",
            " 12  G3         395 non-null    int64\n",
            " 13  16         395 non-null    uint8\n",
            " 14  17         395 non-null    uint8\n",
            " 15  18         395 non-null    uint8\n",
            " 16  19         395 non-null    uint8\n",
            " 17  20         395 non-null    uint8\n",
            " 18  21         395 non-null    uint8\n",
            " 19  22         395 non-null    uint8\n",
            " 20  othermjob  395 non-null    uint8\n",
            " 21  teacher    395 non-null    uint8\n",
            " 22  medu1      395 non-null    uint8\n",
            " 23  medu2      395 non-null    uint8\n",
            " 24  medu3      395 non-null    uint8\n",
            " 25  medu4      395 non-null    uint8\n",
            " 26  fedu1      395 non-null    uint8\n",
            " 27  fedu2      395 non-null    uint8\n",
            " 28  fedu3      395 non-null    uint8\n",
            " 29  fedu4      395 non-null    uint8\n",
            " 30  travel2    395 non-null    uint8\n",
            " 31  travel3    395 non-null    uint8\n",
            " 32  travel4    395 non-null    uint8\n",
            " 33  study2     395 non-null    uint8\n",
            " 34  study3     395 non-null    uint8\n",
            " 35  study4     395 non-null    uint8\n",
            " 36  failure1   395 non-null    uint8\n",
            " 37  failure2   395 non-null    uint8\n",
            " 38  failure3   395 non-null    uint8\n",
            " 39  go2        395 non-null    uint8\n",
            " 40  go3        395 non-null    uint8\n",
            " 41  go4        395 non-null    uint8\n",
            " 42  go5        395 non-null    uint8\n",
            " 43  walc2      395 non-null    uint8\n",
            " 44  walc3      395 non-null    uint8\n",
            " 45  walc4      395 non-null    uint8\n",
            " 46  walc5      395 non-null    uint8\n",
            " 47  dalc2      395 non-null    uint8\n",
            " 48  dalc3      395 non-null    uint8\n",
            " 49  dalc4      395 non-null    uint8\n",
            " 50  dalc5      395 non-null    uint8\n",
            "dtypes: int64(13), uint8(38)\n",
            "memory usage: 54.9 KB\n"
          ],
          "name": "stdout"
        }
      ]
    },
    {
      "cell_type": "code",
      "metadata": {
        "id": "XcQChs48Wi_9",
        "colab_type": "code",
        "colab": {
          "base_uri": "https://localhost:8080/",
          "height": 118
        },
        "outputId": "cc72ca8f-abc2-4e62-d7f9-216a52fbcde9"
      },
      "source": [
        "data['health'].value_counts()"
      ],
      "execution_count": null,
      "outputs": [
        {
          "output_type": "execute_result",
          "data": {
            "text/plain": [
              "5    146\n",
              "3     91\n",
              "4     66\n",
              "1     47\n",
              "2     45\n",
              "Name: health, dtype: int64"
            ]
          },
          "metadata": {
            "tags": []
          },
          "execution_count": 113
        }
      ]
    },
    {
      "cell_type": "code",
      "metadata": {
        "id": "YsnnsCVnW9XH",
        "colab_type": "code",
        "colab": {}
      },
      "source": [
        "data['health'] = data['health'].map({1:'health1',3:'health3',2:'health2',4:'health4',5:'health5'})"
      ],
      "execution_count": null,
      "outputs": []
    },
    {
      "cell_type": "code",
      "metadata": {
        "id": "NBe4u5sEXhAP",
        "colab_type": "code",
        "colab": {
          "base_uri": "https://localhost:8080/",
          "height": 118
        },
        "outputId": "9ad2f1b1-30c6-4411-aabf-f8b3dced62e1"
      },
      "source": [
        "data['health'].value_counts()"
      ],
      "execution_count": null,
      "outputs": [
        {
          "output_type": "execute_result",
          "data": {
            "text/plain": [
              "health5    146\n",
              "health3     91\n",
              "health4     66\n",
              "health1     47\n",
              "health2     45\n",
              "Name: health, dtype: int64"
            ]
          },
          "metadata": {
            "tags": []
          },
          "execution_count": 115
        }
      ]
    },
    {
      "cell_type": "code",
      "metadata": {
        "id": "vDN04PkFXjMx",
        "colab_type": "code",
        "colab": {}
      },
      "source": [
        "health = pd.get_dummies(data['health'],drop_first=True)"
      ],
      "execution_count": null,
      "outputs": []
    },
    {
      "cell_type": "code",
      "metadata": {
        "id": "o5eY0-3sX8Z2",
        "colab_type": "code",
        "colab": {
          "base_uri": "https://localhost:8080/",
          "height": 195
        },
        "outputId": "064ff012-1aba-4ae4-d670-4ae7c4d986aa"
      },
      "source": [
        "health.head()"
      ],
      "execution_count": null,
      "outputs": [
        {
          "output_type": "execute_result",
          "data": {
            "text/html": [
              "<div>\n",
              "<style scoped>\n",
              "    .dataframe tbody tr th:only-of-type {\n",
              "        vertical-align: middle;\n",
              "    }\n",
              "\n",
              "    .dataframe tbody tr th {\n",
              "        vertical-align: top;\n",
              "    }\n",
              "\n",
              "    .dataframe thead th {\n",
              "        text-align: right;\n",
              "    }\n",
              "</style>\n",
              "<table border=\"1\" class=\"dataframe\">\n",
              "  <thead>\n",
              "    <tr style=\"text-align: right;\">\n",
              "      <th></th>\n",
              "      <th>health2</th>\n",
              "      <th>health3</th>\n",
              "      <th>health4</th>\n",
              "      <th>health5</th>\n",
              "    </tr>\n",
              "  </thead>\n",
              "  <tbody>\n",
              "    <tr>\n",
              "      <th>0</th>\n",
              "      <td>0</td>\n",
              "      <td>1</td>\n",
              "      <td>0</td>\n",
              "      <td>0</td>\n",
              "    </tr>\n",
              "    <tr>\n",
              "      <th>1</th>\n",
              "      <td>0</td>\n",
              "      <td>1</td>\n",
              "      <td>0</td>\n",
              "      <td>0</td>\n",
              "    </tr>\n",
              "    <tr>\n",
              "      <th>2</th>\n",
              "      <td>0</td>\n",
              "      <td>1</td>\n",
              "      <td>0</td>\n",
              "      <td>0</td>\n",
              "    </tr>\n",
              "    <tr>\n",
              "      <th>3</th>\n",
              "      <td>0</td>\n",
              "      <td>0</td>\n",
              "      <td>0</td>\n",
              "      <td>1</td>\n",
              "    </tr>\n",
              "    <tr>\n",
              "      <th>4</th>\n",
              "      <td>0</td>\n",
              "      <td>0</td>\n",
              "      <td>0</td>\n",
              "      <td>1</td>\n",
              "    </tr>\n",
              "  </tbody>\n",
              "</table>\n",
              "</div>"
            ],
            "text/plain": [
              "   health2  health3  health4  health5\n",
              "0        0        1        0        0\n",
              "1        0        1        0        0\n",
              "2        0        1        0        0\n",
              "3        0        0        0        1\n",
              "4        0        0        0        1"
            ]
          },
          "metadata": {
            "tags": []
          },
          "execution_count": 117
        }
      ]
    },
    {
      "cell_type": "code",
      "metadata": {
        "id": "6akCPn9oX-SF",
        "colab_type": "code",
        "colab": {}
      },
      "source": [
        "data = data.join(health)"
      ],
      "execution_count": null,
      "outputs": []
    },
    {
      "cell_type": "code",
      "metadata": {
        "id": "c9x9eb1JYFIO",
        "colab_type": "code",
        "colab": {
          "base_uri": "https://localhost:8080/",
          "height": 215
        },
        "outputId": "719a66f4-a66a-49a8-fb13-1822c0ee9eab"
      },
      "source": [
        "data.info"
      ],
      "execution_count": null,
      "outputs": [
        {
          "output_type": "execute_result",
          "data": {
            "text/html": [
              "<div>\n",
              "<style scoped>\n",
              "    .dataframe tbody tr th:only-of-type {\n",
              "        vertical-align: middle;\n",
              "    }\n",
              "\n",
              "    .dataframe tbody tr th {\n",
              "        vertical-align: top;\n",
              "    }\n",
              "\n",
              "    .dataframe thead th {\n",
              "        text-align: right;\n",
              "    }\n",
              "</style>\n",
              "<table border=\"1\" class=\"dataframe\">\n",
              "  <thead>\n",
              "    <tr style=\"text-align: right;\">\n",
              "      <th></th>\n",
              "      <th>school</th>\n",
              "      <th>sex</th>\n",
              "      <th>address</th>\n",
              "      <th>Pstatus</th>\n",
              "      <th>schoolsup</th>\n",
              "      <th>famsup</th>\n",
              "      <th>higher</th>\n",
              "      <th>internet</th>\n",
              "      <th>health</th>\n",
              "      <th>absences</th>\n",
              "      <th>G1</th>\n",
              "      <th>G2</th>\n",
              "      <th>G3</th>\n",
              "      <th>16</th>\n",
              "      <th>17</th>\n",
              "      <th>18</th>\n",
              "      <th>19</th>\n",
              "      <th>20</th>\n",
              "      <th>21</th>\n",
              "      <th>22</th>\n",
              "      <th>othermjob</th>\n",
              "      <th>teacher</th>\n",
              "      <th>medu1</th>\n",
              "      <th>medu2</th>\n",
              "      <th>medu3</th>\n",
              "      <th>medu4</th>\n",
              "      <th>fedu1</th>\n",
              "      <th>fedu2</th>\n",
              "      <th>fedu3</th>\n",
              "      <th>fedu4</th>\n",
              "      <th>travel2</th>\n",
              "      <th>travel3</th>\n",
              "      <th>travel4</th>\n",
              "      <th>study2</th>\n",
              "      <th>study3</th>\n",
              "      <th>study4</th>\n",
              "      <th>failure1</th>\n",
              "      <th>failure2</th>\n",
              "      <th>failure3</th>\n",
              "      <th>go2</th>\n",
              "      <th>go3</th>\n",
              "      <th>go4</th>\n",
              "      <th>go5</th>\n",
              "      <th>walc2</th>\n",
              "      <th>walc3</th>\n",
              "      <th>walc4</th>\n",
              "      <th>walc5</th>\n",
              "      <th>dalc2</th>\n",
              "      <th>dalc3</th>\n",
              "      <th>dalc4</th>\n",
              "      <th>dalc5</th>\n",
              "      <th>health2</th>\n",
              "      <th>health3</th>\n",
              "      <th>health4</th>\n",
              "      <th>health5</th>\n",
              "    </tr>\n",
              "  </thead>\n",
              "  <tbody>\n",
              "    <tr>\n",
              "      <th>0</th>\n",
              "      <td>0</td>\n",
              "      <td>1</td>\n",
              "      <td>0</td>\n",
              "      <td>1</td>\n",
              "      <td>1</td>\n",
              "      <td>0</td>\n",
              "      <td>1</td>\n",
              "      <td>0</td>\n",
              "      <td>health3</td>\n",
              "      <td>6</td>\n",
              "      <td>5</td>\n",
              "      <td>6</td>\n",
              "      <td>6</td>\n",
              "      <td>0</td>\n",
              "      <td>0</td>\n",
              "      <td>1</td>\n",
              "      <td>0</td>\n",
              "      <td>0</td>\n",
              "      <td>0</td>\n",
              "      <td>0</td>\n",
              "      <td>1</td>\n",
              "      <td>1</td>\n",
              "      <td>0</td>\n",
              "      <td>0</td>\n",
              "      <td>0</td>\n",
              "      <td>1</td>\n",
              "      <td>0</td>\n",
              "      <td>0</td>\n",
              "      <td>0</td>\n",
              "      <td>1</td>\n",
              "      <td>1</td>\n",
              "      <td>0</td>\n",
              "      <td>0</td>\n",
              "      <td>1</td>\n",
              "      <td>0</td>\n",
              "      <td>0</td>\n",
              "      <td>0</td>\n",
              "      <td>0</td>\n",
              "      <td>0</td>\n",
              "      <td>0</td>\n",
              "      <td>0</td>\n",
              "      <td>1</td>\n",
              "      <td>0</td>\n",
              "      <td>0</td>\n",
              "      <td>0</td>\n",
              "      <td>0</td>\n",
              "      <td>0</td>\n",
              "      <td>0</td>\n",
              "      <td>0</td>\n",
              "      <td>0</td>\n",
              "      <td>0</td>\n",
              "      <td>0</td>\n",
              "      <td>1</td>\n",
              "      <td>0</td>\n",
              "      <td>0</td>\n",
              "    </tr>\n",
              "    <tr>\n",
              "      <th>1</th>\n",
              "      <td>0</td>\n",
              "      <td>1</td>\n",
              "      <td>0</td>\n",
              "      <td>0</td>\n",
              "      <td>0</td>\n",
              "      <td>1</td>\n",
              "      <td>1</td>\n",
              "      <td>1</td>\n",
              "      <td>health3</td>\n",
              "      <td>4</td>\n",
              "      <td>5</td>\n",
              "      <td>5</td>\n",
              "      <td>6</td>\n",
              "      <td>0</td>\n",
              "      <td>1</td>\n",
              "      <td>0</td>\n",
              "      <td>0</td>\n",
              "      <td>0</td>\n",
              "      <td>0</td>\n",
              "      <td>0</td>\n",
              "      <td>1</td>\n",
              "      <td>0</td>\n",
              "      <td>1</td>\n",
              "      <td>0</td>\n",
              "      <td>0</td>\n",
              "      <td>0</td>\n",
              "      <td>1</td>\n",
              "      <td>0</td>\n",
              "      <td>0</td>\n",
              "      <td>0</td>\n",
              "      <td>0</td>\n",
              "      <td>0</td>\n",
              "      <td>0</td>\n",
              "      <td>1</td>\n",
              "      <td>0</td>\n",
              "      <td>0</td>\n",
              "      <td>0</td>\n",
              "      <td>0</td>\n",
              "      <td>0</td>\n",
              "      <td>0</td>\n",
              "      <td>1</td>\n",
              "      <td>0</td>\n",
              "      <td>0</td>\n",
              "      <td>0</td>\n",
              "      <td>0</td>\n",
              "      <td>0</td>\n",
              "      <td>0</td>\n",
              "      <td>0</td>\n",
              "      <td>0</td>\n",
              "      <td>0</td>\n",
              "      <td>0</td>\n",
              "      <td>0</td>\n",
              "      <td>1</td>\n",
              "      <td>0</td>\n",
              "      <td>0</td>\n",
              "    </tr>\n",
              "    <tr>\n",
              "      <th>2</th>\n",
              "      <td>0</td>\n",
              "      <td>1</td>\n",
              "      <td>0</td>\n",
              "      <td>0</td>\n",
              "      <td>1</td>\n",
              "      <td>0</td>\n",
              "      <td>1</td>\n",
              "      <td>1</td>\n",
              "      <td>health3</td>\n",
              "      <td>10</td>\n",
              "      <td>7</td>\n",
              "      <td>8</td>\n",
              "      <td>10</td>\n",
              "      <td>0</td>\n",
              "      <td>0</td>\n",
              "      <td>0</td>\n",
              "      <td>0</td>\n",
              "      <td>0</td>\n",
              "      <td>0</td>\n",
              "      <td>0</td>\n",
              "      <td>1</td>\n",
              "      <td>0</td>\n",
              "      <td>1</td>\n",
              "      <td>0</td>\n",
              "      <td>0</td>\n",
              "      <td>0</td>\n",
              "      <td>1</td>\n",
              "      <td>0</td>\n",
              "      <td>0</td>\n",
              "      <td>0</td>\n",
              "      <td>0</td>\n",
              "      <td>0</td>\n",
              "      <td>0</td>\n",
              "      <td>1</td>\n",
              "      <td>0</td>\n",
              "      <td>0</td>\n",
              "      <td>0</td>\n",
              "      <td>0</td>\n",
              "      <td>1</td>\n",
              "      <td>1</td>\n",
              "      <td>0</td>\n",
              "      <td>0</td>\n",
              "      <td>0</td>\n",
              "      <td>0</td>\n",
              "      <td>1</td>\n",
              "      <td>0</td>\n",
              "      <td>0</td>\n",
              "      <td>1</td>\n",
              "      <td>0</td>\n",
              "      <td>0</td>\n",
              "      <td>0</td>\n",
              "      <td>0</td>\n",
              "      <td>1</td>\n",
              "      <td>0</td>\n",
              "      <td>0</td>\n",
              "    </tr>\n",
              "    <tr>\n",
              "      <th>3</th>\n",
              "      <td>0</td>\n",
              "      <td>1</td>\n",
              "      <td>0</td>\n",
              "      <td>0</td>\n",
              "      <td>0</td>\n",
              "      <td>1</td>\n",
              "      <td>1</td>\n",
              "      <td>1</td>\n",
              "      <td>health5</td>\n",
              "      <td>2</td>\n",
              "      <td>15</td>\n",
              "      <td>14</td>\n",
              "      <td>15</td>\n",
              "      <td>0</td>\n",
              "      <td>0</td>\n",
              "      <td>0</td>\n",
              "      <td>0</td>\n",
              "      <td>0</td>\n",
              "      <td>0</td>\n",
              "      <td>0</td>\n",
              "      <td>0</td>\n",
              "      <td>0</td>\n",
              "      <td>0</td>\n",
              "      <td>0</td>\n",
              "      <td>0</td>\n",
              "      <td>1</td>\n",
              "      <td>0</td>\n",
              "      <td>1</td>\n",
              "      <td>0</td>\n",
              "      <td>0</td>\n",
              "      <td>0</td>\n",
              "      <td>0</td>\n",
              "      <td>0</td>\n",
              "      <td>0</td>\n",
              "      <td>1</td>\n",
              "      <td>0</td>\n",
              "      <td>0</td>\n",
              "      <td>0</td>\n",
              "      <td>0</td>\n",
              "      <td>1</td>\n",
              "      <td>0</td>\n",
              "      <td>0</td>\n",
              "      <td>0</td>\n",
              "      <td>0</td>\n",
              "      <td>0</td>\n",
              "      <td>0</td>\n",
              "      <td>0</td>\n",
              "      <td>0</td>\n",
              "      <td>0</td>\n",
              "      <td>0</td>\n",
              "      <td>0</td>\n",
              "      <td>0</td>\n",
              "      <td>0</td>\n",
              "      <td>0</td>\n",
              "      <td>1</td>\n",
              "    </tr>\n",
              "    <tr>\n",
              "      <th>4</th>\n",
              "      <td>0</td>\n",
              "      <td>1</td>\n",
              "      <td>0</td>\n",
              "      <td>0</td>\n",
              "      <td>0</td>\n",
              "      <td>1</td>\n",
              "      <td>1</td>\n",
              "      <td>0</td>\n",
              "      <td>health5</td>\n",
              "      <td>4</td>\n",
              "      <td>6</td>\n",
              "      <td>10</td>\n",
              "      <td>10</td>\n",
              "      <td>1</td>\n",
              "      <td>0</td>\n",
              "      <td>0</td>\n",
              "      <td>0</td>\n",
              "      <td>0</td>\n",
              "      <td>0</td>\n",
              "      <td>0</td>\n",
              "      <td>1</td>\n",
              "      <td>0</td>\n",
              "      <td>0</td>\n",
              "      <td>0</td>\n",
              "      <td>1</td>\n",
              "      <td>0</td>\n",
              "      <td>0</td>\n",
              "      <td>0</td>\n",
              "      <td>1</td>\n",
              "      <td>0</td>\n",
              "      <td>0</td>\n",
              "      <td>0</td>\n",
              "      <td>0</td>\n",
              "      <td>1</td>\n",
              "      <td>0</td>\n",
              "      <td>0</td>\n",
              "      <td>0</td>\n",
              "      <td>0</td>\n",
              "      <td>0</td>\n",
              "      <td>1</td>\n",
              "      <td>0</td>\n",
              "      <td>0</td>\n",
              "      <td>0</td>\n",
              "      <td>1</td>\n",
              "      <td>0</td>\n",
              "      <td>0</td>\n",
              "      <td>0</td>\n",
              "      <td>0</td>\n",
              "      <td>0</td>\n",
              "      <td>0</td>\n",
              "      <td>0</td>\n",
              "      <td>0</td>\n",
              "      <td>0</td>\n",
              "      <td>0</td>\n",
              "      <td>1</td>\n",
              "    </tr>\n",
              "  </tbody>\n",
              "</table>\n",
              "</div>"
            ],
            "text/plain": [
              "   school  sex  address  Pstatus  ...  health2  health3  health4  health5\n",
              "0       0    1        0        1  ...        0        1        0        0\n",
              "1       0    1        0        0  ...        0        1        0        0\n",
              "2       0    1        0        0  ...        0        1        0        0\n",
              "3       0    1        0        0  ...        0        0        0        1\n",
              "4       0    1        0        0  ...        0        0        0        1\n",
              "\n",
              "[5 rows x 55 columns]"
            ]
          },
          "metadata": {
            "tags": []
          },
          "execution_count": 119
        }
      ]
    },
    {
      "cell_type": "code",
      "metadata": {
        "id": "QhcukUN-YMtu",
        "colab_type": "code",
        "colab": {}
      },
      "source": [
        "data.drop('health',axis=1,inplace=True)"
      ],
      "execution_count": null,
      "outputs": []
    },
    {
      "cell_type": "code",
      "metadata": {
        "id": "IS0rfiE5YXOC",
        "colab_type": "code",
        "colab": {
          "base_uri": "https://localhost:8080/",
          "height": 1000
        },
        "outputId": "b380c515-73a0-4d67-b1b7-4530a945cca9"
      },
      "source": [
        "data.info()"
      ],
      "execution_count": null,
      "outputs": [
        {
          "output_type": "stream",
          "text": [
            "<class 'pandas.core.frame.DataFrame'>\n",
            "RangeIndex: 395 entries, 0 to 394\n",
            "Data columns (total 54 columns):\n",
            " #   Column     Non-Null Count  Dtype\n",
            "---  ------     --------------  -----\n",
            " 0   school     395 non-null    int64\n",
            " 1   sex        395 non-null    int64\n",
            " 2   address    395 non-null    int64\n",
            " 3   Pstatus    395 non-null    int64\n",
            " 4   schoolsup  395 non-null    int64\n",
            " 5   famsup     395 non-null    int64\n",
            " 6   higher     395 non-null    int64\n",
            " 7   internet   395 non-null    int64\n",
            " 8   absences   395 non-null    int64\n",
            " 9   G1         395 non-null    int64\n",
            " 10  G2         395 non-null    int64\n",
            " 11  G3         395 non-null    int64\n",
            " 12  16         395 non-null    uint8\n",
            " 13  17         395 non-null    uint8\n",
            " 14  18         395 non-null    uint8\n",
            " 15  19         395 non-null    uint8\n",
            " 16  20         395 non-null    uint8\n",
            " 17  21         395 non-null    uint8\n",
            " 18  22         395 non-null    uint8\n",
            " 19  othermjob  395 non-null    uint8\n",
            " 20  teacher    395 non-null    uint8\n",
            " 21  medu1      395 non-null    uint8\n",
            " 22  medu2      395 non-null    uint8\n",
            " 23  medu3      395 non-null    uint8\n",
            " 24  medu4      395 non-null    uint8\n",
            " 25  fedu1      395 non-null    uint8\n",
            " 26  fedu2      395 non-null    uint8\n",
            " 27  fedu3      395 non-null    uint8\n",
            " 28  fedu4      395 non-null    uint8\n",
            " 29  travel2    395 non-null    uint8\n",
            " 30  travel3    395 non-null    uint8\n",
            " 31  travel4    395 non-null    uint8\n",
            " 32  study2     395 non-null    uint8\n",
            " 33  study3     395 non-null    uint8\n",
            " 34  study4     395 non-null    uint8\n",
            " 35  failure1   395 non-null    uint8\n",
            " 36  failure2   395 non-null    uint8\n",
            " 37  failure3   395 non-null    uint8\n",
            " 38  go2        395 non-null    uint8\n",
            " 39  go3        395 non-null    uint8\n",
            " 40  go4        395 non-null    uint8\n",
            " 41  go5        395 non-null    uint8\n",
            " 42  walc2      395 non-null    uint8\n",
            " 43  walc3      395 non-null    uint8\n",
            " 44  walc4      395 non-null    uint8\n",
            " 45  walc5      395 non-null    uint8\n",
            " 46  dalc2      395 non-null    uint8\n",
            " 47  dalc3      395 non-null    uint8\n",
            " 48  dalc4      395 non-null    uint8\n",
            " 49  dalc5      395 non-null    uint8\n",
            " 50  health2    395 non-null    uint8\n",
            " 51  health3    395 non-null    uint8\n",
            " 52  health4    395 non-null    uint8\n",
            " 53  health5    395 non-null    uint8\n",
            "dtypes: int64(12), uint8(42)\n",
            "memory usage: 53.4 KB\n"
          ],
          "name": "stdout"
        }
      ]
    },
    {
      "cell_type": "code",
      "metadata": {
        "id": "kgh3P2x5YY0S",
        "colab_type": "code",
        "colab": {}
      },
      "source": [
        "X = data.drop('G3',axis=1)"
      ],
      "execution_count": null,
      "outputs": []
    },
    {
      "cell_type": "code",
      "metadata": {
        "id": "boZey5cxYvyQ",
        "colab_type": "code",
        "colab": {}
      },
      "source": [
        "y = data['G3']"
      ],
      "execution_count": null,
      "outputs": []
    },
    {
      "cell_type": "code",
      "metadata": {
        "id": "FceKf4uyY4if",
        "colab_type": "code",
        "colab": {
          "base_uri": "https://localhost:8080/",
          "height": 118
        },
        "outputId": "5527ac93-c9e1-47fa-8bac-f8cd4936ef95"
      },
      "source": [
        "y.head()"
      ],
      "execution_count": null,
      "outputs": [
        {
          "output_type": "execute_result",
          "data": {
            "text/plain": [
              "0     6\n",
              "1     6\n",
              "2    10\n",
              "3    15\n",
              "4    10\n",
              "Name: G3, dtype: int64"
            ]
          },
          "metadata": {
            "tags": []
          },
          "execution_count": 124
        }
      ]
    },
    {
      "cell_type": "code",
      "metadata": {
        "id": "WZzmhOzpY578",
        "colab_type": "code",
        "colab": {
          "base_uri": "https://localhost:8080/",
          "height": 215
        },
        "outputId": "a5369866-369e-428e-aef5-c7638aa621be"
      },
      "source": [
        "X.head()"
      ],
      "execution_count": null,
      "outputs": [
        {
          "output_type": "execute_result",
          "data": {
            "text/html": [
              "<div>\n",
              "<style scoped>\n",
              "    .dataframe tbody tr th:only-of-type {\n",
              "        vertical-align: middle;\n",
              "    }\n",
              "\n",
              "    .dataframe tbody tr th {\n",
              "        vertical-align: top;\n",
              "    }\n",
              "\n",
              "    .dataframe thead th {\n",
              "        text-align: right;\n",
              "    }\n",
              "</style>\n",
              "<table border=\"1\" class=\"dataframe\">\n",
              "  <thead>\n",
              "    <tr style=\"text-align: right;\">\n",
              "      <th></th>\n",
              "      <th>school</th>\n",
              "      <th>sex</th>\n",
              "      <th>address</th>\n",
              "      <th>Pstatus</th>\n",
              "      <th>schoolsup</th>\n",
              "      <th>famsup</th>\n",
              "      <th>higher</th>\n",
              "      <th>internet</th>\n",
              "      <th>absences</th>\n",
              "      <th>G1</th>\n",
              "      <th>G2</th>\n",
              "      <th>16</th>\n",
              "      <th>17</th>\n",
              "      <th>18</th>\n",
              "      <th>19</th>\n",
              "      <th>20</th>\n",
              "      <th>21</th>\n",
              "      <th>22</th>\n",
              "      <th>othermjob</th>\n",
              "      <th>teacher</th>\n",
              "      <th>medu1</th>\n",
              "      <th>medu2</th>\n",
              "      <th>medu3</th>\n",
              "      <th>medu4</th>\n",
              "      <th>fedu1</th>\n",
              "      <th>fedu2</th>\n",
              "      <th>fedu3</th>\n",
              "      <th>fedu4</th>\n",
              "      <th>travel2</th>\n",
              "      <th>travel3</th>\n",
              "      <th>travel4</th>\n",
              "      <th>study2</th>\n",
              "      <th>study3</th>\n",
              "      <th>study4</th>\n",
              "      <th>failure1</th>\n",
              "      <th>failure2</th>\n",
              "      <th>failure3</th>\n",
              "      <th>go2</th>\n",
              "      <th>go3</th>\n",
              "      <th>go4</th>\n",
              "      <th>go5</th>\n",
              "      <th>walc2</th>\n",
              "      <th>walc3</th>\n",
              "      <th>walc4</th>\n",
              "      <th>walc5</th>\n",
              "      <th>dalc2</th>\n",
              "      <th>dalc3</th>\n",
              "      <th>dalc4</th>\n",
              "      <th>dalc5</th>\n",
              "      <th>health2</th>\n",
              "      <th>health3</th>\n",
              "      <th>health4</th>\n",
              "      <th>health5</th>\n",
              "    </tr>\n",
              "  </thead>\n",
              "  <tbody>\n",
              "    <tr>\n",
              "      <th>0</th>\n",
              "      <td>0</td>\n",
              "      <td>1</td>\n",
              "      <td>0</td>\n",
              "      <td>1</td>\n",
              "      <td>1</td>\n",
              "      <td>0</td>\n",
              "      <td>1</td>\n",
              "      <td>0</td>\n",
              "      <td>6</td>\n",
              "      <td>5</td>\n",
              "      <td>6</td>\n",
              "      <td>0</td>\n",
              "      <td>0</td>\n",
              "      <td>1</td>\n",
              "      <td>0</td>\n",
              "      <td>0</td>\n",
              "      <td>0</td>\n",
              "      <td>0</td>\n",
              "      <td>1</td>\n",
              "      <td>1</td>\n",
              "      <td>0</td>\n",
              "      <td>0</td>\n",
              "      <td>0</td>\n",
              "      <td>1</td>\n",
              "      <td>0</td>\n",
              "      <td>0</td>\n",
              "      <td>0</td>\n",
              "      <td>1</td>\n",
              "      <td>1</td>\n",
              "      <td>0</td>\n",
              "      <td>0</td>\n",
              "      <td>1</td>\n",
              "      <td>0</td>\n",
              "      <td>0</td>\n",
              "      <td>0</td>\n",
              "      <td>0</td>\n",
              "      <td>0</td>\n",
              "      <td>0</td>\n",
              "      <td>0</td>\n",
              "      <td>1</td>\n",
              "      <td>0</td>\n",
              "      <td>0</td>\n",
              "      <td>0</td>\n",
              "      <td>0</td>\n",
              "      <td>0</td>\n",
              "      <td>0</td>\n",
              "      <td>0</td>\n",
              "      <td>0</td>\n",
              "      <td>0</td>\n",
              "      <td>0</td>\n",
              "      <td>1</td>\n",
              "      <td>0</td>\n",
              "      <td>0</td>\n",
              "    </tr>\n",
              "    <tr>\n",
              "      <th>1</th>\n",
              "      <td>0</td>\n",
              "      <td>1</td>\n",
              "      <td>0</td>\n",
              "      <td>0</td>\n",
              "      <td>0</td>\n",
              "      <td>1</td>\n",
              "      <td>1</td>\n",
              "      <td>1</td>\n",
              "      <td>4</td>\n",
              "      <td>5</td>\n",
              "      <td>5</td>\n",
              "      <td>0</td>\n",
              "      <td>1</td>\n",
              "      <td>0</td>\n",
              "      <td>0</td>\n",
              "      <td>0</td>\n",
              "      <td>0</td>\n",
              "      <td>0</td>\n",
              "      <td>1</td>\n",
              "      <td>0</td>\n",
              "      <td>1</td>\n",
              "      <td>0</td>\n",
              "      <td>0</td>\n",
              "      <td>0</td>\n",
              "      <td>1</td>\n",
              "      <td>0</td>\n",
              "      <td>0</td>\n",
              "      <td>0</td>\n",
              "      <td>0</td>\n",
              "      <td>0</td>\n",
              "      <td>0</td>\n",
              "      <td>1</td>\n",
              "      <td>0</td>\n",
              "      <td>0</td>\n",
              "      <td>0</td>\n",
              "      <td>0</td>\n",
              "      <td>0</td>\n",
              "      <td>0</td>\n",
              "      <td>1</td>\n",
              "      <td>0</td>\n",
              "      <td>0</td>\n",
              "      <td>0</td>\n",
              "      <td>0</td>\n",
              "      <td>0</td>\n",
              "      <td>0</td>\n",
              "      <td>0</td>\n",
              "      <td>0</td>\n",
              "      <td>0</td>\n",
              "      <td>0</td>\n",
              "      <td>0</td>\n",
              "      <td>1</td>\n",
              "      <td>0</td>\n",
              "      <td>0</td>\n",
              "    </tr>\n",
              "    <tr>\n",
              "      <th>2</th>\n",
              "      <td>0</td>\n",
              "      <td>1</td>\n",
              "      <td>0</td>\n",
              "      <td>0</td>\n",
              "      <td>1</td>\n",
              "      <td>0</td>\n",
              "      <td>1</td>\n",
              "      <td>1</td>\n",
              "      <td>10</td>\n",
              "      <td>7</td>\n",
              "      <td>8</td>\n",
              "      <td>0</td>\n",
              "      <td>0</td>\n",
              "      <td>0</td>\n",
              "      <td>0</td>\n",
              "      <td>0</td>\n",
              "      <td>0</td>\n",
              "      <td>0</td>\n",
              "      <td>1</td>\n",
              "      <td>0</td>\n",
              "      <td>1</td>\n",
              "      <td>0</td>\n",
              "      <td>0</td>\n",
              "      <td>0</td>\n",
              "      <td>1</td>\n",
              "      <td>0</td>\n",
              "      <td>0</td>\n",
              "      <td>0</td>\n",
              "      <td>0</td>\n",
              "      <td>0</td>\n",
              "      <td>0</td>\n",
              "      <td>1</td>\n",
              "      <td>0</td>\n",
              "      <td>0</td>\n",
              "      <td>0</td>\n",
              "      <td>0</td>\n",
              "      <td>1</td>\n",
              "      <td>1</td>\n",
              "      <td>0</td>\n",
              "      <td>0</td>\n",
              "      <td>0</td>\n",
              "      <td>0</td>\n",
              "      <td>1</td>\n",
              "      <td>0</td>\n",
              "      <td>0</td>\n",
              "      <td>1</td>\n",
              "      <td>0</td>\n",
              "      <td>0</td>\n",
              "      <td>0</td>\n",
              "      <td>0</td>\n",
              "      <td>1</td>\n",
              "      <td>0</td>\n",
              "      <td>0</td>\n",
              "    </tr>\n",
              "    <tr>\n",
              "      <th>3</th>\n",
              "      <td>0</td>\n",
              "      <td>1</td>\n",
              "      <td>0</td>\n",
              "      <td>0</td>\n",
              "      <td>0</td>\n",
              "      <td>1</td>\n",
              "      <td>1</td>\n",
              "      <td>1</td>\n",
              "      <td>2</td>\n",
              "      <td>15</td>\n",
              "      <td>14</td>\n",
              "      <td>0</td>\n",
              "      <td>0</td>\n",
              "      <td>0</td>\n",
              "      <td>0</td>\n",
              "      <td>0</td>\n",
              "      <td>0</td>\n",
              "      <td>0</td>\n",
              "      <td>0</td>\n",
              "      <td>0</td>\n",
              "      <td>0</td>\n",
              "      <td>0</td>\n",
              "      <td>0</td>\n",
              "      <td>1</td>\n",
              "      <td>0</td>\n",
              "      <td>1</td>\n",
              "      <td>0</td>\n",
              "      <td>0</td>\n",
              "      <td>0</td>\n",
              "      <td>0</td>\n",
              "      <td>0</td>\n",
              "      <td>0</td>\n",
              "      <td>1</td>\n",
              "      <td>0</td>\n",
              "      <td>0</td>\n",
              "      <td>0</td>\n",
              "      <td>0</td>\n",
              "      <td>1</td>\n",
              "      <td>0</td>\n",
              "      <td>0</td>\n",
              "      <td>0</td>\n",
              "      <td>0</td>\n",
              "      <td>0</td>\n",
              "      <td>0</td>\n",
              "      <td>0</td>\n",
              "      <td>0</td>\n",
              "      <td>0</td>\n",
              "      <td>0</td>\n",
              "      <td>0</td>\n",
              "      <td>0</td>\n",
              "      <td>0</td>\n",
              "      <td>0</td>\n",
              "      <td>1</td>\n",
              "    </tr>\n",
              "    <tr>\n",
              "      <th>4</th>\n",
              "      <td>0</td>\n",
              "      <td>1</td>\n",
              "      <td>0</td>\n",
              "      <td>0</td>\n",
              "      <td>0</td>\n",
              "      <td>1</td>\n",
              "      <td>1</td>\n",
              "      <td>0</td>\n",
              "      <td>4</td>\n",
              "      <td>6</td>\n",
              "      <td>10</td>\n",
              "      <td>1</td>\n",
              "      <td>0</td>\n",
              "      <td>0</td>\n",
              "      <td>0</td>\n",
              "      <td>0</td>\n",
              "      <td>0</td>\n",
              "      <td>0</td>\n",
              "      <td>1</td>\n",
              "      <td>0</td>\n",
              "      <td>0</td>\n",
              "      <td>0</td>\n",
              "      <td>1</td>\n",
              "      <td>0</td>\n",
              "      <td>0</td>\n",
              "      <td>0</td>\n",
              "      <td>1</td>\n",
              "      <td>0</td>\n",
              "      <td>0</td>\n",
              "      <td>0</td>\n",
              "      <td>0</td>\n",
              "      <td>1</td>\n",
              "      <td>0</td>\n",
              "      <td>0</td>\n",
              "      <td>0</td>\n",
              "      <td>0</td>\n",
              "      <td>0</td>\n",
              "      <td>1</td>\n",
              "      <td>0</td>\n",
              "      <td>0</td>\n",
              "      <td>0</td>\n",
              "      <td>1</td>\n",
              "      <td>0</td>\n",
              "      <td>0</td>\n",
              "      <td>0</td>\n",
              "      <td>0</td>\n",
              "      <td>0</td>\n",
              "      <td>0</td>\n",
              "      <td>0</td>\n",
              "      <td>0</td>\n",
              "      <td>0</td>\n",
              "      <td>0</td>\n",
              "      <td>1</td>\n",
              "    </tr>\n",
              "  </tbody>\n",
              "</table>\n",
              "</div>"
            ],
            "text/plain": [
              "   school  sex  address  Pstatus  ...  health2  health3  health4  health5\n",
              "0       0    1        0        1  ...        0        1        0        0\n",
              "1       0    1        0        0  ...        0        1        0        0\n",
              "2       0    1        0        0  ...        0        1        0        0\n",
              "3       0    1        0        0  ...        0        0        0        1\n",
              "4       0    1        0        0  ...        0        0        0        1\n",
              "\n",
              "[5 rows x 53 columns]"
            ]
          },
          "metadata": {
            "tags": []
          },
          "execution_count": 125
        }
      ]
    },
    {
      "cell_type": "code",
      "metadata": {
        "id": "K2XkCr31Y8vx",
        "colab_type": "code",
        "colab": {}
      },
      "source": [
        "from sklearn.model_selection import  train_test_split"
      ],
      "execution_count": null,
      "outputs": []
    },
    {
      "cell_type": "code",
      "metadata": {
        "id": "j5SJquNDZFYd",
        "colab_type": "code",
        "colab": {}
      },
      "source": [
        "Xtrain,Xtest,ytrain,ytest = train_test_split(X,y,test_size=0.3,random_state=101)"
      ],
      "execution_count": null,
      "outputs": []
    },
    {
      "cell_type": "code",
      "metadata": {
        "id": "9i8DXuyeZW2F",
        "colab_type": "code",
        "colab": {}
      },
      "source": [
        "from sklearn.preprocessing import StandardScaler"
      ],
      "execution_count": null,
      "outputs": []
    },
    {
      "cell_type": "code",
      "metadata": {
        "id": "L02SjLyoZcJb",
        "colab_type": "code",
        "colab": {}
      },
      "source": [
        "from sklearn.linear_model import LinearRegression"
      ],
      "execution_count": null,
      "outputs": []
    },
    {
      "cell_type": "code",
      "metadata": {
        "id": "F01or00xZrQQ",
        "colab_type": "code",
        "colab": {}
      },
      "source": [
        "model = LinearRegression()"
      ],
      "execution_count": null,
      "outputs": []
    },
    {
      "cell_type": "code",
      "metadata": {
        "id": "db5OLobdZv1W",
        "colab_type": "code",
        "colab": {
          "base_uri": "https://localhost:8080/",
          "height": 34
        },
        "outputId": "a0d82035-f977-478a-e26f-242d58cd69b8"
      },
      "source": [
        "model.fit(Xtrain,ytrain)"
      ],
      "execution_count": null,
      "outputs": [
        {
          "output_type": "execute_result",
          "data": {
            "text/plain": [
              "LinearRegression(copy_X=True, fit_intercept=True, n_jobs=None, normalize=False)"
            ]
          },
          "metadata": {
            "tags": []
          },
          "execution_count": 134
        }
      ]
    },
    {
      "cell_type": "code",
      "metadata": {
        "id": "L5fVOdAuZ1J3",
        "colab_type": "code",
        "colab": {}
      },
      "source": [
        "pred = model.predict(Xtest)"
      ],
      "execution_count": null,
      "outputs": []
    },
    {
      "cell_type": "code",
      "metadata": {
        "id": "zsaiOup7aSSY",
        "colab_type": "code",
        "colab": {
          "base_uri": "https://localhost:8080/",
          "height": 521
        },
        "outputId": "736ba2ce-8675-4ff8-e233-558a8f61edd8"
      },
      "source": [
        "pred"
      ],
      "execution_count": null,
      "outputs": [
        {
          "output_type": "execute_result",
          "data": {
            "text/plain": [
              "array([ 1.26200896e+01,  1.16138690e+01,  1.82781141e+01,  1.59444576e+01,\n",
              "        5.95911117e+00,  6.58273261e+00,  9.18063480e+00,  1.16365629e+01,\n",
              "        1.42845724e+01,  1.50705635e+01,  1.70879600e+01,  7.24040542e+00,\n",
              "        1.61298045e+01, -1.18148879e-03,  1.12797406e+01,  1.28939639e+01,\n",
              "        1.12534648e+01,  1.76914839e+01,  1.19365725e+01,  9.11913690e+00,\n",
              "        1.34279665e+01,  3.65736105e+00,  2.72552067e+00,  1.83931913e+01,\n",
              "        9.21429727e+00,  1.16455609e+01,  6.81479884e+00,  1.79914035e+01,\n",
              "        7.53226418e+00,  1.35778958e+01,  9.70754468e+00,  1.40629823e+01,\n",
              "        1.32825121e+01,  4.39550010e+00,  1.82869023e+01,  8.20915456e+00,\n",
              "        1.02347886e+01,  7.54958663e+00,  6.31495444e+00,  5.94200165e+00,\n",
              "        6.81702282e+00,  5.33159288e+00,  1.64871731e+01,  7.55064785e+00,\n",
              "        1.35859266e+01,  8.26925931e+00,  1.31027151e+01,  9.02518516e+00,\n",
              "        8.04225461e+00,  5.60625416e+00,  9.71349419e+00,  8.96275870e+00,\n",
              "        4.56477150e+00,  1.14394086e+01,  1.35616341e+01,  9.54288412e+00,\n",
              "        1.69602781e+01,  1.24239905e+01,  6.42139647e+00,  1.62133345e+01,\n",
              "        7.58183494e+00,  1.06804217e+01,  1.00775398e+01,  1.45804673e+01,\n",
              "        1.17281382e+01,  1.00800170e+01,  1.50584113e+01,  1.51829773e+01,\n",
              "        4.06774672e+00,  1.28957839e+01,  6.00894074e+00,  1.03214361e+01,\n",
              "        1.00556289e+01,  8.60840792e+00,  7.69278035e+00,  9.34981388e+00,\n",
              "        1.00021677e+01,  1.57715914e+01,  1.19094992e+01,  5.88851612e+00,\n",
              "        7.83047707e+00,  1.35027987e+01,  1.53194059e+01,  5.78531721e+00,\n",
              "        9.60582806e+00,  9.33000404e+00,  1.66233347e+01,  1.35462265e+01,\n",
              "        1.25241870e+01,  9.94411349e+00,  7.97705931e+00,  9.47998450e+00,\n",
              "        9.53575001e+00,  1.23897983e+01,  8.56195013e+00,  1.43736525e+01,\n",
              "        1.53461265e+01,  1.47147316e+01,  5.35866375e+00,  1.54820880e+01,\n",
              "        1.60550118e+01,  1.01774259e+01,  1.32764249e+01,  1.41899739e+01,\n",
              "        1.73281729e+01,  1.10508424e+01,  9.25505476e+00,  9.59887550e+00,\n",
              "        1.41267033e+01,  9.29834444e+00,  1.02212509e+01,  4.01630306e+00,\n",
              "        9.50882109e+00,  1.42862070e+01,  9.75590969e+00,  6.68524587e+00,\n",
              "        1.27023252e+01,  1.59958249e+01,  1.79592676e+01])"
            ]
          },
          "metadata": {
            "tags": []
          },
          "execution_count": 137
        }
      ]
    },
    {
      "cell_type": "code",
      "metadata": {
        "id": "7K9Wb07MaUsz",
        "colab_type": "code",
        "colab": {
          "base_uri": "https://localhost:8080/",
          "height": 218
        },
        "outputId": "3917210f-c4fd-492a-a757-aebfac539925"
      },
      "source": [
        "ytest"
      ],
      "execution_count": null,
      "outputs": [
        {
          "output_type": "execute_result",
          "data": {
            "text/plain": [
              "38     11\n",
              "186    11\n",
              "374    19\n",
              "139    15\n",
              "206     7\n",
              "       ..\n",
              "179    11\n",
              "106     8\n",
              "41     12\n",
              "31     17\n",
              "32     16\n",
              "Name: G3, Length: 119, dtype: int64"
            ]
          },
          "metadata": {
            "tags": []
          },
          "execution_count": 138
        }
      ]
    },
    {
      "cell_type": "code",
      "metadata": {
        "id": "CZo1U6FlajQX",
        "colab_type": "code",
        "colab": {}
      },
      "source": [
        "from sklearn.metrics import mean_absolute_error"
      ],
      "execution_count": null,
      "outputs": []
    },
    {
      "cell_type": "code",
      "metadata": {
        "id": "Sxq05ZcFa00k",
        "colab_type": "code",
        "colab": {
          "base_uri": "https://localhost:8080/",
          "height": 34
        },
        "outputId": "75d96dc1-a112-4f9c-88e7-0eb84554207f"
      },
      "source": [
        "mean_absolute_error(ytest,pred)"
      ],
      "execution_count": null,
      "outputs": [
        {
          "output_type": "execute_result",
          "data": {
            "text/plain": [
              "1.29998968172252"
            ]
          },
          "metadata": {
            "tags": []
          },
          "execution_count": 140
        }
      ]
    },
    {
      "cell_type": "code",
      "metadata": {
        "id": "g-i6F33xa507",
        "colab_type": "code",
        "colab": {
          "base_uri": "https://localhost:8080/",
          "height": 34
        },
        "outputId": "4b15d484-4060-41c1-ada5-f6fd32d34768"
      },
      "source": [
        "data['G3'].mean()"
      ],
      "execution_count": null,
      "outputs": [
        {
          "output_type": "execute_result",
          "data": {
            "text/plain": [
              "10.415189873417722"
            ]
          },
          "metadata": {
            "tags": []
          },
          "execution_count": 141
        }
      ]
    },
    {
      "cell_type": "code",
      "metadata": {
        "id": "EYQy_6NCbGYd",
        "colab_type": "code",
        "colab": {}
      },
      "source": [
        "from tensorflow.keras.models import Sequential"
      ],
      "execution_count": null,
      "outputs": []
    },
    {
      "cell_type": "code",
      "metadata": {
        "id": "IrYlmchUbSg1",
        "colab_type": "code",
        "colab": {}
      },
      "source": [
        "models = Sequential()"
      ],
      "execution_count": null,
      "outputs": []
    },
    {
      "cell_type": "code",
      "metadata": {
        "id": "sGaS51dobW0E",
        "colab_type": "code",
        "colab": {}
      },
      "source": [
        "from tensorflow.keras.layers import Dense,Activation,Dropout"
      ],
      "execution_count": null,
      "outputs": []
    },
    {
      "cell_type": "code",
      "metadata": {
        "id": "ppz4bdw5buKm",
        "colab_type": "code",
        "colab": {}
      },
      "source": [
        "from sklearn.preprocessing import MinMaxScaler"
      ],
      "execution_count": null,
      "outputs": []
    },
    {
      "cell_type": "code",
      "metadata": {
        "id": "RG1A0T9cb5aO",
        "colab_type": "code",
        "colab": {
          "base_uri": "https://localhost:8080/",
          "height": 215
        },
        "outputId": "2bd9ec41-7aaf-4075-a79c-1ff159152521"
      },
      "source": [
        "X.head()"
      ],
      "execution_count": null,
      "outputs": [
        {
          "output_type": "execute_result",
          "data": {
            "text/html": [
              "<div>\n",
              "<style scoped>\n",
              "    .dataframe tbody tr th:only-of-type {\n",
              "        vertical-align: middle;\n",
              "    }\n",
              "\n",
              "    .dataframe tbody tr th {\n",
              "        vertical-align: top;\n",
              "    }\n",
              "\n",
              "    .dataframe thead th {\n",
              "        text-align: right;\n",
              "    }\n",
              "</style>\n",
              "<table border=\"1\" class=\"dataframe\">\n",
              "  <thead>\n",
              "    <tr style=\"text-align: right;\">\n",
              "      <th></th>\n",
              "      <th>school</th>\n",
              "      <th>sex</th>\n",
              "      <th>address</th>\n",
              "      <th>Pstatus</th>\n",
              "      <th>schoolsup</th>\n",
              "      <th>famsup</th>\n",
              "      <th>higher</th>\n",
              "      <th>internet</th>\n",
              "      <th>absences</th>\n",
              "      <th>G1</th>\n",
              "      <th>G2</th>\n",
              "      <th>16</th>\n",
              "      <th>17</th>\n",
              "      <th>18</th>\n",
              "      <th>19</th>\n",
              "      <th>20</th>\n",
              "      <th>21</th>\n",
              "      <th>22</th>\n",
              "      <th>othermjob</th>\n",
              "      <th>teacher</th>\n",
              "      <th>medu1</th>\n",
              "      <th>medu2</th>\n",
              "      <th>medu3</th>\n",
              "      <th>medu4</th>\n",
              "      <th>fedu1</th>\n",
              "      <th>fedu2</th>\n",
              "      <th>fedu3</th>\n",
              "      <th>fedu4</th>\n",
              "      <th>travel2</th>\n",
              "      <th>travel3</th>\n",
              "      <th>travel4</th>\n",
              "      <th>study2</th>\n",
              "      <th>study3</th>\n",
              "      <th>study4</th>\n",
              "      <th>failure1</th>\n",
              "      <th>failure2</th>\n",
              "      <th>failure3</th>\n",
              "      <th>go2</th>\n",
              "      <th>go3</th>\n",
              "      <th>go4</th>\n",
              "      <th>go5</th>\n",
              "      <th>walc2</th>\n",
              "      <th>walc3</th>\n",
              "      <th>walc4</th>\n",
              "      <th>walc5</th>\n",
              "      <th>dalc2</th>\n",
              "      <th>dalc3</th>\n",
              "      <th>dalc4</th>\n",
              "      <th>dalc5</th>\n",
              "      <th>health2</th>\n",
              "      <th>health3</th>\n",
              "      <th>health4</th>\n",
              "      <th>health5</th>\n",
              "    </tr>\n",
              "  </thead>\n",
              "  <tbody>\n",
              "    <tr>\n",
              "      <th>0</th>\n",
              "      <td>0</td>\n",
              "      <td>1</td>\n",
              "      <td>0</td>\n",
              "      <td>1</td>\n",
              "      <td>1</td>\n",
              "      <td>0</td>\n",
              "      <td>1</td>\n",
              "      <td>0</td>\n",
              "      <td>6</td>\n",
              "      <td>5</td>\n",
              "      <td>6</td>\n",
              "      <td>0</td>\n",
              "      <td>0</td>\n",
              "      <td>1</td>\n",
              "      <td>0</td>\n",
              "      <td>0</td>\n",
              "      <td>0</td>\n",
              "      <td>0</td>\n",
              "      <td>1</td>\n",
              "      <td>1</td>\n",
              "      <td>0</td>\n",
              "      <td>0</td>\n",
              "      <td>0</td>\n",
              "      <td>1</td>\n",
              "      <td>0</td>\n",
              "      <td>0</td>\n",
              "      <td>0</td>\n",
              "      <td>1</td>\n",
              "      <td>1</td>\n",
              "      <td>0</td>\n",
              "      <td>0</td>\n",
              "      <td>1</td>\n",
              "      <td>0</td>\n",
              "      <td>0</td>\n",
              "      <td>0</td>\n",
              "      <td>0</td>\n",
              "      <td>0</td>\n",
              "      <td>0</td>\n",
              "      <td>0</td>\n",
              "      <td>1</td>\n",
              "      <td>0</td>\n",
              "      <td>0</td>\n",
              "      <td>0</td>\n",
              "      <td>0</td>\n",
              "      <td>0</td>\n",
              "      <td>0</td>\n",
              "      <td>0</td>\n",
              "      <td>0</td>\n",
              "      <td>0</td>\n",
              "      <td>0</td>\n",
              "      <td>1</td>\n",
              "      <td>0</td>\n",
              "      <td>0</td>\n",
              "    </tr>\n",
              "    <tr>\n",
              "      <th>1</th>\n",
              "      <td>0</td>\n",
              "      <td>1</td>\n",
              "      <td>0</td>\n",
              "      <td>0</td>\n",
              "      <td>0</td>\n",
              "      <td>1</td>\n",
              "      <td>1</td>\n",
              "      <td>1</td>\n",
              "      <td>4</td>\n",
              "      <td>5</td>\n",
              "      <td>5</td>\n",
              "      <td>0</td>\n",
              "      <td>1</td>\n",
              "      <td>0</td>\n",
              "      <td>0</td>\n",
              "      <td>0</td>\n",
              "      <td>0</td>\n",
              "      <td>0</td>\n",
              "      <td>1</td>\n",
              "      <td>0</td>\n",
              "      <td>1</td>\n",
              "      <td>0</td>\n",
              "      <td>0</td>\n",
              "      <td>0</td>\n",
              "      <td>1</td>\n",
              "      <td>0</td>\n",
              "      <td>0</td>\n",
              "      <td>0</td>\n",
              "      <td>0</td>\n",
              "      <td>0</td>\n",
              "      <td>0</td>\n",
              "      <td>1</td>\n",
              "      <td>0</td>\n",
              "      <td>0</td>\n",
              "      <td>0</td>\n",
              "      <td>0</td>\n",
              "      <td>0</td>\n",
              "      <td>0</td>\n",
              "      <td>1</td>\n",
              "      <td>0</td>\n",
              "      <td>0</td>\n",
              "      <td>0</td>\n",
              "      <td>0</td>\n",
              "      <td>0</td>\n",
              "      <td>0</td>\n",
              "      <td>0</td>\n",
              "      <td>0</td>\n",
              "      <td>0</td>\n",
              "      <td>0</td>\n",
              "      <td>0</td>\n",
              "      <td>1</td>\n",
              "      <td>0</td>\n",
              "      <td>0</td>\n",
              "    </tr>\n",
              "    <tr>\n",
              "      <th>2</th>\n",
              "      <td>0</td>\n",
              "      <td>1</td>\n",
              "      <td>0</td>\n",
              "      <td>0</td>\n",
              "      <td>1</td>\n",
              "      <td>0</td>\n",
              "      <td>1</td>\n",
              "      <td>1</td>\n",
              "      <td>10</td>\n",
              "      <td>7</td>\n",
              "      <td>8</td>\n",
              "      <td>0</td>\n",
              "      <td>0</td>\n",
              "      <td>0</td>\n",
              "      <td>0</td>\n",
              "      <td>0</td>\n",
              "      <td>0</td>\n",
              "      <td>0</td>\n",
              "      <td>1</td>\n",
              "      <td>0</td>\n",
              "      <td>1</td>\n",
              "      <td>0</td>\n",
              "      <td>0</td>\n",
              "      <td>0</td>\n",
              "      <td>1</td>\n",
              "      <td>0</td>\n",
              "      <td>0</td>\n",
              "      <td>0</td>\n",
              "      <td>0</td>\n",
              "      <td>0</td>\n",
              "      <td>0</td>\n",
              "      <td>1</td>\n",
              "      <td>0</td>\n",
              "      <td>0</td>\n",
              "      <td>0</td>\n",
              "      <td>0</td>\n",
              "      <td>1</td>\n",
              "      <td>1</td>\n",
              "      <td>0</td>\n",
              "      <td>0</td>\n",
              "      <td>0</td>\n",
              "      <td>0</td>\n",
              "      <td>1</td>\n",
              "      <td>0</td>\n",
              "      <td>0</td>\n",
              "      <td>1</td>\n",
              "      <td>0</td>\n",
              "      <td>0</td>\n",
              "      <td>0</td>\n",
              "      <td>0</td>\n",
              "      <td>1</td>\n",
              "      <td>0</td>\n",
              "      <td>0</td>\n",
              "    </tr>\n",
              "    <tr>\n",
              "      <th>3</th>\n",
              "      <td>0</td>\n",
              "      <td>1</td>\n",
              "      <td>0</td>\n",
              "      <td>0</td>\n",
              "      <td>0</td>\n",
              "      <td>1</td>\n",
              "      <td>1</td>\n",
              "      <td>1</td>\n",
              "      <td>2</td>\n",
              "      <td>15</td>\n",
              "      <td>14</td>\n",
              "      <td>0</td>\n",
              "      <td>0</td>\n",
              "      <td>0</td>\n",
              "      <td>0</td>\n",
              "      <td>0</td>\n",
              "      <td>0</td>\n",
              "      <td>0</td>\n",
              "      <td>0</td>\n",
              "      <td>0</td>\n",
              "      <td>0</td>\n",
              "      <td>0</td>\n",
              "      <td>0</td>\n",
              "      <td>1</td>\n",
              "      <td>0</td>\n",
              "      <td>1</td>\n",
              "      <td>0</td>\n",
              "      <td>0</td>\n",
              "      <td>0</td>\n",
              "      <td>0</td>\n",
              "      <td>0</td>\n",
              "      <td>0</td>\n",
              "      <td>1</td>\n",
              "      <td>0</td>\n",
              "      <td>0</td>\n",
              "      <td>0</td>\n",
              "      <td>0</td>\n",
              "      <td>1</td>\n",
              "      <td>0</td>\n",
              "      <td>0</td>\n",
              "      <td>0</td>\n",
              "      <td>0</td>\n",
              "      <td>0</td>\n",
              "      <td>0</td>\n",
              "      <td>0</td>\n",
              "      <td>0</td>\n",
              "      <td>0</td>\n",
              "      <td>0</td>\n",
              "      <td>0</td>\n",
              "      <td>0</td>\n",
              "      <td>0</td>\n",
              "      <td>0</td>\n",
              "      <td>1</td>\n",
              "    </tr>\n",
              "    <tr>\n",
              "      <th>4</th>\n",
              "      <td>0</td>\n",
              "      <td>1</td>\n",
              "      <td>0</td>\n",
              "      <td>0</td>\n",
              "      <td>0</td>\n",
              "      <td>1</td>\n",
              "      <td>1</td>\n",
              "      <td>0</td>\n",
              "      <td>4</td>\n",
              "      <td>6</td>\n",
              "      <td>10</td>\n",
              "      <td>1</td>\n",
              "      <td>0</td>\n",
              "      <td>0</td>\n",
              "      <td>0</td>\n",
              "      <td>0</td>\n",
              "      <td>0</td>\n",
              "      <td>0</td>\n",
              "      <td>1</td>\n",
              "      <td>0</td>\n",
              "      <td>0</td>\n",
              "      <td>0</td>\n",
              "      <td>1</td>\n",
              "      <td>0</td>\n",
              "      <td>0</td>\n",
              "      <td>0</td>\n",
              "      <td>1</td>\n",
              "      <td>0</td>\n",
              "      <td>0</td>\n",
              "      <td>0</td>\n",
              "      <td>0</td>\n",
              "      <td>1</td>\n",
              "      <td>0</td>\n",
              "      <td>0</td>\n",
              "      <td>0</td>\n",
              "      <td>0</td>\n",
              "      <td>0</td>\n",
              "      <td>1</td>\n",
              "      <td>0</td>\n",
              "      <td>0</td>\n",
              "      <td>0</td>\n",
              "      <td>1</td>\n",
              "      <td>0</td>\n",
              "      <td>0</td>\n",
              "      <td>0</td>\n",
              "      <td>0</td>\n",
              "      <td>0</td>\n",
              "      <td>0</td>\n",
              "      <td>0</td>\n",
              "      <td>0</td>\n",
              "      <td>0</td>\n",
              "      <td>0</td>\n",
              "      <td>1</td>\n",
              "    </tr>\n",
              "  </tbody>\n",
              "</table>\n",
              "</div>"
            ],
            "text/plain": [
              "   school  sex  address  Pstatus  ...  health2  health3  health4  health5\n",
              "0       0    1        0        1  ...        0        1        0        0\n",
              "1       0    1        0        0  ...        0        1        0        0\n",
              "2       0    1        0        0  ...        0        1        0        0\n",
              "3       0    1        0        0  ...        0        0        0        1\n",
              "4       0    1        0        0  ...        0        0        0        1\n",
              "\n",
              "[5 rows x 53 columns]"
            ]
          },
          "metadata": {
            "tags": []
          },
          "execution_count": 149
        }
      ]
    },
    {
      "cell_type": "code",
      "metadata": {
        "id": "sewxF6YWb7bX",
        "colab_type": "code",
        "colab": {}
      },
      "source": [
        "X = X.values"
      ],
      "execution_count": null,
      "outputs": []
    },
    {
      "cell_type": "code",
      "metadata": {
        "id": "sVsAvYYPb_4-",
        "colab_type": "code",
        "colab": {}
      },
      "source": [
        "y = y.values"
      ],
      "execution_count": null,
      "outputs": []
    },
    {
      "cell_type": "code",
      "metadata": {
        "id": "GgDwba3IcCf2",
        "colab_type": "code",
        "colab": {}
      },
      "source": [
        "Xtrain,Xtest,ytrain,ytest = train_test_split(X,y,random_state=101,test_size=0.3)"
      ],
      "execution_count": null,
      "outputs": []
    },
    {
      "cell_type": "code",
      "metadata": {
        "id": "97pV07tlcNZ3",
        "colab_type": "code",
        "colab": {}
      },
      "source": [
        "scale = MinMaxScaler()"
      ],
      "execution_count": null,
      "outputs": []
    },
    {
      "cell_type": "code",
      "metadata": {
        "id": "gI2XKMfxcRWr",
        "colab_type": "code",
        "colab": {}
      },
      "source": [
        "Xtrain = scale.fit_transform(Xtrain)"
      ],
      "execution_count": null,
      "outputs": []
    },
    {
      "cell_type": "code",
      "metadata": {
        "id": "XCMr7kpOcWRZ",
        "colab_type": "code",
        "colab": {
          "base_uri": "https://localhost:8080/",
          "height": 134
        },
        "outputId": "729bb4d2-9f98-4ff4-99bc-aa2a2831cc14"
      },
      "source": [
        "Xtrain"
      ],
      "execution_count": null,
      "outputs": [
        {
          "output_type": "execute_result",
          "data": {
            "text/plain": [
              "array([[0., 0., 0., ..., 0., 0., 0.],\n",
              "       [0., 1., 0., ..., 1., 0., 0.],\n",
              "       [0., 0., 0., ..., 0., 0., 0.],\n",
              "       ...,\n",
              "       [0., 1., 0., ..., 0., 0., 0.],\n",
              "       [0., 1., 0., ..., 0., 1., 0.],\n",
              "       [1., 0., 0., ..., 1., 0., 0.]])"
            ]
          },
          "metadata": {
            "tags": []
          },
          "execution_count": 159
        }
      ]
    },
    {
      "cell_type": "code",
      "metadata": {
        "id": "xRnr5Ej8ckO_",
        "colab_type": "code",
        "colab": {}
      },
      "source": [
        " ytrain=np.reshape(ytrain,(-1,276))"
      ],
      "execution_count": null,
      "outputs": []
    },
    {
      "cell_type": "code",
      "metadata": {
        "id": "4VtELAFMdd28",
        "colab_type": "code",
        "colab": {}
      },
      "source": [
        " ytest=np.reshape(ytest,(-1,119))"
      ],
      "execution_count": null,
      "outputs": []
    },
    {
      "cell_type": "code",
      "metadata": {
        "id": "4l2sGl4adqvX",
        "colab_type": "code",
        "colab": {}
      },
      "source": [
        "Xtest = scale.transform(Xtest)"
      ],
      "execution_count": null,
      "outputs": []
    },
    {
      "cell_type": "code",
      "metadata": {
        "id": "QYCaYwiMd4M0",
        "colab_type": "code",
        "colab": {}
      },
      "source": [
        "ytrain=ytrain.reshape(276,1)"
      ],
      "execution_count": null,
      "outputs": []
    },
    {
      "cell_type": "code",
      "metadata": {
        "id": "mBDcT_e1d9px",
        "colab_type": "code",
        "colab": {
          "base_uri": "https://localhost:8080/",
          "height": 134
        },
        "outputId": "3bb32f80-1f1d-4b2d-d00b-55111931813d"
      },
      "source": [
        "Xtrain"
      ],
      "execution_count": null,
      "outputs": [
        {
          "output_type": "execute_result",
          "data": {
            "text/plain": [
              "array([[0., 0., 0., ..., 0., 0., 0.],\n",
              "       [0., 1., 0., ..., 1., 0., 0.],\n",
              "       [0., 0., 0., ..., 0., 0., 0.],\n",
              "       ...,\n",
              "       [0., 1., 0., ..., 0., 0., 0.],\n",
              "       [0., 1., 0., ..., 0., 1., 0.],\n",
              "       [1., 0., 0., ..., 1., 0., 0.]])"
            ]
          },
          "metadata": {
            "tags": []
          },
          "execution_count": 174
        }
      ]
    },
    {
      "cell_type": "code",
      "metadata": {
        "id": "A_5oxC8jeAML",
        "colab_type": "code",
        "colab": {}
      },
      "source": [
        "ytest=ytest.reshape(119,1)"
      ],
      "execution_count": null,
      "outputs": []
    },
    {
      "cell_type": "code",
      "metadata": {
        "id": "Z59LwgmjgXJF",
        "colab_type": "code",
        "colab": {}
      },
      "source": [
        "models.add(Dense(53,activation='relu'))\n",
        "models.add(Dropout(0.5))"
      ],
      "execution_count": null,
      "outputs": []
    },
    {
      "cell_type": "code",
      "metadata": {
        "id": "Pk1w-V1rgsZD",
        "colab_type": "code",
        "colab": {}
      },
      "source": [
        "models.add(Dense(26,activation='relu'))\n",
        "models.add(Dropout(0.5))"
      ],
      "execution_count": null,
      "outputs": []
    },
    {
      "cell_type": "code",
      "metadata": {
        "id": "VvvczDu4g8dx",
        "colab_type": "code",
        "colab": {}
      },
      "source": [
        "models.add(Dense(13,activation='relu'))\n",
        "models.add(Dropout(0.5))"
      ],
      "execution_count": null,
      "outputs": []
    },
    {
      "cell_type": "code",
      "metadata": {
        "id": "fuJ8XPsshDX4",
        "colab_type": "code",
        "colab": {}
      },
      "source": [
        "models.add(Dense(6,activation='relu'))\n",
        "models.add(Dropout(0.5))\n",
        "models.add(Dense(3,activation='relu'))\n",
        "models.add(Dropout(0.5))\n",
        "models.add(Dense(1))"
      ],
      "execution_count": null,
      "outputs": []
    },
    {
      "cell_type": "code",
      "metadata": {
        "id": "hAQaj4GQhJIL",
        "colab_type": "code",
        "colab": {}
      },
      "source": [
        "\n",
        "models.compile('adam','mse')"
      ],
      "execution_count": null,
      "outputs": []
    },
    {
      "cell_type": "code",
      "metadata": {
        "id": "Oj6x8yXKhPC4",
        "colab_type": "code",
        "colab": {
          "base_uri": "https://localhost:8080/",
          "height": 1000
        },
        "outputId": "1d2dbe0d-05b3-4b1a-a7f2-04e8ed0fc9ef"
      },
      "source": [
        "model2.fit(Xtrain,ytrain,epochs=400,validation_data=(Xtest,ytest))"
      ],
      "execution_count": null,
      "outputs": [
        {
          "output_type": "stream",
          "text": [
            "Epoch 1/400\n",
            "9/9 [==============================] - 0s 14ms/step - loss: 120.6622 - val_loss: 108.9817\n",
            "Epoch 2/400\n",
            "9/9 [==============================] - 0s 5ms/step - loss: 105.8959 - val_loss: 53.6973\n",
            "Epoch 3/400\n",
            "9/9 [==============================] - 0s 4ms/step - loss: 91.1705 - val_loss: 21.4807\n",
            "Epoch 4/400\n",
            "9/9 [==============================] - 0s 4ms/step - loss: 72.6376 - val_loss: 32.7676\n",
            "Epoch 5/400\n",
            "9/9 [==============================] - 0s 4ms/step - loss: 55.3641 - val_loss: 136.4766\n",
            "Epoch 6/400\n",
            "9/9 [==============================] - 0s 4ms/step - loss: 40.0353 - val_loss: 388.5074\n",
            "Epoch 7/400\n",
            "9/9 [==============================] - 0s 4ms/step - loss: 34.4788 - val_loss: 735.1985\n",
            "Epoch 8/400\n",
            "9/9 [==============================] - 0s 4ms/step - loss: 32.7843 - val_loss: 902.4529\n",
            "Epoch 9/400\n",
            "9/9 [==============================] - 0s 4ms/step - loss: 30.0804 - val_loss: 913.2892\n",
            "Epoch 10/400\n",
            "9/9 [==============================] - 0s 3ms/step - loss: 30.2836 - val_loss: 976.6283\n",
            "Epoch 11/400\n",
            "9/9 [==============================] - 0s 4ms/step - loss: 26.8448 - val_loss: 1026.8734\n",
            "Epoch 12/400\n",
            "9/9 [==============================] - 0s 4ms/step - loss: 29.0661 - val_loss: 1152.3538\n",
            "Epoch 13/400\n",
            "9/9 [==============================] - 0s 4ms/step - loss: 26.3782 - val_loss: 1232.4152\n",
            "Epoch 14/400\n",
            "9/9 [==============================] - 0s 4ms/step - loss: 24.5546 - val_loss: 1411.5660\n",
            "Epoch 15/400\n",
            "9/9 [==============================] - 0s 3ms/step - loss: 25.2622 - val_loss: 1552.5583\n",
            "Epoch 16/400\n",
            "9/9 [==============================] - 0s 3ms/step - loss: 27.8832 - val_loss: 1661.6786\n",
            "Epoch 17/400\n",
            "9/9 [==============================] - 0s 4ms/step - loss: 27.1146 - val_loss: 1886.6857\n",
            "Epoch 18/400\n",
            "9/9 [==============================] - 0s 3ms/step - loss: 24.2460 - val_loss: 2094.5793\n",
            "Epoch 19/400\n",
            "9/9 [==============================] - 0s 4ms/step - loss: 24.1185 - val_loss: 2336.8694\n",
            "Epoch 20/400\n",
            "9/9 [==============================] - 0s 3ms/step - loss: 23.2462 - val_loss: 2496.9658\n",
            "Epoch 21/400\n",
            "9/9 [==============================] - 0s 4ms/step - loss: 25.3397 - val_loss: 2674.2903\n",
            "Epoch 22/400\n",
            "9/9 [==============================] - 0s 4ms/step - loss: 22.3105 - val_loss: 2890.9653\n",
            "Epoch 23/400\n",
            "9/9 [==============================] - 0s 4ms/step - loss: 20.9972 - val_loss: 3202.2556\n",
            "Epoch 24/400\n",
            "9/9 [==============================] - 0s 4ms/step - loss: 23.7662 - val_loss: 3252.0505\n",
            "Epoch 25/400\n",
            "9/9 [==============================] - 0s 4ms/step - loss: 22.3957 - val_loss: 3585.5410\n",
            "Epoch 26/400\n",
            "9/9 [==============================] - 0s 4ms/step - loss: 21.8813 - val_loss: 4007.7471\n",
            "Epoch 27/400\n",
            "9/9 [==============================] - 0s 4ms/step - loss: 19.5080 - val_loss: 4307.7383\n",
            "Epoch 28/400\n",
            "9/9 [==============================] - 0s 4ms/step - loss: 19.3737 - val_loss: 4588.1553\n",
            "Epoch 29/400\n",
            "9/9 [==============================] - 0s 4ms/step - loss: 18.5639 - val_loss: 4725.9819\n",
            "Epoch 30/400\n",
            "9/9 [==============================] - 0s 4ms/step - loss: 18.6532 - val_loss: 5110.0327\n",
            "Epoch 31/400\n",
            "9/9 [==============================] - 0s 4ms/step - loss: 19.0297 - val_loss: 5333.7852\n",
            "Epoch 32/400\n",
            "9/9 [==============================] - 0s 4ms/step - loss: 17.4649 - val_loss: 5594.9961\n",
            "Epoch 33/400\n",
            "9/9 [==============================] - 0s 3ms/step - loss: 20.3843 - val_loss: 6147.7808\n",
            "Epoch 34/400\n",
            "9/9 [==============================] - 0s 4ms/step - loss: 19.4474 - val_loss: 6589.4536\n",
            "Epoch 35/400\n",
            "9/9 [==============================] - 0s 4ms/step - loss: 19.0500 - val_loss: 6813.7231\n",
            "Epoch 36/400\n",
            "9/9 [==============================] - 0s 4ms/step - loss: 20.0985 - val_loss: 7337.5317\n",
            "Epoch 37/400\n",
            "9/9 [==============================] - 0s 4ms/step - loss: 16.6689 - val_loss: 7641.2061\n",
            "Epoch 38/400\n",
            "9/9 [==============================] - 0s 4ms/step - loss: 17.3543 - val_loss: 7802.9326\n",
            "Epoch 39/400\n",
            "9/9 [==============================] - 0s 5ms/step - loss: 17.3364 - val_loss: 8531.7764\n",
            "Epoch 40/400\n",
            "9/9 [==============================] - 0s 4ms/step - loss: 17.4300 - val_loss: 9222.6953\n",
            "Epoch 41/400\n",
            "9/9 [==============================] - 0s 4ms/step - loss: 16.4565 - val_loss: 9619.3633\n",
            "Epoch 42/400\n",
            "9/9 [==============================] - 0s 4ms/step - loss: 15.5898 - val_loss: 9359.4268\n",
            "Epoch 43/400\n",
            "9/9 [==============================] - 0s 4ms/step - loss: 16.3470 - val_loss: 10181.3174\n",
            "Epoch 44/400\n",
            "9/9 [==============================] - 0s 4ms/step - loss: 17.4338 - val_loss: 10660.4014\n",
            "Epoch 45/400\n",
            "9/9 [==============================] - 0s 3ms/step - loss: 16.5998 - val_loss: 10836.4834\n",
            "Epoch 46/400\n",
            "9/9 [==============================] - 0s 4ms/step - loss: 15.5448 - val_loss: 11417.2344\n",
            "Epoch 47/400\n",
            "9/9 [==============================] - 0s 4ms/step - loss: 15.4920 - val_loss: 11763.7646\n",
            "Epoch 48/400\n",
            "9/9 [==============================] - 0s 4ms/step - loss: 18.5784 - val_loss: 12092.8740\n",
            "Epoch 49/400\n",
            "9/9 [==============================] - 0s 4ms/step - loss: 15.9554 - val_loss: 12771.9482\n",
            "Epoch 50/400\n",
            "9/9 [==============================] - 0s 4ms/step - loss: 16.3086 - val_loss: 13726.1387\n",
            "Epoch 51/400\n",
            "9/9 [==============================] - 0s 4ms/step - loss: 13.8752 - val_loss: 14958.5869\n",
            "Epoch 52/400\n",
            "9/9 [==============================] - 0s 4ms/step - loss: 17.5645 - val_loss: 14665.9111\n",
            "Epoch 53/400\n",
            "9/9 [==============================] - 0s 4ms/step - loss: 14.1144 - val_loss: 14547.7539\n",
            "Epoch 54/400\n",
            "9/9 [==============================] - 0s 4ms/step - loss: 13.5602 - val_loss: 15467.7930\n",
            "Epoch 55/400\n",
            "9/9 [==============================] - 0s 4ms/step - loss: 14.6769 - val_loss: 16135.6338\n",
            "Epoch 56/400\n",
            "9/9 [==============================] - 0s 4ms/step - loss: 13.0694 - val_loss: 16789.4238\n",
            "Epoch 57/400\n",
            "9/9 [==============================] - 0s 4ms/step - loss: 13.5297 - val_loss: 17240.7539\n",
            "Epoch 58/400\n",
            "9/9 [==============================] - 0s 4ms/step - loss: 13.5214 - val_loss: 17520.4062\n",
            "Epoch 59/400\n",
            "9/9 [==============================] - 0s 4ms/step - loss: 12.9005 - val_loss: 17646.0371\n",
            "Epoch 60/400\n",
            "9/9 [==============================] - 0s 4ms/step - loss: 14.0885 - val_loss: 18655.6348\n",
            "Epoch 61/400\n",
            "9/9 [==============================] - 0s 4ms/step - loss: 13.5640 - val_loss: 19301.8359\n",
            "Epoch 62/400\n",
            "9/9 [==============================] - 0s 4ms/step - loss: 13.8964 - val_loss: 19837.8359\n",
            "Epoch 63/400\n",
            "9/9 [==============================] - 0s 4ms/step - loss: 13.4426 - val_loss: 20411.3574\n",
            "Epoch 64/400\n",
            "9/9 [==============================] - 0s 4ms/step - loss: 13.3845 - val_loss: 21001.1641\n",
            "Epoch 65/400\n",
            "9/9 [==============================] - 0s 4ms/step - loss: 12.1634 - val_loss: 21192.8613\n",
            "Epoch 66/400\n",
            "9/9 [==============================] - 0s 4ms/step - loss: 13.2347 - val_loss: 21056.9160\n",
            "Epoch 67/400\n",
            "9/9 [==============================] - 0s 4ms/step - loss: 14.0832 - val_loss: 22022.2324\n",
            "Epoch 68/400\n",
            "9/9 [==============================] - 0s 4ms/step - loss: 13.8582 - val_loss: 23103.9531\n",
            "Epoch 69/400\n",
            "9/9 [==============================] - 0s 4ms/step - loss: 12.9864 - val_loss: 22391.0117\n",
            "Epoch 70/400\n",
            "9/9 [==============================] - 0s 4ms/step - loss: 12.2112 - val_loss: 22495.0840\n",
            "Epoch 71/400\n",
            "9/9 [==============================] - 0s 4ms/step - loss: 13.3938 - val_loss: 23396.0195\n",
            "Epoch 72/400\n",
            "9/9 [==============================] - 0s 4ms/step - loss: 14.3832 - val_loss: 25145.0098\n",
            "Epoch 73/400\n",
            "9/9 [==============================] - 0s 4ms/step - loss: 12.4375 - val_loss: 26447.8125\n",
            "Epoch 74/400\n",
            "9/9 [==============================] - 0s 4ms/step - loss: 13.1404 - val_loss: 26132.9043\n",
            "Epoch 75/400\n",
            "9/9 [==============================] - 0s 4ms/step - loss: 14.4584 - val_loss: 24678.5938\n",
            "Epoch 76/400\n",
            "9/9 [==============================] - 0s 5ms/step - loss: 12.4306 - val_loss: 24320.0312\n",
            "Epoch 77/400\n",
            "9/9 [==============================] - 0s 4ms/step - loss: 13.9893 - val_loss: 25919.8691\n",
            "Epoch 78/400\n",
            "9/9 [==============================] - 0s 4ms/step - loss: 13.3597 - val_loss: 27533.9492\n",
            "Epoch 79/400\n",
            "9/9 [==============================] - 0s 4ms/step - loss: 11.7016 - val_loss: 27024.2305\n",
            "Epoch 80/400\n",
            "9/9 [==============================] - 0s 4ms/step - loss: 11.7410 - val_loss: 28019.4785\n",
            "Epoch 81/400\n",
            "9/9 [==============================] - 0s 4ms/step - loss: 13.6731 - val_loss: 28917.7734\n",
            "Epoch 82/400\n",
            "9/9 [==============================] - 0s 4ms/step - loss: 12.6942 - val_loss: 28522.7344\n",
            "Epoch 83/400\n",
            "9/9 [==============================] - 0s 4ms/step - loss: 13.5274 - val_loss: 27656.3594\n",
            "Epoch 84/400\n",
            "9/9 [==============================] - 0s 4ms/step - loss: 11.6450 - val_loss: 28567.1191\n",
            "Epoch 85/400\n",
            "9/9 [==============================] - 0s 4ms/step - loss: 13.1453 - val_loss: 29259.2969\n",
            "Epoch 86/400\n",
            "9/9 [==============================] - 0s 3ms/step - loss: 14.1242 - val_loss: 29503.4922\n",
            "Epoch 87/400\n",
            "9/9 [==============================] - 0s 4ms/step - loss: 14.7812 - val_loss: 30020.9238\n",
            "Epoch 88/400\n",
            "9/9 [==============================] - 0s 3ms/step - loss: 10.9793 - val_loss: 30325.1738\n",
            "Epoch 89/400\n",
            "9/9 [==============================] - 0s 3ms/step - loss: 12.9429 - val_loss: 30134.0000\n",
            "Epoch 90/400\n",
            "9/9 [==============================] - 0s 3ms/step - loss: 13.0932 - val_loss: 30147.3613\n",
            "Epoch 91/400\n",
            "9/9 [==============================] - 0s 3ms/step - loss: 11.5365 - val_loss: 31431.1035\n",
            "Epoch 92/400\n",
            "9/9 [==============================] - 0s 3ms/step - loss: 10.9315 - val_loss: 32246.0684\n",
            "Epoch 93/400\n",
            "9/9 [==============================] - 0s 3ms/step - loss: 13.8301 - val_loss: 30568.0078\n",
            "Epoch 94/400\n",
            "9/9 [==============================] - 0s 3ms/step - loss: 10.7747 - val_loss: 31384.4121\n",
            "Epoch 95/400\n",
            "9/9 [==============================] - 0s 3ms/step - loss: 12.5782 - val_loss: 31630.9453\n",
            "Epoch 96/400\n",
            "9/9 [==============================] - 0s 3ms/step - loss: 11.9291 - val_loss: 31495.7988\n",
            "Epoch 97/400\n",
            "9/9 [==============================] - 0s 3ms/step - loss: 13.4433 - val_loss: 30958.7793\n",
            "Epoch 98/400\n",
            "9/9 [==============================] - 0s 3ms/step - loss: 10.8674 - val_loss: 32220.5527\n",
            "Epoch 99/400\n",
            "9/9 [==============================] - 0s 3ms/step - loss: 10.3674 - val_loss: 33110.6875\n",
            "Epoch 100/400\n",
            "9/9 [==============================] - 0s 3ms/step - loss: 11.2879 - val_loss: 33101.2109\n",
            "Epoch 101/400\n",
            "9/9 [==============================] - 0s 3ms/step - loss: 12.0713 - val_loss: 33412.1875\n",
            "Epoch 102/400\n",
            "9/9 [==============================] - 0s 3ms/step - loss: 12.1364 - val_loss: 32875.5742\n",
            "Epoch 103/400\n",
            "9/9 [==============================] - 0s 4ms/step - loss: 11.0054 - val_loss: 33802.0938\n",
            "Epoch 104/400\n",
            "9/9 [==============================] - 0s 3ms/step - loss: 12.3094 - val_loss: 34327.8906\n",
            "Epoch 105/400\n",
            "9/9 [==============================] - 0s 3ms/step - loss: 11.2753 - val_loss: 33397.0586\n",
            "Epoch 106/400\n",
            "9/9 [==============================] - 0s 3ms/step - loss: 12.5873 - val_loss: 33473.3320\n",
            "Epoch 107/400\n",
            "9/9 [==============================] - 0s 3ms/step - loss: 12.6044 - val_loss: 33922.3828\n",
            "Epoch 108/400\n",
            "9/9 [==============================] - 0s 3ms/step - loss: 12.3216 - val_loss: 34566.5742\n",
            "Epoch 109/400\n",
            "9/9 [==============================] - 0s 3ms/step - loss: 10.1819 - val_loss: 34889.6328\n",
            "Epoch 110/400\n",
            "9/9 [==============================] - 0s 3ms/step - loss: 12.8052 - val_loss: 35256.2305\n",
            "Epoch 111/400\n",
            "9/9 [==============================] - 0s 3ms/step - loss: 13.0593 - val_loss: 34546.3867\n",
            "Epoch 112/400\n",
            "9/9 [==============================] - 0s 3ms/step - loss: 10.8958 - val_loss: 33442.8945\n",
            "Epoch 113/400\n",
            "9/9 [==============================] - 0s 3ms/step - loss: 10.2453 - val_loss: 34522.9609\n",
            "Epoch 114/400\n",
            "9/9 [==============================] - 0s 4ms/step - loss: 10.2938 - val_loss: 35019.1250\n",
            "Epoch 115/400\n",
            "9/9 [==============================] - 0s 4ms/step - loss: 10.9216 - val_loss: 34907.6992\n",
            "Epoch 116/400\n",
            "9/9 [==============================] - 0s 3ms/step - loss: 10.0728 - val_loss: 36772.1914\n",
            "Epoch 117/400\n",
            "9/9 [==============================] - 0s 3ms/step - loss: 13.0601 - val_loss: 36178.2617\n",
            "Epoch 118/400\n",
            "9/9 [==============================] - 0s 3ms/step - loss: 9.0700 - val_loss: 35704.4453\n",
            "Epoch 119/400\n",
            "9/9 [==============================] - 0s 3ms/step - loss: 10.9890 - val_loss: 36706.3398\n",
            "Epoch 120/400\n",
            "9/9 [==============================] - 0s 4ms/step - loss: 10.2644 - val_loss: 36223.6367\n",
            "Epoch 121/400\n",
            "9/9 [==============================] - 0s 4ms/step - loss: 10.7885 - val_loss: 36511.3125\n",
            "Epoch 122/400\n",
            "9/9 [==============================] - 0s 3ms/step - loss: 10.5828 - val_loss: 37175.2773\n",
            "Epoch 123/400\n",
            "9/9 [==============================] - 0s 4ms/step - loss: 8.9145 - val_loss: 36656.4414\n",
            "Epoch 124/400\n",
            "9/9 [==============================] - 0s 4ms/step - loss: 9.7439 - val_loss: 36130.0859\n",
            "Epoch 125/400\n",
            "9/9 [==============================] - 0s 4ms/step - loss: 10.2055 - val_loss: 36626.1211\n",
            "Epoch 126/400\n",
            "9/9 [==============================] - 0s 4ms/step - loss: 12.0288 - val_loss: 37493.2539\n",
            "Epoch 127/400\n",
            "9/9 [==============================] - 0s 4ms/step - loss: 11.5304 - val_loss: 36438.6523\n",
            "Epoch 128/400\n",
            "9/9 [==============================] - 0s 4ms/step - loss: 11.2619 - val_loss: 38344.6602\n",
            "Epoch 129/400\n",
            "9/9 [==============================] - 0s 3ms/step - loss: 10.5210 - val_loss: 37936.9648\n",
            "Epoch 130/400\n",
            "9/9 [==============================] - 0s 4ms/step - loss: 11.4038 - val_loss: 36185.2695\n",
            "Epoch 131/400\n",
            "9/9 [==============================] - 0s 5ms/step - loss: 10.1006 - val_loss: 36322.5352\n",
            "Epoch 132/400\n",
            "9/9 [==============================] - 0s 4ms/step - loss: 9.9032 - val_loss: 37581.1250\n",
            "Epoch 133/400\n",
            "9/9 [==============================] - 0s 3ms/step - loss: 10.4128 - val_loss: 38487.9414\n",
            "Epoch 134/400\n",
            "9/9 [==============================] - 0s 4ms/step - loss: 9.4605 - val_loss: 38883.5234\n",
            "Epoch 135/400\n",
            "9/9 [==============================] - 0s 3ms/step - loss: 12.8203 - val_loss: 36856.5391\n",
            "Epoch 136/400\n",
            "9/9 [==============================] - 0s 3ms/step - loss: 9.5740 - val_loss: 38060.7070\n",
            "Epoch 137/400\n",
            "9/9 [==============================] - 0s 3ms/step - loss: 11.0677 - val_loss: 38305.9531\n",
            "Epoch 138/400\n",
            "9/9 [==============================] - 0s 3ms/step - loss: 9.7732 - val_loss: 37329.8477\n",
            "Epoch 139/400\n",
            "9/9 [==============================] - 0s 3ms/step - loss: 9.5018 - val_loss: 38302.7266\n",
            "Epoch 140/400\n",
            "9/9 [==============================] - 0s 3ms/step - loss: 10.1426 - val_loss: 39267.0664\n",
            "Epoch 141/400\n",
            "9/9 [==============================] - 0s 4ms/step - loss: 10.0977 - val_loss: 38899.3008\n",
            "Epoch 142/400\n",
            "9/9 [==============================] - 0s 4ms/step - loss: 9.2933 - val_loss: 37732.5430\n",
            "Epoch 143/400\n",
            "9/9 [==============================] - 0s 4ms/step - loss: 9.3074 - val_loss: 37608.4375\n",
            "Epoch 144/400\n",
            "9/9 [==============================] - 0s 4ms/step - loss: 8.7601 - val_loss: 38778.8438\n",
            "Epoch 145/400\n",
            "9/9 [==============================] - 0s 4ms/step - loss: 9.6258 - val_loss: 39208.1641\n",
            "Epoch 146/400\n",
            "9/9 [==============================] - 0s 6ms/step - loss: 8.9002 - val_loss: 39470.8867\n",
            "Epoch 147/400\n",
            "9/9 [==============================] - 0s 4ms/step - loss: 10.5226 - val_loss: 40540.2695\n",
            "Epoch 148/400\n",
            "9/9 [==============================] - 0s 4ms/step - loss: 10.1621 - val_loss: 39930.1797\n",
            "Epoch 149/400\n",
            "9/9 [==============================] - 0s 4ms/step - loss: 8.9073 - val_loss: 39993.4961\n",
            "Epoch 150/400\n",
            "9/9 [==============================] - 0s 4ms/step - loss: 9.4993 - val_loss: 42267.9883\n",
            "Epoch 151/400\n",
            "9/9 [==============================] - 0s 5ms/step - loss: 9.3594 - val_loss: 43374.2188\n",
            "Epoch 152/400\n",
            "9/9 [==============================] - 0s 4ms/step - loss: 9.0703 - val_loss: 41633.3438\n",
            "Epoch 153/400\n",
            "9/9 [==============================] - 0s 4ms/step - loss: 7.5354 - val_loss: 41438.3555\n",
            "Epoch 154/400\n",
            "9/9 [==============================] - 0s 4ms/step - loss: 8.6829 - val_loss: 42492.6172\n",
            "Epoch 155/400\n",
            "9/9 [==============================] - 0s 4ms/step - loss: 8.9427 - val_loss: 43201.5977\n",
            "Epoch 156/400\n",
            "9/9 [==============================] - 0s 4ms/step - loss: 9.0334 - val_loss: 42129.2617\n",
            "Epoch 157/400\n",
            "9/9 [==============================] - 0s 4ms/step - loss: 9.8126 - val_loss: 40523.5977\n",
            "Epoch 158/400\n",
            "9/9 [==============================] - 0s 4ms/step - loss: 9.6905 - val_loss: 42016.3477\n",
            "Epoch 159/400\n",
            "9/9 [==============================] - 0s 4ms/step - loss: 10.5073 - val_loss: 41487.8672\n",
            "Epoch 160/400\n",
            "9/9 [==============================] - 0s 4ms/step - loss: 8.8096 - val_loss: 39616.2734\n",
            "Epoch 161/400\n",
            "9/9 [==============================] - 0s 4ms/step - loss: 8.4823 - val_loss: 39953.2266\n",
            "Epoch 162/400\n",
            "9/9 [==============================] - 0s 4ms/step - loss: 9.4634 - val_loss: 41031.3906\n",
            "Epoch 163/400\n",
            "9/9 [==============================] - 0s 3ms/step - loss: 8.2162 - val_loss: 39755.7266\n",
            "Epoch 164/400\n",
            "9/9 [==============================] - 0s 4ms/step - loss: 9.9407 - val_loss: 38851.5508\n",
            "Epoch 165/400\n",
            "9/9 [==============================] - 0s 4ms/step - loss: 9.1405 - val_loss: 41020.7969\n",
            "Epoch 166/400\n",
            "9/9 [==============================] - 0s 4ms/step - loss: 10.3970 - val_loss: 39930.5430\n",
            "Epoch 167/400\n",
            "9/9 [==============================] - 0s 4ms/step - loss: 9.5184 - val_loss: 38845.7695\n",
            "Epoch 168/400\n",
            "9/9 [==============================] - 0s 4ms/step - loss: 9.8028 - val_loss: 40126.1484\n",
            "Epoch 169/400\n",
            "9/9 [==============================] - 0s 3ms/step - loss: 9.6888 - val_loss: 41272.8281\n",
            "Epoch 170/400\n",
            "9/9 [==============================] - 0s 3ms/step - loss: 8.3588 - val_loss: 39733.7266\n",
            "Epoch 171/400\n",
            "9/9 [==============================] - 0s 3ms/step - loss: 10.0290 - val_loss: 39351.7266\n",
            "Epoch 172/400\n",
            "9/9 [==============================] - 0s 3ms/step - loss: 10.8448 - val_loss: 38442.2617\n",
            "Epoch 173/400\n",
            "9/9 [==============================] - 0s 3ms/step - loss: 9.6355 - val_loss: 40597.5078\n",
            "Epoch 174/400\n",
            "9/9 [==============================] - 0s 3ms/step - loss: 8.9640 - val_loss: 40860.0000\n",
            "Epoch 175/400\n",
            "9/9 [==============================] - 0s 4ms/step - loss: 10.0891 - val_loss: 40101.9297\n",
            "Epoch 176/400\n",
            "9/9 [==============================] - 0s 4ms/step - loss: 8.8010 - val_loss: 40161.6172\n",
            "Epoch 177/400\n",
            "9/9 [==============================] - 0s 3ms/step - loss: 8.5567 - val_loss: 41601.0977\n",
            "Epoch 178/400\n",
            "9/9 [==============================] - 0s 4ms/step - loss: 9.4819 - val_loss: 40295.7383\n",
            "Epoch 179/400\n",
            "9/9 [==============================] - 0s 5ms/step - loss: 10.1331 - val_loss: 42146.7656\n",
            "Epoch 180/400\n",
            "9/9 [==============================] - 0s 4ms/step - loss: 9.1812 - val_loss: 42855.1602\n",
            "Epoch 181/400\n",
            "9/9 [==============================] - 0s 4ms/step - loss: 10.4242 - val_loss: 42934.7031\n",
            "Epoch 182/400\n",
            "9/9 [==============================] - 0s 4ms/step - loss: 8.5264 - val_loss: 43224.5117\n",
            "Epoch 183/400\n",
            "9/9 [==============================] - 0s 4ms/step - loss: 9.1137 - val_loss: 44949.4531\n",
            "Epoch 184/400\n",
            "9/9 [==============================] - 0s 4ms/step - loss: 9.3338 - val_loss: 45856.6836\n",
            "Epoch 185/400\n",
            "9/9 [==============================] - 0s 3ms/step - loss: 8.1234 - val_loss: 45486.9883\n",
            "Epoch 186/400\n",
            "9/9 [==============================] - 0s 4ms/step - loss: 10.0323 - val_loss: 44643.7070\n",
            "Epoch 187/400\n",
            "9/9 [==============================] - 0s 4ms/step - loss: 7.4800 - val_loss: 44732.2344\n",
            "Epoch 188/400\n",
            "9/9 [==============================] - 0s 4ms/step - loss: 8.4851 - val_loss: 44333.1328\n",
            "Epoch 189/400\n",
            "9/9 [==============================] - 0s 4ms/step - loss: 9.8426 - val_loss: 43755.4961\n",
            "Epoch 190/400\n",
            "9/9 [==============================] - 0s 3ms/step - loss: 10.3783 - val_loss: 44104.4531\n",
            "Epoch 191/400\n",
            "9/9 [==============================] - 0s 3ms/step - loss: 7.9455 - val_loss: 43263.5898\n",
            "Epoch 192/400\n",
            "9/9 [==============================] - 0s 4ms/step - loss: 8.9238 - val_loss: 42702.0430\n",
            "Epoch 193/400\n",
            "9/9 [==============================] - 0s 3ms/step - loss: 9.6811 - val_loss: 43544.8672\n",
            "Epoch 194/400\n",
            "9/9 [==============================] - 0s 3ms/step - loss: 10.2750 - val_loss: 44055.5391\n",
            "Epoch 195/400\n",
            "9/9 [==============================] - 0s 3ms/step - loss: 9.4959 - val_loss: 44033.2148\n",
            "Epoch 196/400\n",
            "9/9 [==============================] - 0s 3ms/step - loss: 8.8176 - val_loss: 43869.1172\n",
            "Epoch 197/400\n",
            "9/9 [==============================] - 0s 3ms/step - loss: 8.7025 - val_loss: 43331.8203\n",
            "Epoch 198/400\n",
            "9/9 [==============================] - 0s 3ms/step - loss: 7.5308 - val_loss: 44989.5781\n",
            "Epoch 199/400\n",
            "9/9 [==============================] - 0s 3ms/step - loss: 8.3823 - val_loss: 45517.5352\n",
            "Epoch 200/400\n",
            "9/9 [==============================] - 0s 3ms/step - loss: 7.7608 - val_loss: 43271.0508\n",
            "Epoch 201/400\n",
            "9/9 [==============================] - 0s 3ms/step - loss: 9.4292 - val_loss: 43020.3516\n",
            "Epoch 202/400\n",
            "9/9 [==============================] - 0s 3ms/step - loss: 9.3316 - val_loss: 43982.5391\n",
            "Epoch 203/400\n",
            "9/9 [==============================] - 0s 3ms/step - loss: 7.3225 - val_loss: 45132.7383\n",
            "Epoch 204/400\n",
            "9/9 [==============================] - 0s 3ms/step - loss: 8.8670 - val_loss: 45258.8906\n",
            "Epoch 205/400\n",
            "9/9 [==============================] - 0s 3ms/step - loss: 7.9311 - val_loss: 42547.1133\n",
            "Epoch 206/400\n",
            "9/9 [==============================] - 0s 4ms/step - loss: 8.2201 - val_loss: 43072.4141\n",
            "Epoch 207/400\n",
            "9/9 [==============================] - 0s 3ms/step - loss: 8.0586 - val_loss: 45805.5078\n",
            "Epoch 208/400\n",
            "9/9 [==============================] - 0s 4ms/step - loss: 9.6642 - val_loss: 43529.5586\n",
            "Epoch 209/400\n",
            "9/9 [==============================] - 0s 4ms/step - loss: 8.7503 - val_loss: 42517.1680\n",
            "Epoch 210/400\n",
            "9/9 [==============================] - 0s 3ms/step - loss: 9.1907 - val_loss: 42568.6562\n",
            "Epoch 211/400\n",
            "9/9 [==============================] - 0s 3ms/step - loss: 8.7686 - val_loss: 43770.2617\n",
            "Epoch 212/400\n",
            "9/9 [==============================] - 0s 4ms/step - loss: 9.8485 - val_loss: 43828.9141\n",
            "Epoch 213/400\n",
            "9/9 [==============================] - 0s 4ms/step - loss: 8.5575 - val_loss: 42952.3828\n",
            "Epoch 214/400\n",
            "9/9 [==============================] - 0s 3ms/step - loss: 8.8378 - val_loss: 41618.7812\n",
            "Epoch 215/400\n",
            "9/9 [==============================] - 0s 3ms/step - loss: 9.7353 - val_loss: 44039.8320\n",
            "Epoch 216/400\n",
            "9/9 [==============================] - 0s 3ms/step - loss: 8.8288 - val_loss: 44517.7734\n",
            "Epoch 217/400\n",
            "9/9 [==============================] - 0s 3ms/step - loss: 7.5887 - val_loss: 41815.4258\n",
            "Epoch 218/400\n",
            "9/9 [==============================] - 0s 5ms/step - loss: 9.3532 - val_loss: 41761.5312\n",
            "Epoch 219/400\n",
            "9/9 [==============================] - 0s 5ms/step - loss: 7.7841 - val_loss: 42502.9297\n",
            "Epoch 220/400\n",
            "9/9 [==============================] - 0s 4ms/step - loss: 8.2372 - val_loss: 43833.0000\n",
            "Epoch 221/400\n",
            "9/9 [==============================] - 0s 3ms/step - loss: 7.3682 - val_loss: 44814.9570\n",
            "Epoch 222/400\n",
            "9/9 [==============================] - 0s 3ms/step - loss: 8.1959 - val_loss: 47123.6289\n",
            "Epoch 223/400\n",
            "9/9 [==============================] - 0s 3ms/step - loss: 8.6768 - val_loss: 45910.9805\n",
            "Epoch 224/400\n",
            "9/9 [==============================] - 0s 3ms/step - loss: 8.6901 - val_loss: 44376.7227\n",
            "Epoch 225/400\n",
            "9/9 [==============================] - 0s 3ms/step - loss: 8.3756 - val_loss: 45229.3359\n",
            "Epoch 226/400\n",
            "9/9 [==============================] - 0s 3ms/step - loss: 8.2462 - val_loss: 45592.7266\n",
            "Epoch 227/400\n",
            "9/9 [==============================] - 0s 4ms/step - loss: 9.1688 - val_loss: 45446.9023\n",
            "Epoch 228/400\n",
            "9/9 [==============================] - 0s 3ms/step - loss: 7.9807 - val_loss: 44807.7891\n",
            "Epoch 229/400\n",
            "9/9 [==============================] - 0s 4ms/step - loss: 8.1094 - val_loss: 44996.1172\n",
            "Epoch 230/400\n",
            "9/9 [==============================] - 0s 4ms/step - loss: 7.7308 - val_loss: 45643.1328\n",
            "Epoch 231/400\n",
            "9/9 [==============================] - 0s 3ms/step - loss: 7.8793 - val_loss: 46195.4922\n",
            "Epoch 232/400\n",
            "9/9 [==============================] - 0s 3ms/step - loss: 7.2845 - val_loss: 46921.3359\n",
            "Epoch 233/400\n",
            "9/9 [==============================] - 0s 3ms/step - loss: 7.2186 - val_loss: 46167.1445\n",
            "Epoch 234/400\n",
            "9/9 [==============================] - 0s 3ms/step - loss: 8.0711 - val_loss: 46145.7578\n",
            "Epoch 235/400\n",
            "9/9 [==============================] - 0s 4ms/step - loss: 8.0031 - val_loss: 45452.6445\n",
            "Epoch 236/400\n",
            "9/9 [==============================] - 0s 4ms/step - loss: 7.1947 - val_loss: 44736.6523\n",
            "Epoch 237/400\n",
            "9/9 [==============================] - 0s 3ms/step - loss: 8.8388 - val_loss: 44863.2539\n",
            "Epoch 238/400\n",
            "9/9 [==============================] - 0s 3ms/step - loss: 8.2814 - val_loss: 46256.2031\n",
            "Epoch 239/400\n",
            "9/9 [==============================] - 0s 3ms/step - loss: 7.8192 - val_loss: 45822.7695\n",
            "Epoch 240/400\n",
            "9/9 [==============================] - 0s 3ms/step - loss: 7.5732 - val_loss: 45854.7656\n",
            "Epoch 241/400\n",
            "9/9 [==============================] - 0s 3ms/step - loss: 7.6891 - val_loss: 44836.1602\n",
            "Epoch 242/400\n",
            "9/9 [==============================] - 0s 3ms/step - loss: 8.1455 - val_loss: 46058.4609\n",
            "Epoch 243/400\n",
            "9/9 [==============================] - 0s 4ms/step - loss: 7.1471 - val_loss: 45353.8203\n",
            "Epoch 244/400\n",
            "9/9 [==============================] - 0s 3ms/step - loss: 7.9823 - val_loss: 43866.9570\n",
            "Epoch 245/400\n",
            "9/9 [==============================] - 0s 4ms/step - loss: 8.1233 - val_loss: 44482.8320\n",
            "Epoch 246/400\n",
            "9/9 [==============================] - 0s 4ms/step - loss: 8.2462 - val_loss: 44061.3125\n",
            "Epoch 247/400\n",
            "9/9 [==============================] - 0s 4ms/step - loss: 7.5344 - val_loss: 43684.7812\n",
            "Epoch 248/400\n",
            "9/9 [==============================] - 0s 4ms/step - loss: 9.3234 - val_loss: 42450.1172\n",
            "Epoch 249/400\n",
            "9/9 [==============================] - 0s 4ms/step - loss: 7.0773 - val_loss: 44046.9297\n",
            "Epoch 250/400\n",
            "9/9 [==============================] - 0s 4ms/step - loss: 9.2322 - val_loss: 45254.9258\n",
            "Epoch 251/400\n",
            "9/9 [==============================] - 0s 4ms/step - loss: 8.3697 - val_loss: 42729.0508\n",
            "Epoch 252/400\n",
            "9/9 [==============================] - 0s 4ms/step - loss: 7.0704 - val_loss: 43390.5391\n",
            "Epoch 253/400\n",
            "9/9 [==============================] - 0s 4ms/step - loss: 8.1177 - val_loss: 44058.9844\n",
            "Epoch 254/400\n",
            "9/9 [==============================] - 0s 4ms/step - loss: 6.9161 - val_loss: 44451.9688\n",
            "Epoch 255/400\n",
            "9/9 [==============================] - 0s 4ms/step - loss: 10.0087 - val_loss: 44431.3867\n",
            "Epoch 256/400\n",
            "9/9 [==============================] - 0s 4ms/step - loss: 7.2379 - val_loss: 44878.3789\n",
            "Epoch 257/400\n",
            "9/9 [==============================] - 0s 3ms/step - loss: 7.9046 - val_loss: 45357.0703\n",
            "Epoch 258/400\n",
            "9/9 [==============================] - 0s 4ms/step - loss: 7.6335 - val_loss: 47012.5195\n",
            "Epoch 259/400\n",
            "9/9 [==============================] - 0s 4ms/step - loss: 8.3202 - val_loss: 46566.4375\n",
            "Epoch 260/400\n",
            "9/9 [==============================] - 0s 4ms/step - loss: 6.7406 - val_loss: 44589.8984\n",
            "Epoch 261/400\n",
            "9/9 [==============================] - 0s 4ms/step - loss: 7.7715 - val_loss: 45401.9414\n",
            "Epoch 262/400\n",
            "9/9 [==============================] - 0s 4ms/step - loss: 7.0172 - val_loss: 48082.5352\n",
            "Epoch 263/400\n",
            "9/9 [==============================] - 0s 4ms/step - loss: 6.9538 - val_loss: 47324.5039\n",
            "Epoch 264/400\n",
            "9/9 [==============================] - 0s 4ms/step - loss: 6.2039 - val_loss: 46523.9766\n",
            "Epoch 265/400\n",
            "9/9 [==============================] - 0s 4ms/step - loss: 7.2648 - val_loss: 46404.0156\n",
            "Epoch 266/400\n",
            "9/9 [==============================] - 0s 4ms/step - loss: 8.7463 - val_loss: 47659.1914\n",
            "Epoch 267/400\n",
            "9/9 [==============================] - 0s 4ms/step - loss: 8.1549 - val_loss: 47645.0469\n",
            "Epoch 268/400\n",
            "9/9 [==============================] - 0s 4ms/step - loss: 9.6854 - val_loss: 45747.8672\n",
            "Epoch 269/400\n",
            "9/9 [==============================] - 0s 4ms/step - loss: 6.6470 - val_loss: 45875.4609\n",
            "Epoch 270/400\n",
            "9/9 [==============================] - 0s 4ms/step - loss: 7.5539 - val_loss: 48219.1875\n",
            "Epoch 271/400\n",
            "9/9 [==============================] - 0s 4ms/step - loss: 7.4016 - val_loss: 48819.9141\n",
            "Epoch 272/400\n",
            "9/9 [==============================] - 0s 4ms/step - loss: 6.8535 - val_loss: 46317.2422\n",
            "Epoch 273/400\n",
            "9/9 [==============================] - 0s 4ms/step - loss: 8.2927 - val_loss: 43596.5664\n",
            "Epoch 274/400\n",
            "9/9 [==============================] - 0s 4ms/step - loss: 6.8846 - val_loss: 44520.2266\n",
            "Epoch 275/400\n",
            "9/9 [==============================] - 0s 4ms/step - loss: 7.0603 - val_loss: 46500.6484\n",
            "Epoch 276/400\n",
            "9/9 [==============================] - 0s 4ms/step - loss: 6.3364 - val_loss: 46137.3125\n",
            "Epoch 277/400\n",
            "9/9 [==============================] - 0s 4ms/step - loss: 8.5438 - val_loss: 45650.0742\n",
            "Epoch 278/400\n",
            "9/9 [==============================] - 0s 4ms/step - loss: 6.7804 - val_loss: 44203.6094\n",
            "Epoch 279/400\n",
            "9/9 [==============================] - 0s 4ms/step - loss: 7.2505 - val_loss: 45450.9414\n",
            "Epoch 280/400\n",
            "9/9 [==============================] - 0s 4ms/step - loss: 7.8583 - val_loss: 45753.0352\n",
            "Epoch 281/400\n",
            "9/9 [==============================] - 0s 4ms/step - loss: 6.5538 - val_loss: 45560.5859\n",
            "Epoch 282/400\n",
            "9/9 [==============================] - 0s 4ms/step - loss: 7.5096 - val_loss: 44548.6797\n",
            "Epoch 283/400\n",
            "9/9 [==============================] - 0s 4ms/step - loss: 8.0193 - val_loss: 45577.0039\n",
            "Epoch 284/400\n",
            "9/9 [==============================] - 0s 4ms/step - loss: 7.2021 - val_loss: 46794.6016\n",
            "Epoch 285/400\n",
            "9/9 [==============================] - 0s 4ms/step - loss: 8.1229 - val_loss: 45525.1562\n",
            "Epoch 286/400\n",
            "9/9 [==============================] - 0s 4ms/step - loss: 8.3378 - val_loss: 44995.5508\n",
            "Epoch 287/400\n",
            "9/9 [==============================] - 0s 4ms/step - loss: 7.3581 - val_loss: 45538.0664\n",
            "Epoch 288/400\n",
            "9/9 [==============================] - 0s 4ms/step - loss: 7.8020 - val_loss: 44738.3711\n",
            "Epoch 289/400\n",
            "9/9 [==============================] - 0s 4ms/step - loss: 9.5939 - val_loss: 44919.2930\n",
            "Epoch 290/400\n",
            "9/9 [==============================] - 0s 3ms/step - loss: 7.5212 - val_loss: 45434.2383\n",
            "Epoch 291/400\n",
            "9/9 [==============================] - 0s 4ms/step - loss: 5.9392 - val_loss: 44866.2266\n",
            "Epoch 292/400\n",
            "9/9 [==============================] - 0s 4ms/step - loss: 8.1410 - val_loss: 44816.6055\n",
            "Epoch 293/400\n",
            "9/9 [==============================] - 0s 4ms/step - loss: 6.4820 - val_loss: 45722.0859\n",
            "Epoch 294/400\n",
            "9/9 [==============================] - 0s 4ms/step - loss: 6.8914 - val_loss: 44112.1875\n",
            "Epoch 295/400\n",
            "9/9 [==============================] - 0s 3ms/step - loss: 7.5150 - val_loss: 43304.8203\n",
            "Epoch 296/400\n",
            "9/9 [==============================] - 0s 3ms/step - loss: 7.2973 - val_loss: 45211.0000\n",
            "Epoch 297/400\n",
            "9/9 [==============================] - 0s 3ms/step - loss: 6.8334 - val_loss: 44566.6875\n",
            "Epoch 298/400\n",
            "9/9 [==============================] - 0s 3ms/step - loss: 7.8257 - val_loss: 42068.5977\n",
            "Epoch 299/400\n",
            "9/9 [==============================] - 0s 3ms/step - loss: 6.6521 - val_loss: 42844.2383\n",
            "Epoch 300/400\n",
            "9/9 [==============================] - 0s 4ms/step - loss: 5.5777 - val_loss: 43706.1016\n",
            "Epoch 301/400\n",
            "9/9 [==============================] - 0s 4ms/step - loss: 6.5170 - val_loss: 44236.4766\n",
            "Epoch 302/400\n",
            "9/9 [==============================] - 0s 3ms/step - loss: 6.8117 - val_loss: 43172.9453\n",
            "Epoch 303/400\n",
            "9/9 [==============================] - 0s 3ms/step - loss: 6.1387 - val_loss: 44200.1719\n",
            "Epoch 304/400\n",
            "9/9 [==============================] - 0s 3ms/step - loss: 5.9710 - val_loss: 45010.5703\n",
            "Epoch 305/400\n",
            "9/9 [==============================] - 0s 3ms/step - loss: 5.5603 - val_loss: 44016.7461\n",
            "Epoch 306/400\n",
            "9/9 [==============================] - 0s 3ms/step - loss: 7.2712 - val_loss: 43808.8320\n",
            "Epoch 307/400\n",
            "9/9 [==============================] - 0s 3ms/step - loss: 6.9451 - val_loss: 43784.3008\n",
            "Epoch 308/400\n",
            "9/9 [==============================] - 0s 3ms/step - loss: 8.2986 - val_loss: 41268.9453\n",
            "Epoch 309/400\n",
            "9/9 [==============================] - 0s 3ms/step - loss: 6.4663 - val_loss: 42233.1445\n",
            "Epoch 310/400\n",
            "9/9 [==============================] - 0s 3ms/step - loss: 7.8814 - val_loss: 42822.9453\n",
            "Epoch 311/400\n",
            "9/9 [==============================] - 0s 3ms/step - loss: 6.1757 - val_loss: 42417.1172\n",
            "Epoch 312/400\n",
            "9/9 [==============================] - 0s 3ms/step - loss: 6.0788 - val_loss: 41919.1328\n",
            "Epoch 313/400\n",
            "9/9 [==============================] - 0s 3ms/step - loss: 5.3216 - val_loss: 42815.0312\n",
            "Epoch 314/400\n",
            "9/9 [==============================] - 0s 4ms/step - loss: 6.9706 - val_loss: 43741.8672\n",
            "Epoch 315/400\n",
            "9/9 [==============================] - 0s 3ms/step - loss: 7.2660 - val_loss: 44892.0234\n",
            "Epoch 316/400\n",
            "9/9 [==============================] - 0s 3ms/step - loss: 6.7398 - val_loss: 44773.8281\n",
            "Epoch 317/400\n",
            "9/9 [==============================] - 0s 3ms/step - loss: 5.6580 - val_loss: 44018.5312\n",
            "Epoch 318/400\n",
            "9/9 [==============================] - 0s 3ms/step - loss: 6.3340 - val_loss: 44022.7109\n",
            "Epoch 319/400\n",
            "9/9 [==============================] - 0s 4ms/step - loss: 5.8558 - val_loss: 44485.9961\n",
            "Epoch 320/400\n",
            "9/9 [==============================] - 0s 4ms/step - loss: 6.8710 - val_loss: 43379.0977\n",
            "Epoch 321/400\n",
            "9/9 [==============================] - 0s 4ms/step - loss: 7.2911 - val_loss: 41533.5195\n",
            "Epoch 322/400\n",
            "9/9 [==============================] - 0s 4ms/step - loss: 6.5715 - val_loss: 44019.7305\n",
            "Epoch 323/400\n",
            "9/9 [==============================] - 0s 4ms/step - loss: 6.1411 - val_loss: 45345.7656\n",
            "Epoch 324/400\n",
            "9/9 [==============================] - 0s 4ms/step - loss: 6.4550 - val_loss: 42734.8359\n",
            "Epoch 325/400\n",
            "9/9 [==============================] - 0s 4ms/step - loss: 6.4295 - val_loss: 42165.1602\n",
            "Epoch 326/400\n",
            "9/9 [==============================] - 0s 4ms/step - loss: 6.4450 - val_loss: 44018.8750\n",
            "Epoch 327/400\n",
            "9/9 [==============================] - 0s 4ms/step - loss: 7.2566 - val_loss: 46158.5977\n",
            "Epoch 328/400\n",
            "9/9 [==============================] - 0s 4ms/step - loss: 7.1077 - val_loss: 45165.3438\n",
            "Epoch 329/400\n",
            "9/9 [==============================] - 0s 4ms/step - loss: 7.2125 - val_loss: 43811.9297\n",
            "Epoch 330/400\n",
            "9/9 [==============================] - 0s 4ms/step - loss: 6.6213 - val_loss: 44441.5312\n",
            "Epoch 331/400\n",
            "9/9 [==============================] - 0s 4ms/step - loss: 8.3204 - val_loss: 44825.1758\n",
            "Epoch 332/400\n",
            "9/9 [==============================] - 0s 4ms/step - loss: 6.3721 - val_loss: 42167.4336\n",
            "Epoch 333/400\n",
            "9/9 [==============================] - 0s 4ms/step - loss: 6.1139 - val_loss: 42707.3242\n",
            "Epoch 334/400\n",
            "9/9 [==============================] - 0s 4ms/step - loss: 6.7269 - val_loss: 42610.3516\n",
            "Epoch 335/400\n",
            "9/9 [==============================] - 0s 4ms/step - loss: 7.0024 - val_loss: 43070.0078\n",
            "Epoch 336/400\n",
            "9/9 [==============================] - 0s 4ms/step - loss: 5.9228 - val_loss: 44548.1250\n",
            "Epoch 337/400\n",
            "9/9 [==============================] - 0s 4ms/step - loss: 7.0353 - val_loss: 44018.9766\n",
            "Epoch 338/400\n",
            "9/9 [==============================] - 0s 4ms/step - loss: 5.9454 - val_loss: 45053.8477\n",
            "Epoch 339/400\n",
            "9/9 [==============================] - 0s 5ms/step - loss: 7.1314 - val_loss: 43965.4062\n",
            "Epoch 340/400\n",
            "9/9 [==============================] - 0s 4ms/step - loss: 8.6222 - val_loss: 43651.7812\n",
            "Epoch 341/400\n",
            "9/9 [==============================] - 0s 4ms/step - loss: 6.2378 - val_loss: 43498.4531\n",
            "Epoch 342/400\n",
            "9/9 [==============================] - 0s 4ms/step - loss: 7.0911 - val_loss: 44646.0078\n",
            "Epoch 343/400\n",
            "9/9 [==============================] - 0s 4ms/step - loss: 5.9651 - val_loss: 45022.6250\n",
            "Epoch 344/400\n",
            "9/9 [==============================] - 0s 4ms/step - loss: 6.0875 - val_loss: 45328.7891\n",
            "Epoch 345/400\n",
            "9/9 [==============================] - 0s 4ms/step - loss: 6.2920 - val_loss: 45016.7734\n",
            "Epoch 346/400\n",
            "9/9 [==============================] - 0s 4ms/step - loss: 6.6080 - val_loss: 46018.3867\n",
            "Epoch 347/400\n",
            "9/9 [==============================] - 0s 4ms/step - loss: 6.7366 - val_loss: 45200.0938\n",
            "Epoch 348/400\n",
            "9/9 [==============================] - 0s 4ms/step - loss: 6.6296 - val_loss: 44343.7969\n",
            "Epoch 349/400\n",
            "9/9 [==============================] - 0s 4ms/step - loss: 6.5534 - val_loss: 45088.9336\n",
            "Epoch 350/400\n",
            "9/9 [==============================] - 0s 4ms/step - loss: 7.2959 - val_loss: 44373.9570\n",
            "Epoch 351/400\n",
            "9/9 [==============================] - 0s 4ms/step - loss: 6.1779 - val_loss: 46037.1562\n",
            "Epoch 352/400\n",
            "9/9 [==============================] - 0s 4ms/step - loss: 6.3097 - val_loss: 45896.6875\n",
            "Epoch 353/400\n",
            "9/9 [==============================] - 0s 4ms/step - loss: 6.1471 - val_loss: 43060.2109\n",
            "Epoch 354/400\n",
            "9/9 [==============================] - 0s 4ms/step - loss: 6.6858 - val_loss: 44237.4297\n",
            "Epoch 355/400\n",
            "9/9 [==============================] - 0s 4ms/step - loss: 6.7805 - val_loss: 44322.4922\n",
            "Epoch 356/400\n",
            "9/9 [==============================] - 0s 4ms/step - loss: 7.0982 - val_loss: 43447.6797\n",
            "Epoch 357/400\n",
            "9/9 [==============================] - 0s 4ms/step - loss: 6.0540 - val_loss: 42872.7227\n",
            "Epoch 358/400\n",
            "9/9 [==============================] - 0s 4ms/step - loss: 7.2224 - val_loss: 43869.6016\n",
            "Epoch 359/400\n",
            "9/9 [==============================] - 0s 4ms/step - loss: 6.0192 - val_loss: 45935.8867\n",
            "Epoch 360/400\n",
            "9/9 [==============================] - 0s 4ms/step - loss: 6.6568 - val_loss: 44318.2930\n",
            "Epoch 361/400\n",
            "9/9 [==============================] - 0s 4ms/step - loss: 6.0726 - val_loss: 41887.7344\n",
            "Epoch 362/400\n",
            "9/9 [==============================] - 0s 4ms/step - loss: 6.7756 - val_loss: 43313.5234\n",
            "Epoch 363/400\n",
            "9/9 [==============================] - 0s 5ms/step - loss: 6.9219 - val_loss: 45766.4023\n",
            "Epoch 364/400\n",
            "9/9 [==============================] - 0s 4ms/step - loss: 7.6047 - val_loss: 44851.9961\n",
            "Epoch 365/400\n",
            "9/9 [==============================] - 0s 4ms/step - loss: 5.4312 - val_loss: 42828.5156\n",
            "Epoch 366/400\n",
            "9/9 [==============================] - 0s 4ms/step - loss: 6.0924 - val_loss: 42655.3945\n",
            "Epoch 367/400\n",
            "9/9 [==============================] - 0s 4ms/step - loss: 6.3609 - val_loss: 43046.0547\n",
            "Epoch 368/400\n",
            "9/9 [==============================] - 0s 4ms/step - loss: 5.7991 - val_loss: 41646.5391\n",
            "Epoch 369/400\n",
            "9/9 [==============================] - 0s 3ms/step - loss: 5.4550 - val_loss: 41642.5781\n",
            "Epoch 370/400\n",
            "9/9 [==============================] - 0s 4ms/step - loss: 6.1858 - val_loss: 43743.6445\n",
            "Epoch 371/400\n",
            "9/9 [==============================] - 0s 4ms/step - loss: 7.1476 - val_loss: 43109.0781\n",
            "Epoch 372/400\n",
            "9/9 [==============================] - 0s 4ms/step - loss: 6.2010 - val_loss: 41287.2109\n",
            "Epoch 373/400\n",
            "9/9 [==============================] - 0s 3ms/step - loss: 7.0618 - val_loss: 40529.1016\n",
            "Epoch 374/400\n",
            "9/9 [==============================] - 0s 3ms/step - loss: 6.3638 - val_loss: 40317.8867\n",
            "Epoch 375/400\n",
            "9/9 [==============================] - 0s 3ms/step - loss: 6.6354 - val_loss: 41079.1445\n",
            "Epoch 376/400\n",
            "9/9 [==============================] - 0s 3ms/step - loss: 5.3932 - val_loss: 41097.5156\n",
            "Epoch 377/400\n",
            "9/9 [==============================] - 0s 3ms/step - loss: 5.7419 - val_loss: 40221.8555\n",
            "Epoch 378/400\n",
            "9/9 [==============================] - 0s 3ms/step - loss: 5.6141 - val_loss: 41587.7695\n",
            "Epoch 379/400\n",
            "9/9 [==============================] - 0s 3ms/step - loss: 7.1613 - val_loss: 42785.9570\n",
            "Epoch 380/400\n",
            "9/9 [==============================] - 0s 3ms/step - loss: 6.2000 - val_loss: 42690.9609\n",
            "Epoch 381/400\n",
            "9/9 [==============================] - 0s 3ms/step - loss: 6.4935 - val_loss: 41297.9023\n",
            "Epoch 382/400\n",
            "9/9 [==============================] - 0s 4ms/step - loss: 6.7744 - val_loss: 41339.9375\n",
            "Epoch 383/400\n",
            "9/9 [==============================] - 0s 3ms/step - loss: 6.7342 - val_loss: 42058.5312\n",
            "Epoch 384/400\n",
            "9/9 [==============================] - 0s 3ms/step - loss: 6.3392 - val_loss: 40715.1562\n",
            "Epoch 385/400\n",
            "9/9 [==============================] - 0s 3ms/step - loss: 6.8675 - val_loss: 39953.1914\n",
            "Epoch 386/400\n",
            "9/9 [==============================] - 0s 3ms/step - loss: 6.2689 - val_loss: 41133.3359\n",
            "Epoch 387/400\n",
            "9/9 [==============================] - 0s 3ms/step - loss: 5.8571 - val_loss: 44053.1133\n",
            "Epoch 388/400\n",
            "9/9 [==============================] - 0s 3ms/step - loss: 5.4122 - val_loss: 44385.0000\n",
            "Epoch 389/400\n",
            "9/9 [==============================] - 0s 3ms/step - loss: 5.9252 - val_loss: 42248.3242\n",
            "Epoch 390/400\n",
            "9/9 [==============================] - 0s 4ms/step - loss: 5.8981 - val_loss: 42024.8945\n",
            "Epoch 391/400\n",
            "9/9 [==============================] - 0s 3ms/step - loss: 6.5593 - val_loss: 44325.9219\n",
            "Epoch 392/400\n",
            "9/9 [==============================] - 0s 3ms/step - loss: 5.6925 - val_loss: 43313.4219\n",
            "Epoch 393/400\n",
            "9/9 [==============================] - 0s 3ms/step - loss: 5.3471 - val_loss: 41528.2617\n",
            "Epoch 394/400\n",
            "9/9 [==============================] - 0s 3ms/step - loss: 5.9008 - val_loss: 41368.1562\n",
            "Epoch 395/400\n",
            "9/9 [==============================] - 0s 3ms/step - loss: 6.7154 - val_loss: 41797.1250\n",
            "Epoch 396/400\n",
            "9/9 [==============================] - 0s 3ms/step - loss: 6.9701 - val_loss: 40982.3477\n",
            "Epoch 397/400\n",
            "9/9 [==============================] - 0s 3ms/step - loss: 6.0596 - val_loss: 40422.2305\n",
            "Epoch 398/400\n",
            "9/9 [==============================] - 0s 3ms/step - loss: 5.0425 - val_loss: 39708.2383\n",
            "Epoch 399/400\n",
            "9/9 [==============================] - 0s 3ms/step - loss: 5.8428 - val_loss: 40977.5977\n",
            "Epoch 400/400\n",
            "9/9 [==============================] - 0s 4ms/step - loss: 5.3868 - val_loss: 43339.1172\n"
          ],
          "name": "stdout"
        },
        {
          "output_type": "execute_result",
          "data": {
            "text/plain": [
              "<tensorflow.python.keras.callbacks.History at 0x7efe19565b70>"
            ]
          },
          "metadata": {
            "tags": []
          },
          "execution_count": 203
        }
      ]
    },
    {
      "cell_type": "code",
      "metadata": {
        "id": "Op76p6DpiC-u",
        "colab_type": "code",
        "colab": {
          "base_uri": "https://localhost:8080/",
          "height": 1000
        },
        "outputId": "c8ee39d4-f569-4665-c4ef-f5a4cea5d3c6"
      },
      "source": [
        "ytest"
      ],
      "execution_count": null,
      "outputs": [
        {
          "output_type": "execute_result",
          "data": {
            "text/plain": [
              "array([[11],\n",
              "       [11],\n",
              "       [19],\n",
              "       [15],\n",
              "       [ 7],\n",
              "       [ 8],\n",
              "       [11],\n",
              "       [13],\n",
              "       [14],\n",
              "       [15],\n",
              "       [18],\n",
              "       [ 5],\n",
              "       [15],\n",
              "       [ 0],\n",
              "       [11],\n",
              "       [14],\n",
              "       [10],\n",
              "       [18],\n",
              "       [12],\n",
              "       [10],\n",
              "       [11],\n",
              "       [ 0],\n",
              "       [ 6],\n",
              "       [18],\n",
              "       [10],\n",
              "       [11],\n",
              "       [ 9],\n",
              "       [19],\n",
              "       [11],\n",
              "       [15],\n",
              "       [ 8],\n",
              "       [15],\n",
              "       [14],\n",
              "       [ 8],\n",
              "       [18],\n",
              "       [ 7],\n",
              "       [10],\n",
              "       [ 8],\n",
              "       [11],\n",
              "       [ 0],\n",
              "       [ 7],\n",
              "       [ 6],\n",
              "       [15],\n",
              "       [ 5],\n",
              "       [14],\n",
              "       [10],\n",
              "       [12],\n",
              "       [10],\n",
              "       [10],\n",
              "       [ 0],\n",
              "       [ 9],\n",
              "       [10],\n",
              "       [ 9],\n",
              "       [14],\n",
              "       [16],\n",
              "       [ 9],\n",
              "       [19],\n",
              "       [13],\n",
              "       [ 8],\n",
              "       [16],\n",
              "       [ 8],\n",
              "       [11],\n",
              "       [10],\n",
              "       [16],\n",
              "       [11],\n",
              "       [12],\n",
              "       [15],\n",
              "       [14],\n",
              "       [ 5],\n",
              "       [14],\n",
              "       [ 4],\n",
              "       [11],\n",
              "       [11],\n",
              "       [10],\n",
              "       [ 8],\n",
              "       [10],\n",
              "       [12],\n",
              "       [15],\n",
              "       [12],\n",
              "       [ 8],\n",
              "       [ 9],\n",
              "       [13],\n",
              "       [15],\n",
              "       [ 8],\n",
              "       [13],\n",
              "       [ 8],\n",
              "       [16],\n",
              "       [14],\n",
              "       [13],\n",
              "       [ 7],\n",
              "       [ 6],\n",
              "       [10],\n",
              "       [10],\n",
              "       [13],\n",
              "       [ 9],\n",
              "       [15],\n",
              "       [15],\n",
              "       [14],\n",
              "       [ 0],\n",
              "       [15],\n",
              "       [15],\n",
              "       [11],\n",
              "       [14],\n",
              "       [13],\n",
              "       [18],\n",
              "       [12],\n",
              "       [ 8],\n",
              "       [ 9],\n",
              "       [16],\n",
              "       [ 9],\n",
              "       [10],\n",
              "       [ 0],\n",
              "       [ 9],\n",
              "       [14],\n",
              "       [11],\n",
              "       [ 8],\n",
              "       [12],\n",
              "       [17],\n",
              "       [16]])"
            ]
          },
          "metadata": {
            "tags": []
          },
          "execution_count": 194
        }
      ]
    },
    {
      "cell_type": "code",
      "metadata": {
        "id": "ixpuSUEDiQXl",
        "colab_type": "code",
        "colab": {
          "base_uri": "https://localhost:8080/",
          "height": 1000
        },
        "outputId": "a5af1ac7-4b2e-4fe3-8c18-bffd3fce9c9a"
      },
      "source": [
        "model2.history.history"
      ],
      "execution_count": null,
      "outputs": [
        {
          "output_type": "execute_result",
          "data": {
            "text/plain": [
              "{'loss': [0.09089792519807816,\n",
              "  0.08099254965782166,\n",
              "  0.07176556438207626,\n",
              "  0.06798238307237625,\n",
              "  0.06287016719579697,\n",
              "  0.0590437650680542,\n",
              "  0.05758339911699295,\n",
              "  0.05224579572677612,\n",
              "  0.050158169120550156,\n",
              "  0.04891105368733406,\n",
              "  0.0478997565805912,\n",
              "  0.048218727111816406,\n",
              "  0.04265996813774109,\n",
              "  0.041826918721199036,\n",
              "  0.040228087455034256,\n",
              "  0.039680663496255875,\n",
              "  0.038346849381923676,\n",
              "  0.03465103730559349,\n",
              "  0.03778301551938057,\n",
              "  0.033216312527656555,\n",
              "  0.029972221702337265,\n",
              "  0.027658918872475624,\n",
              "  0.027008408680558205,\n",
              "  0.02476254664361477,\n",
              "  0.023502487689256668,\n",
              "  0.02397444099187851,\n",
              "  0.026473872363567352,\n",
              "  0.024035656824707985,\n",
              "  0.022371921688318253,\n",
              "  0.02089807204902172,\n",
              "  0.01942669041454792,\n",
              "  0.018047625198960304,\n",
              "  0.016325853765010834,\n",
              "  0.01518242433667183,\n",
              "  0.014770806767046452,\n",
              "  0.014179525896906853,\n",
              "  0.014230667613446712,\n",
              "  0.013903027400374413,\n",
              "  0.013179438188672066,\n",
              "  0.014031894505023956,\n",
              "  0.013424616307020187,\n",
              "  0.011241437867283821,\n",
              "  0.01128863450139761,\n",
              "  0.010722544975578785,\n",
              "  0.009621091187000275,\n",
              "  0.009029624983668327,\n",
              "  0.00856098160147667,\n",
              "  0.008697239682078362,\n",
              "  0.009440467692911625,\n",
              "  0.009779456071555614,\n",
              "  0.00870700553059578,\n",
              "  0.010458708740770817,\n",
              "  0.007798054721206427,\n",
              "  0.008364678360521793,\n",
              "  0.007300690282136202,\n",
              "  0.006254706531763077,\n",
              "  0.0058674318715929985,\n",
              "  0.005430155899375677,\n",
              "  0.0049756974913179874,\n",
              "  0.005145525559782982,\n",
              "  0.00625469209626317,\n",
              "  0.005483546759933233,\n",
              "  0.006149924825876951,\n",
              "  0.005588155705481768,\n",
              "  0.004814860876649618,\n",
              "  0.004009596537798643,\n",
              "  0.004019010346382856,\n",
              "  0.004159236792474985,\n",
              "  0.0034769338089972734,\n",
              "  0.0035546969156712294,\n",
              "  0.0032972709741443396,\n",
              "  0.0029888376593589783,\n",
              "  0.0028241679538041353,\n",
              "  0.002641031751409173,\n",
              "  0.002346901223063469,\n",
              "  0.0026820555794984102,\n",
              "  0.0024876389652490616,\n",
              "  0.002458109986037016,\n",
              "  0.0020219185389578342,\n",
              "  0.0019676806405186653,\n",
              "  0.0019446153892204165,\n",
              "  0.00211686035618186,\n",
              "  0.001887899823486805,\n",
              "  0.001910853199660778,\n",
              "  0.0018211249262094498,\n",
              "  0.0016608162550255656,\n",
              "  0.0015775390202179551,\n",
              "  0.0016998847713693976,\n",
              "  0.001399192726239562,\n",
              "  0.0015961307799443603,\n",
              "  0.0015070996014401317,\n",
              "  0.001370026613585651,\n",
              "  0.0014406524132937193,\n",
              "  0.0016196139622479677,\n",
              "  0.0011386749101802707,\n",
              "  0.001347720972262323,\n",
              "  0.0010591348400339484,\n",
              "  0.0009452063823118806,\n",
              "  0.0008886174764484167,\n",
              "  0.0007725597242824733,\n",
              "  0.0008343567023985088,\n",
              "  0.0007562186801806092,\n",
              "  0.0007050596177577972,\n",
              "  0.0007164640701375902,\n",
              "  0.0006349753821268678,\n",
              "  0.0006539399619214237,\n",
              "  0.0006701411912217736,\n",
              "  0.0005883452831767499,\n",
              "  0.0006543632480315864,\n",
              "  0.0007341119344346225,\n",
              "  0.0007179451640695333,\n",
              "  0.0006945224013179541,\n",
              "  0.0007051241700537503,\n",
              "  0.0006878729327581823,\n",
              "  0.0006693639443255961,\n",
              "  0.0005787621485069394,\n",
              "  0.0006198313203640282,\n",
              "  0.0006193262524902821,\n",
              "  0.000537409505341202,\n",
              "  0.0004594845522660762,\n",
              "  0.00035916216438636184,\n",
              "  0.0003475993871688843,\n",
              "  0.00037170457653701305,\n",
              "  0.0004174002096988261,\n",
              "  0.00034785715979523957,\n",
              "  0.0002848590665962547,\n",
              "  0.00022859909222461283,\n",
              "  0.00026084849378094077,\n",
              "  0.0002079660480376333,\n",
              "  0.0002541607536841184,\n",
              "  0.00020407592819537967,\n",
              "  0.0002672684786375612,\n",
              "  0.0002441204123897478,\n",
              "  0.00018111063400283456,\n",
              "  0.00023177449475042522,\n",
              "  0.00022578463540412486,\n",
              "  0.00022629796876572073,\n",
              "  0.00022955011809244752,\n",
              "  0.0002580999571364373,\n",
              "  0.00018869827908929437,\n",
              "  0.00020514923380687833,\n",
              "  0.00016984881949611008,\n",
              "  0.00014990883937571198,\n",
              "  0.00011773755977628753,\n",
              "  0.00014498236123472452,\n",
              "  0.0001371999242110178,\n",
              "  0.00012675090692937374,\n",
              "  0.00013021922495681792,\n",
              "  0.00012304361735004932,\n",
              "  9.385045996168628e-05,\n",
              "  0.00014736595039721578,\n",
              "  0.00017597342957742512,\n",
              "  0.00016644461720716208,\n",
              "  0.0001694792736088857,\n",
              "  0.00012786917795892805,\n",
              "  0.0001206055749207735,\n",
              "  0.00010127397399628535,\n",
              "  7.392549014184624e-05,\n",
              "  6.969387322897092e-05,\n",
              "  7.919693598523736e-05,\n",
              "  7.642279524588957e-05,\n",
              "  7.852061389712617e-05,\n",
              "  0.00012621957284864038,\n",
              "  0.0001751958770910278,\n",
              "  0.00016050516569521278,\n",
              "  0.00014307945093605667,\n",
              "  0.00016923146904446185,\n",
              "  0.00024590041721239686,\n",
              "  0.0002282526984345168,\n",
              "  0.00018833061039913446,\n",
              "  0.00014019617810845375,\n",
              "  0.00016536460316274315,\n",
              "  0.0001422305213054642,\n",
              "  0.00018099021690431982,\n",
              "  0.0002164435136364773,\n",
              "  0.00016295124078169465,\n",
              "  0.00011051930050598457,\n",
              "  0.00010898921027546749,\n",
              "  0.00012272351887077093,\n",
              "  0.00018030678620561957,\n",
              "  0.00018213035946246237,\n",
              "  0.00021366405417211354,\n",
              "  0.00018025015015155077,\n",
              "  0.0002945207816082984,\n",
              "  0.0005521249840967357,\n",
              "  0.0005113376537337899,\n",
              "  0.0006129136891104281,\n",
              "  0.0008312389836646616,\n",
              "  0.0011180998990312219,\n",
              "  0.0017971944762393832,\n",
              "  0.0013500637141987681,\n",
              "  0.0023472763132303953,\n",
              "  0.002999839372932911,\n",
              "  0.001869436353445053,\n",
              "  0.002914497395977378,\n",
              "  0.003095358842983842,\n",
              "  0.003194861812517047,\n",
              "  0.0034629683941602707,\n",
              "  0.003097196575254202,\n",
              "  0.003154984675347805,\n",
              "  0.0030990501400083303,\n",
              "  0.00450157979503274,\n",
              "  0.003958346322178841,\n",
              "  0.0039041219279170036,\n",
              "  0.005512692034244537,\n",
              "  0.004914788994938135,\n",
              "  0.006423561368137598,\n",
              "  0.006230802740901709,\n",
              "  0.006123433355242014,\n",
              "  0.004325866233557463,\n",
              "  0.00366408028639853,\n",
              "  0.004371171817183495,\n",
              "  0.004196038004010916,\n",
              "  0.0057094646617770195,\n",
              "  0.007398026529699564,\n",
              "  0.007427505683153868,\n",
              "  0.005063384305685759,\n",
              "  0.0055957967415452,\n",
              "  0.004725626204162836,\n",
              "  0.003545955289155245,\n",
              "  0.003094945801422,\n",
              "  0.0043570538982748985,\n",
              "  0.006224134471267462,\n",
              "  0.005784704815596342,\n",
              "  0.013559066690504551,\n",
              "  0.011892352253198624,\n",
              "  0.014064797200262547,\n",
              "  0.014677994884550571,\n",
              "  0.01625124365091324,\n",
              "  0.021258823573589325,\n",
              "  0.03378792479634285,\n",
              "  0.031014079228043556,\n",
              "  0.02667231857776642,\n",
              "  0.021556247025728226,\n",
              "  0.022646669298410416,\n",
              "  0.018809817731380463,\n",
              "  0.019318081438541412,\n",
              "  0.014266611076891422,\n",
              "  0.011524834670126438,\n",
              "  0.009326586499810219,\n",
              "  0.0061388337053358555,\n",
              "  0.005536283366382122,\n",
              "  0.005308312363922596,\n",
              "  0.0044014244340360165,\n",
              "  0.004759147763252258,\n",
              "  0.003772922558709979,\n",
              "  0.004075102973729372,\n",
              "  0.004254880361258984,\n",
              "  0.0036114549729973078,\n",
              "  0.0032437557820230722,\n",
              "  0.0030546386260539293,\n",
              "  0.003010173561051488,\n",
              "  0.003294613678008318,\n",
              "  0.003103263210505247,\n",
              "  0.0019018627936020494,\n",
              "  0.0011345979291945696,\n",
              "  0.0013862369814887643,\n",
              "  0.0009960547322407365,\n",
              "  0.0006476874114014208,\n",
              "  0.0006303685368038714,\n",
              "  0.0004365549248177558,\n",
              "  0.0002912735508289188,\n",
              "  0.00030129164224490523,\n",
              "  0.0002683759084902704,\n",
              "  0.00029435844044201076,\n",
              "  0.00029245857149362564,\n",
              "  0.0003356345114298165,\n",
              "  0.00032889359863474965,\n",
              "  0.00048583518946543336,\n",
              "  0.00035390027915127575,\n",
              "  0.0003392033977434039,\n",
              "  0.00030259773484431207,\n",
              "  0.0005488706519827247,\n",
              "  0.000517108419444412,\n",
              "  0.0008695352007634938,\n",
              "  0.0018095257692039013,\n",
              "  0.0014440068043768406,\n",
              "  0.0015497683780267835,\n",
              "  0.0016773634124547243,\n",
              "  0.0019031123956665397,\n",
              "  0.0015382148558273911,\n",
              "  0.0014411569572985172,\n",
              "  0.0019158563809469342,\n",
              "  0.002328423084691167,\n",
              "  0.0025250690523535013,\n",
              "  0.002368193119764328,\n",
              "  0.0027309341821819544,\n",
              "  0.00471105333417654,\n",
              "  0.008166834712028503,\n",
              "  0.006435866467654705,\n",
              "  0.004390859976410866,\n",
              "  0.003941493108868599,\n",
              "  0.0043217092752456665,\n",
              "  0.005869646091014147,\n",
              "  0.004188873339444399,\n",
              "  0.006947888992726803,\n",
              "  0.005348578095436096,\n",
              "  0.004615927115082741,\n",
              "  0.007661822717636824,\n",
              "  0.009430895559489727,\n",
              "  0.010111763142049313,\n",
              "  0.007798176724463701,\n",
              "  0.007265654858201742,\n",
              "  0.006442078854888678,\n",
              "  0.00422296579927206,\n",
              "  0.003197736106812954,\n",
              "  0.002799187321215868,\n",
              "  0.002991950372233987,\n",
              "  0.0024726635310798883,\n",
              "  0.0021269163116812706,\n",
              "  0.0021101883612573147,\n",
              "  0.002550770528614521,\n",
              "  0.0022915515583008528,\n",
              "  0.002683684229850769,\n",
              "  0.003530311631038785,\n",
              "  0.0038699659053236246,\n",
              "  0.003464141394942999,\n",
              "  0.0023076799698174,\n",
              "  0.002650444395840168,\n",
              "  0.003883396042510867,\n",
              "  0.005735394544899464,\n",
              "  0.0055203852243721485,\n",
              "  0.007810420822352171,\n",
              "  0.010639368556439877,\n",
              "  0.010273954831063747,\n",
              "  0.013966888189315796,\n",
              "  0.018869586288928986,\n",
              "  0.0220829788595438,\n",
              "  0.01879720762372017,\n",
              "  0.015183418057858944,\n",
              "  0.014153284020721912,\n",
              "  0.014392578974366188,\n",
              "  0.013251198455691338,\n",
              "  0.02108805440366268,\n",
              "  0.016061313450336456,\n",
              "  0.021824607625603676,\n",
              "  0.025360336527228355,\n",
              "  0.02512226067483425,\n",
              "  0.018651973456144333,\n",
              "  0.015009175054728985,\n",
              "  0.017709987238049507,\n",
              "  0.013615879230201244,\n",
              "  0.013165459036827087,\n",
              "  0.01349758729338646,\n",
              "  0.010793371126055717,\n",
              "  0.013448553159832954,\n",
              "  0.013753983192145824,\n",
              "  0.012559532187879086,\n",
              "  0.01047021895647049,\n",
              "  0.009761321358382702,\n",
              "  0.006351092830300331,\n",
              "  0.003358481451869011,\n",
              "  0.0033097302075475454,\n",
              "  0.005035893060266972,\n",
              "  0.00532266590744257,\n",
              "  0.004325010813772678,\n",
              "  0.0029718505684286356,\n",
              "  0.0023462397512048483,\n",
              "  0.0018839307595044374,\n",
              "  0.0014808301348239183,\n",
              "  0.0012514804257079959,\n",
              "  0.00101316103246063,\n",
              "  0.0008462916593998671,\n",
              "  0.0010395613498985767,\n",
              "  0.001979593187570572,\n",
              "  0.0029130910988897085,\n",
              "  0.005751692224293947,\n",
              "  0.004983799997717142,\n",
              "  0.00569971464574337,\n",
              "  0.00581320421770215,\n",
              "  0.004669571295380592,\n",
              "  0.005177698563784361,\n",
              "  0.005086338147521019,\n",
              "  0.0054889884777367115,\n",
              "  0.006112666334956884,\n",
              "  0.00735015794634819,\n",
              "  0.007636221591383219,\n",
              "  0.011240698397159576,\n",
              "  0.014998896978795528,\n",
              "  0.012113519012928009,\n",
              "  0.013078693300485611,\n",
              "  0.017513368278741837,\n",
              "  0.013054144568741322,\n",
              "  0.009138124994933605,\n",
              "  0.008439379744231701,\n",
              "  0.01054786890745163,\n",
              "  0.008195644244551659,\n",
              "  0.008003080263733864,\n",
              "  0.011267862282693386,\n",
              "  0.014634386636316776,\n",
              "  0.017226768657565117,\n",
              "  0.010492170229554176,\n",
              "  0.010356533341109753,\n",
              "  0.013180190697312355,\n",
              "  0.020029114559292793,\n",
              "  0.019290322437882423,\n",
              "  0.020520968362689018,\n",
              "  0.021870318800210953,\n",
              "  0.01956542767584324,\n",
              "  0.021976133808493614],\n",
              " 'val_loss': [30711.20703125,\n",
              "  30678.568359375,\n",
              "  30929.07421875,\n",
              "  30794.416015625,\n",
              "  30744.912109375,\n",
              "  30545.2265625,\n",
              "  30473.681640625,\n",
              "  30523.78125,\n",
              "  30429.89453125,\n",
              "  30431.259765625,\n",
              "  30268.650390625,\n",
              "  30275.47265625,\n",
              "  30215.984375,\n",
              "  30146.345703125,\n",
              "  30195.134765625,\n",
              "  30143.154296875,\n",
              "  30134.9921875,\n",
              "  29987.744140625,\n",
              "  29961.29296875,\n",
              "  30168.982421875,\n",
              "  30040.46875,\n",
              "  29962.697265625,\n",
              "  30023.13671875,\n",
              "  29837.8828125,\n",
              "  29828.6875,\n",
              "  29693.376953125,\n",
              "  29678.330078125,\n",
              "  29688.982421875,\n",
              "  29706.0546875,\n",
              "  29707.427734375,\n",
              "  29653.1171875,\n",
              "  29677.97265625,\n",
              "  29769.859375,\n",
              "  29594.478515625,\n",
              "  29527.119140625,\n",
              "  29748.126953125,\n",
              "  29693.880859375,\n",
              "  29706.328125,\n",
              "  29712.1953125,\n",
              "  29717.765625,\n",
              "  29717.4375,\n",
              "  29668.859375,\n",
              "  29680.787109375,\n",
              "  29572.76953125,\n",
              "  29531.564453125,\n",
              "  29513.974609375,\n",
              "  29610.18359375,\n",
              "  29556.83203125,\n",
              "  29564.650390625,\n",
              "  29393.490234375,\n",
              "  29408.546875,\n",
              "  29381.69140625,\n",
              "  29242.810546875,\n",
              "  29421.8671875,\n",
              "  29325.87890625,\n",
              "  29382.3046875,\n",
              "  29348.802734375,\n",
              "  29364.244140625,\n",
              "  29382.095703125,\n",
              "  29245.767578125,\n",
              "  29345.15625,\n",
              "  29461.498046875,\n",
              "  29443.533203125,\n",
              "  29325.109375,\n",
              "  29239.80859375,\n",
              "  29384.015625,\n",
              "  29320.08984375,\n",
              "  29296.982421875,\n",
              "  29250.77734375,\n",
              "  29249.279296875,\n",
              "  29217.05078125,\n",
              "  29219.4140625,\n",
              "  29212.89453125,\n",
              "  29174.533203125,\n",
              "  29255.453125,\n",
              "  29214.029296875,\n",
              "  29213.8984375,\n",
              "  29190.251953125,\n",
              "  29220.267578125,\n",
              "  29186.646484375,\n",
              "  29204.703125,\n",
              "  29174.2265625,\n",
              "  29197.3984375,\n",
              "  29226.1484375,\n",
              "  29197.294921875,\n",
              "  29175.38671875,\n",
              "  29139.48828125,\n",
              "  29118.287109375,\n",
              "  29178.01171875,\n",
              "  29152.1875,\n",
              "  29115.060546875,\n",
              "  29113.240234375,\n",
              "  29102.62890625,\n",
              "  29125.37890625,\n",
              "  29083.0078125,\n",
              "  29128.091796875,\n",
              "  29091.59375,\n",
              "  29109.224609375,\n",
              "  29091.591796875,\n",
              "  29068.7109375,\n",
              "  29058.4765625,\n",
              "  29059.333984375,\n",
              "  29039.9453125,\n",
              "  29100.61328125,\n",
              "  29047.01953125,\n",
              "  29083.626953125,\n",
              "  29013.10546875,\n",
              "  29054.15625,\n",
              "  29095.71875,\n",
              "  29038.98046875,\n",
              "  29049.865234375,\n",
              "  29041.564453125,\n",
              "  29027.9765625,\n",
              "  29069.5390625,\n",
              "  29003.775390625,\n",
              "  29045.912109375,\n",
              "  29028.966796875,\n",
              "  29041.04296875,\n",
              "  29051.466796875,\n",
              "  28982.283203125,\n",
              "  29046.482421875,\n",
              "  29022.802734375,\n",
              "  29023.642578125,\n",
              "  29030.830078125,\n",
              "  28994.171875,\n",
              "  29019.65625,\n",
              "  28993.71484375,\n",
              "  28998.8828125,\n",
              "  28993.572265625,\n",
              "  28985.87890625,\n",
              "  28988.8671875,\n",
              "  28984.517578125,\n",
              "  28999.25,\n",
              "  28983.587890625,\n",
              "  28974.830078125,\n",
              "  28977.798828125,\n",
              "  28974.912109375,\n",
              "  28968.595703125,\n",
              "  28961.890625,\n",
              "  28958.865234375,\n",
              "  28952.08203125,\n",
              "  28973.939453125,\n",
              "  28944.421875,\n",
              "  28990.72265625,\n",
              "  28926.150390625,\n",
              "  28993.576171875,\n",
              "  28938.55078125,\n",
              "  28983.025390625,\n",
              "  28946.66796875,\n",
              "  28970.546875,\n",
              "  28949.203125,\n",
              "  28972.244140625,\n",
              "  28950.498046875,\n",
              "  28960.962890625,\n",
              "  28942.65625,\n",
              "  28942.69140625,\n",
              "  28946.951171875,\n",
              "  28962.392578125,\n",
              "  28945.693359375,\n",
              "  28943.373046875,\n",
              "  28943.28125,\n",
              "  28935.41796875,\n",
              "  28943.591796875,\n",
              "  28956.751953125,\n",
              "  28919.037109375,\n",
              "  28943.8671875,\n",
              "  28920.826171875,\n",
              "  28930.142578125,\n",
              "  28946.89453125,\n",
              "  28918.201171875,\n",
              "  28934.41796875,\n",
              "  28932.77734375,\n",
              "  28926.931640625,\n",
              "  28955.9921875,\n",
              "  28913.345703125,\n",
              "  28975.734375,\n",
              "  28912.5546875,\n",
              "  28938.8359375,\n",
              "  28955.080078125,\n",
              "  28891.751953125,\n",
              "  28948.685546875,\n",
              "  28927.451171875,\n",
              "  28908.083984375,\n",
              "  28945.626953125,\n",
              "  28939.03515625,\n",
              "  28949.76953125,\n",
              "  28940.529296875,\n",
              "  28938.380859375,\n",
              "  28844.380859375,\n",
              "  28965.83203125,\n",
              "  28906.408203125,\n",
              "  28818.115234375,\n",
              "  29009.498046875,\n",
              "  28812.474609375,\n",
              "  29005.873046875,\n",
              "  28832.021484375,\n",
              "  28888.814453125,\n",
              "  28840.22265625,\n",
              "  28941.953125,\n",
              "  29015.546875,\n",
              "  28997.083984375,\n",
              "  28926.82421875,\n",
              "  29001.873046875,\n",
              "  28908.73046875,\n",
              "  28956.732421875,\n",
              "  28848.51171875,\n",
              "  28959.767578125,\n",
              "  28866.734375,\n",
              "  28842.72265625,\n",
              "  29069.244140625,\n",
              "  28821.61328125,\n",
              "  28954.087890625,\n",
              "  28897.83984375,\n",
              "  29101.244140625,\n",
              "  29081.4609375,\n",
              "  29068.0,\n",
              "  28886.427734375,\n",
              "  29009.240234375,\n",
              "  29084.595703125,\n",
              "  28904.85546875,\n",
              "  28960.09375,\n",
              "  28843.0078125,\n",
              "  29160.98828125,\n",
              "  28624.193359375,\n",
              "  29257.599609375,\n",
              "  28712.83984375,\n",
              "  29157.171875,\n",
              "  28807.27734375,\n",
              "  28751.3046875,\n",
              "  29146.828125,\n",
              "  28548.361328125,\n",
              "  29463.451171875,\n",
              "  28993.3359375,\n",
              "  28938.50390625,\n",
              "  29138.455078125,\n",
              "  28950.431640625,\n",
              "  29100.828125,\n",
              "  28725.74609375,\n",
              "  29140.693359375,\n",
              "  29329.306640625,\n",
              "  28962.21875,\n",
              "  29336.8359375,\n",
              "  28942.759765625,\n",
              "  29200.474609375,\n",
              "  28961.494140625,\n",
              "  28984.88671875,\n",
              "  29147.748046875,\n",
              "  29008.8125,\n",
              "  29268.734375,\n",
              "  28958.310546875,\n",
              "  29281.953125,\n",
              "  28981.28125,\n",
              "  29211.576171875,\n",
              "  29070.025390625,\n",
              "  29122.384765625,\n",
              "  29172.697265625,\n",
              "  28995.052734375,\n",
              "  29175.193359375,\n",
              "  29040.580078125,\n",
              "  29135.583984375,\n",
              "  29047.5625,\n",
              "  29065.412109375,\n",
              "  29090.009765625,\n",
              "  29082.44140625,\n",
              "  29102.765625,\n",
              "  29053.416015625,\n",
              "  29110.142578125,\n",
              "  29142.44140625,\n",
              "  29099.9921875,\n",
              "  29080.87890625,\n",
              "  29059.302734375,\n",
              "  29024.115234375,\n",
              "  29064.8828125,\n",
              "  29071.720703125,\n",
              "  29097.240234375,\n",
              "  29021.6484375,\n",
              "  29107.44921875,\n",
              "  29071.6640625,\n",
              "  29168.638671875,\n",
              "  29020.630859375,\n",
              "  29072.294921875,\n",
              "  29018.31640625,\n",
              "  29011.33203125,\n",
              "  28991.06640625,\n",
              "  29098.5625,\n",
              "  28997.212890625,\n",
              "  28940.130859375,\n",
              "  28909.50390625,\n",
              "  29083.029296875,\n",
              "  29069.978515625,\n",
              "  29032.453125,\n",
              "  29156.939453125,\n",
              "  28772.271484375,\n",
              "  29186.775390625,\n",
              "  29262.419921875,\n",
              "  29148.525390625,\n",
              "  28889.16015625,\n",
              "  28909.603515625,\n",
              "  28952.611328125,\n",
              "  29108.150390625,\n",
              "  29043.509765625,\n",
              "  28999.580078125,\n",
              "  29331.140625,\n",
              "  29078.548828125,\n",
              "  29011.927734375,\n",
              "  28957.0390625,\n",
              "  28957.703125,\n",
              "  29001.37109375,\n",
              "  29209.310546875,\n",
              "  28894.138671875,\n",
              "  29105.9140625,\n",
              "  28964.9140625,\n",
              "  29045.630859375,\n",
              "  28997.55078125,\n",
              "  29086.015625,\n",
              "  29034.28125,\n",
              "  29091.44140625,\n",
              "  29119.767578125,\n",
              "  29070.583984375,\n",
              "  29131.056640625,\n",
              "  28975.0078125,\n",
              "  28767.353515625,\n",
              "  29066.142578125,\n",
              "  28968.34375,\n",
              "  28975.634765625,\n",
              "  29170.283203125,\n",
              "  29479.388671875,\n",
              "  28983.658203125,\n",
              "  29220.8828125,\n",
              "  29297.365234375,\n",
              "  28894.828125,\n",
              "  29347.283203125,\n",
              "  28647.75,\n",
              "  29516.705078125,\n",
              "  28510.599609375,\n",
              "  28857.1015625,\n",
              "  28906.05078125,\n",
              "  29109.966796875,\n",
              "  29053.390625,\n",
              "  29321.43359375,\n",
              "  28850.595703125,\n",
              "  29223.888671875,\n",
              "  29120.171875,\n",
              "  29091.52734375,\n",
              "  29025.083984375,\n",
              "  29077.12109375,\n",
              "  29251.626953125,\n",
              "  29060.83203125,\n",
              "  29218.404296875,\n",
              "  28747.75390625,\n",
              "  28999.66015625,\n",
              "  29045.349609375,\n",
              "  29027.357421875,\n",
              "  29054.466796875,\n",
              "  28815.25,\n",
              "  29086.67578125,\n",
              "  28999.685546875,\n",
              "  28977.734375,\n",
              "  29009.806640625,\n",
              "  29015.982421875,\n",
              "  29117.203125,\n",
              "  29011.44140625,\n",
              "  28974.701171875,\n",
              "  29234.62890625,\n",
              "  29064.44921875,\n",
              "  29137.681640625,\n",
              "  28868.568359375,\n",
              "  29017.185546875,\n",
              "  28934.34375,\n",
              "  28987.7734375,\n",
              "  29183.966796875,\n",
              "  28973.748046875,\n",
              "  29133.037109375,\n",
              "  29082.87890625,\n",
              "  29152.81640625,\n",
              "  29114.0234375,\n",
              "  29288.591796875,\n",
              "  29199.185546875,\n",
              "  29132.076171875,\n",
              "  28950.685546875,\n",
              "  29156.21875,\n",
              "  29198.0625,\n",
              "  28841.390625,\n",
              "  28995.318359375,\n",
              "  28764.740234375,\n",
              "  28925.44921875,\n",
              "  28741.087890625,\n",
              "  29269.34375,\n",
              "  29017.197265625,\n",
              "  29065.642578125,\n",
              "  28768.740234375,\n",
              "  28852.576171875,\n",
              "  28845.70703125,\n",
              "  29543.248046875,\n",
              "  29362.966796875,\n",
              "  28582.7421875,\n",
              "  29014.359375,\n",
              "  28591.328125,\n",
              "  28950.66015625,\n",
              "  28688.2109375]}"
            ]
          },
          "metadata": {
            "tags": []
          },
          "execution_count": 197
        }
      ]
    },
    {
      "cell_type": "code",
      "metadata": {
        "id": "TZi_7W2li8NW",
        "colab_type": "code",
        "colab": {}
      },
      "source": [
        "from tensorflow.keras.callbacks import EarlyStopping"
      ],
      "execution_count": null,
      "outputs": []
    },
    {
      "cell_type": "code",
      "metadata": {
        "id": "BfCrzs_ZkUAM",
        "colab_type": "code",
        "colab": {}
      },
      "source": [
        "cb = EarlyStopping(monitor='val_loss',mode='min')"
      ],
      "execution_count": null,
      "outputs": []
    },
    {
      "cell_type": "code",
      "metadata": {
        "id": "TlwL750fkdFR",
        "colab_type": "code",
        "colab": {
          "base_uri": "https://localhost:8080/",
          "height": 974
        },
        "outputId": "cfcc55b1-786f-4d7c-9906-aecb88ea9ed9"
      },
      "source": [
        "models.fit(Xtrain,ytrain,epochs=400,validation_data=(Xtest,ytest),callbacks=[cb])"
      ],
      "execution_count": null,
      "outputs": [
        {
          "output_type": "stream",
          "text": [
            "Epoch 1/400\n",
            "9/9 [==============================] - 0s 15ms/step - loss: 126.0219 - val_loss: 139.2072\n",
            "Epoch 2/400\n",
            "9/9 [==============================] - 0s 4ms/step - loss: 125.3366 - val_loss: 138.7588\n",
            "Epoch 3/400\n",
            "9/9 [==============================] - 0s 4ms/step - loss: 124.7685 - val_loss: 138.4657\n",
            "Epoch 4/400\n",
            "9/9 [==============================] - 0s 3ms/step - loss: 124.6098 - val_loss: 138.1287\n",
            "Epoch 5/400\n",
            "9/9 [==============================] - 0s 4ms/step - loss: 123.7004 - val_loss: 137.7040\n",
            "Epoch 6/400\n",
            "9/9 [==============================] - 0s 4ms/step - loss: 123.0331 - val_loss: 137.1693\n",
            "Epoch 7/400\n",
            "9/9 [==============================] - 0s 4ms/step - loss: 123.4487 - val_loss: 136.6163\n",
            "Epoch 8/400\n",
            "9/9 [==============================] - 0s 3ms/step - loss: 122.2280 - val_loss: 135.9882\n",
            "Epoch 9/400\n",
            "9/9 [==============================] - 0s 4ms/step - loss: 121.9253 - val_loss: 135.0753\n",
            "Epoch 10/400\n",
            "9/9 [==============================] - 0s 4ms/step - loss: 121.5319 - val_loss: 134.0409\n",
            "Epoch 11/400\n",
            "9/9 [==============================] - 0s 3ms/step - loss: 121.3913 - val_loss: 132.8955\n",
            "Epoch 12/400\n",
            "9/9 [==============================] - 0s 3ms/step - loss: 120.4089 - val_loss: 131.5530\n",
            "Epoch 13/400\n",
            "9/9 [==============================] - 0s 3ms/step - loss: 120.4541 - val_loss: 129.7486\n",
            "Epoch 14/400\n",
            "9/9 [==============================] - 0s 3ms/step - loss: 118.0239 - val_loss: 126.8448\n",
            "Epoch 15/400\n",
            "9/9 [==============================] - 0s 3ms/step - loss: 117.1576 - val_loss: 122.3083\n",
            "Epoch 16/400\n",
            "9/9 [==============================] - 0s 4ms/step - loss: 116.8902 - val_loss: 117.0741\n",
            "Epoch 17/400\n",
            "9/9 [==============================] - 0s 4ms/step - loss: 113.5445 - val_loss: 109.5382\n",
            "Epoch 18/400\n",
            "9/9 [==============================] - 0s 4ms/step - loss: 111.5597 - val_loss: 97.5124\n",
            "Epoch 19/400\n",
            "9/9 [==============================] - 0s 3ms/step - loss: 108.4781 - val_loss: 81.4861\n",
            "Epoch 20/400\n",
            "9/9 [==============================] - 0s 3ms/step - loss: 108.0016 - val_loss: 63.7632\n",
            "Epoch 21/400\n",
            "9/9 [==============================] - 0s 3ms/step - loss: 103.1257 - val_loss: 44.9903\n",
            "Epoch 22/400\n",
            "9/9 [==============================] - 0s 6ms/step - loss: 106.8517 - val_loss: 39.3823\n",
            "Epoch 23/400\n",
            "9/9 [==============================] - 0s 4ms/step - loss: 100.6072 - val_loss: 37.1631\n",
            "Epoch 24/400\n",
            "9/9 [==============================] - 0s 5ms/step - loss: 106.0261 - val_loss: 36.6447\n",
            "Epoch 25/400\n",
            "9/9 [==============================] - 0s 4ms/step - loss: 99.4320 - val_loss: 36.3294\n",
            "Epoch 26/400\n",
            "9/9 [==============================] - 0s 4ms/step - loss: 100.2715 - val_loss: 31.6624\n",
            "Epoch 27/400\n",
            "9/9 [==============================] - 0s 4ms/step - loss: 101.6700 - val_loss: 27.4238\n",
            "Epoch 28/400\n",
            "9/9 [==============================] - 0s 4ms/step - loss: 106.1121 - val_loss: 27.6350\n"
          ],
          "name": "stdout"
        },
        {
          "output_type": "execute_result",
          "data": {
            "text/plain": [
              "<tensorflow.python.keras.callbacks.History at 0x7efe1603d748>"
            ]
          },
          "metadata": {
            "tags": []
          },
          "execution_count": 232
        }
      ]
    },
    {
      "cell_type": "code",
      "metadata": {
        "id": "pWEeSEPBkomg",
        "colab_type": "code",
        "colab": {}
      },
      "source": [
        "losses = pd.DataFrame(models.history.history,columns=['loss','val_loss'])"
      ],
      "execution_count": null,
      "outputs": []
    },
    {
      "cell_type": "code",
      "metadata": {
        "id": "d9TpOMnHkyR4",
        "colab_type": "code",
        "colab": {
          "base_uri": "https://localhost:8080/",
          "height": 504
        },
        "outputId": "5edc703f-2be9-40a5-f028-d1c46bdba56d"
      },
      "source": [
        "losses.head"
      ],
      "execution_count": null,
      "outputs": [
        {
          "output_type": "execute_result",
          "data": {
            "text/plain": [
              "<bound method NDFrame.head of           loss    val_loss\n",
              "0   126.021927  139.207153\n",
              "1   125.336647  138.758804\n",
              "2   124.768456  138.465714\n",
              "3   124.609802  138.128708\n",
              "4   123.700378  137.704041\n",
              "5   123.033104  137.169327\n",
              "6   123.448723  136.616257\n",
              "7   122.227989  135.988220\n",
              "8   121.925301  135.075287\n",
              "9   121.531898  134.040924\n",
              "10  121.391251  132.895493\n",
              "11  120.408867  131.552963\n",
              "12  120.454147  129.748611\n",
              "13  118.023857  126.844849\n",
              "14  117.157623  122.308311\n",
              "15  116.890213  117.074051\n",
              "16  113.544518  109.538162\n",
              "17  111.559708   97.512375\n",
              "18  108.478096   81.486099\n",
              "19  108.001640   63.763214\n",
              "20  103.125740   44.990284\n",
              "21  106.851746   39.382252\n",
              "22  100.607155   37.163086\n",
              "23  106.026077   36.644726\n",
              "24   99.432014   36.329422\n",
              "25  100.271515   31.662434\n",
              "26  101.669983   27.423820\n",
              "27  106.112122   27.635046>"
            ]
          },
          "metadata": {
            "tags": []
          },
          "execution_count": 236
        }
      ]
    },
    {
      "cell_type": "code",
      "metadata": {
        "id": "fJSCwd0KmS41",
        "colab_type": "code",
        "colab": {
          "base_uri": "https://localhost:8080/",
          "height": 118
        },
        "outputId": "d84251d8-6f0e-4377-c223-caadc6157a33"
      },
      "source": [
        "losses['loss'].head()"
      ],
      "execution_count": null,
      "outputs": [
        {
          "output_type": "execute_result",
          "data": {
            "text/plain": [
              "0    126.021927\n",
              "1    125.336647\n",
              "2    124.768456\n",
              "3    124.609802\n",
              "4    123.700378\n",
              "Name: loss, dtype: float64"
            ]
          },
          "metadata": {
            "tags": []
          },
          "execution_count": 237
        }
      ]
    },
    {
      "cell_type": "code",
      "metadata": {
        "id": "NH4mc4r2mewo",
        "colab_type": "code",
        "colab": {
          "base_uri": "https://localhost:8080/",
          "height": 282
        },
        "outputId": "ff909213-896e-4746-ca17-7d6ef409cae9"
      },
      "source": [
        "plt.plot(range(1,29),losses['loss'])\n",
        "plt.plot(range(1,29),losses['val_loss'])"
      ],
      "execution_count": null,
      "outputs": [
        {
          "output_type": "execute_result",
          "data": {
            "text/plain": [
              "[<matplotlib.lines.Line2D at 0x7efe15b482e8>]"
            ]
          },
          "metadata": {
            "tags": []
          },
          "execution_count": 238
        },
        {
          "output_type": "display_data",
          "data": {
            "image/png": "[encoded data removed]",
            "text/plain": [
              "<Figure size 432x288 with 1 Axes>"
            ]
          },
          "metadata": {
            "tags": [],
            "needs_background": "light"
          }
        }
      ]
    },
    {
      "cell_type": "code",
      "metadata": {
        "id": "V15yrEA8mvzQ",
        "colab_type": "code",
        "colab": {}
      },
      "source": [
        ""
      ],
      "execution_count": null,
      "outputs": []
    }
  ]
}